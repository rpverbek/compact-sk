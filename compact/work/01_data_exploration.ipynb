{
 "cells": [
  {
   "cell_type": "markdown",
   "metadata": {},
   "source": [
    "# PHM North America challenge '23\n",
    "\n",
    "# Data Exploration\n",
    "\n",
    "## Problem description: Gear pitting\n",
    "\n",
    "Gear pitting is a surface fatigue failure of the gear tooth. It occurs due to repeated loading of tooth surface and the contact stress exceeding the surface fatigue strength of the material. Material in the fatigue region gets removed and a pit is formed. The pit itself will cause stress concentration and soon the pitting spreads to adjacent region till the whole surface is covered [[source](https://gearsmechon.wordpress.com/pitting-of-gears/)].\n",
    "\n",
    "## Dataset description\n",
    "\n",
    "The **training** dataset includes measurements under varied operating conditions from a healthy state as well as six known fault levels. The **testing and validation** datasets contain data from eleven health levels. Data from some fault levels and operating conditions are excluded from the training datasets to mirror real-world conditions where data collection may only be available from a subset of full range of operation. The training data are collected from a range of different operating conditions under 15 different rotational speeds and 6 different torque levels. Test and validation data operating conditions span 18 different rotational speeds and 6 different torque levels.\n",
    "\n",
    "[[source](https://data.phmsociety.org/phm2023-conference-data-challenge/)]\n",
    "\n",
    "<img src=\"https://data.phmsociety.org/wp-content/uploads/sites/9/2023/06/PHM2023dc_fig1.png\" alt=\"MarineGEO circle logo\" style=\"height: 375px; width:800px;\"/>\n",
    "\n",
    "<img src=\"https://data.phmsociety.org/wp-content/uploads/sites/9/2023/06/PHM2023dc_fig2.png\" alt=\"MarineGEO circle logo\" style=\"height: 300px; width:800px;\"/>\n",
    "\n"
   ]
  },
  {
   "cell_type": "code",
   "execution_count": null,
   "metadata": {},
   "outputs": [],
   "source": [
    "%load_ext autoreload\n",
    "%autoreload 2\n",
    "\n",
    "from conscious_engie_icare.viz.spectrogram import plot_stft, plot_periodogram, plot_welch\n",
    "from conscious_engie_icare.data.phm_data_handler import BASE_PATH_HEALTHY, FILE_NAMES_HEALTHY, load_train_data, \\\n",
    "    fetch_and_unzip_data, extract_process_parameters, load_data, load_cached_data\n",
    "\n",
    "import os\n",
    "import pandas as pd\n",
    "import glob\n",
    "from tqdm import tqdm\n",
    "import plotly.express as px\n",
    "import matplotlib.pyplot as plt\n",
    "import seaborn as sns\n",
    "import string\n",
    "import pickle\n",
    "from umap import UMAP\n",
    "import plotly.express as px\n",
    "from sklearn.preprocessing import MinMaxScaler\n",
    "import pandas as pd\n",
    "import numpy as np\n",
    "from sklearn.metrics import roc_curve, auc\n",
    "import matplotlib.pyplot as plt"
   ]
  },
  {
   "cell_type": "markdown",
   "metadata": {},
   "source": [
    "We first load the data and examine the structure of the dataset.\n",
    "The academic dataset consists of 7 folders (`Pitting_degradation_level_<level>`)."
   ]
  },
  {
   "cell_type": "code",
   "execution_count": null,
   "metadata": {},
   "outputs": [],
   "source": [
    "fetch_and_unzip_data()"
   ]
  },
  {
   "cell_type": "markdown",
   "metadata": {},
   "source": [
    "# Vibration data\n",
    "\n",
    "First we load the vibration dataset and examine a single vibration entry. \n",
    "For each vibration measurement there are triaxial time-domain vibration measurements available (`x`, `y` and `z`) in addition to the actual rpm (`tachometer`)."
   ]
  },
  {
   "cell_type": "code",
   "execution_count": null,
   "metadata": {},
   "outputs": [],
   "source": [
    "rpm = 100\n",
    "torque = 500\n",
    "run = 1\n",
    "df_example = load_train_data(rpm, torque, run)\n",
    "print(f\"A single sample (rpm={rpm}, torque={torque}, run={run}) has the following shape:\")\n",
    "print(df_example.shape)\n",
    "\n",
    "fig, axes = plt.subplots(1, 3, figsize=(15, 5))\n",
    "for var, ax in zip(['x', 'y', 'z'], axes):\n",
    "    ax.plot(df_example[var], label=var)\n",
    "    ax.set_title(var)\n",
    "    ax.legend()"
   ]
  },
  {
   "cell_type": "markdown",
   "metadata": {},
   "source": [
    "## STFT\n",
    "\n",
    "Vibration Sampling Frequency = 20480 Hz [[source](https://data.phmsociety.org/phm2023-conference-data-challenge/)].\n",
    "\n",
    "The STFT divides the signal into overlapping segments and calculates a Fourier Transform for each segment.\n",
    "It provides a localized view on the signal which is particularly useful for signals where the frequency components change over the measurement period."
   ]
  },
  {
   "cell_type": "code",
   "execution_count": null,
   "metadata": {},
   "outputs": [],
   "source": [
    "plot_stft(df_example, 'z', nperseg=None, fs=20480)"
   ]
  },
  {
   "cell_type": "markdown",
   "metadata": {},
   "source": [
    "As we expect that within each measurement there are no changes in the frequency components, we also check the periodogram below."
   ]
  },
  {
   "cell_type": "markdown",
   "metadata": {},
   "source": [
    "## Spectral density estimation\n",
    "\n",
    "A periodogram is an estimate of the spectral density of a signal [[source](https://en.wikipedia.org/wiki/Periodogram)].\n",
    "We use Welch's method.\n",
    "**The primary idea behind Welch's method is to divide the original signal into overlapping segments, calculate the periodogram for each segment, and then average these periodograms to obtain a more stable estimate of the PSD.** This approach helps to reduce the variance and noise inherent in the standard periodogram."
   ]
  },
  {
   "cell_type": "code",
   "execution_count": null,
   "metadata": {},
   "outputs": [],
   "source": [
    "rpm=200\n",
    "torque=300\n",
    "run=3\n",
    "\n",
    "df_example = load_train_data(rpm=rpm, torque=torque, run=run)\n",
    "plot_welch(df_example, 'x', nperseg=128, fs=20480)\n",
    "plot_welch(df_example, 'y', nperseg=128, fs=20480)\n",
    "plot_welch(df_example, 'z', nperseg=128, fs=20480)\n",
    "plt.title(f'Measurement {run} @ {rpm} rpm, {torque} Nm');\n",
    "plt.legend(['x', 'y', 'z'], title='Direction');"
   ]
  },
  {
   "cell_type": "markdown",
   "metadata": {},
   "source": [
    "## Process parameters\n",
    "\n",
    "In contrast to the industrial feedwater pump use case, **operating conditions are very stable in the given dataset**.\n",
    "Therefore, clustering of operating modes based on a separate set of process paramters is not necessary."
   ]
  },
  {
   "cell_type": "code",
   "execution_count": null,
   "metadata": {},
   "outputs": [],
   "source": [
    "data = []\n",
    "for file_path in FILE_NAMES_HEALTHY:\n",
    "    v_value, n_value, sample_number = extract_process_parameters(file_path)\n",
    "    data.append({\n",
    "        'V': v_value,  # Remove the 'V' prefix and convert to integer\n",
    "        'N': n_value,  # Remove the 'N' suffix and convert to integer\n",
    "        'SampleNumber': sample_number  # Remove the '.txt' extension and convert to integer\n",
    "    })\n",
    "\n",
    "df_process = pd.DataFrame(data)\n",
    "\n",
    "print(\"--- Healthy data (pitting level 0) ---\")\n",
    "print(f\"Number of samples: {len(df_process)}\")\n",
    "print(f\"Number of unique RPM values: {len(df_process['V'].unique())}\")\n",
    "print(f\"Number of unique torque values: {len(df_process['N'].unique())}\")\n",
    "print(f\"Number of unique sample numbers: {len(df_process['SampleNumber'].unique())}\")\n",
    "df_process.head()"
   ]
  },
  {
   "cell_type": "markdown",
   "metadata": {},
   "source": [
    "There are 77 unique combinations of rotational speed and torque in the training dataset.\n",
    "Each combination has 1-5 samples."
   ]
  },
  {
   "cell_type": "code",
   "execution_count": null,
   "metadata": {},
   "outputs": [],
   "source": [
    "# get the unique number of combinations of RPM and torque\n",
    "df_runs = df_process.groupby(['V', 'N']).size().reset_index(name='counts')\n",
    "df_runs.head()"
   ]
  },
  {
   "cell_type": "markdown",
   "metadata": {},
   "source": [
    "©, 2023, Sirris"
   ]
  }
 ],
 "metadata": {
  "language_info": {
   "name": "python",
   "pygments_lexer": "ipython3"
  }
 },
 "nbformat": 4,
 "nbformat_minor": 2
}

{
 "cells": [
  {
   "cell_type": "markdown",
   "metadata": {},
   "source": [
    "# Notes and TODOs \n",
    "\n",
    "**FFNG: I ~striked~ comments that I adressed.**\n",
    "\n",
    "- Sometimes, we repeat the explanation of certain aspects\n",
    "- The explanation of the windowing is unclear / Multiple different steps are referred to as windowing at the same time. Possibly, it will be necessary to update the Methodology figure from the paper.\n",
    "- Run spell checker\n",
    "- Double check figure terms to see if they align with the text"
   ]
  },
  {
   "cell_type": "code",
   "execution_count": 1,
   "metadata": {},
   "outputs": [],
   "source": [
    "%load_ext autoreload\n",
    "%autoreload 2\n",
    "# The autoreload can be removed at the end?\n",
    "from conscious_engie_icare.data.phm_data_handler import CACHING_FOLDER_NAME, fetch_and_unzip_data, \\\n",
    "                                                        load_data, BASE_PATH_HEALTHY, BASE_PATHS_TEST, PITTING_LEVELS, \\\n",
    "                                                        FPATH_DISTANCES, load_train_data\n",
    "from conscious_engie_icare.nmf_profiling import extract_nmf_per_number_of_component, extract_nmf_incremental, \\\n",
    "                                                derive_df_vib, derive_df_orders, get_df_W_offline_and_online, \\\n",
    "                                                calculate_distances_per_measurement_period\n",
    "\n",
    "from conscious_engie_icare.viz.viz import illustrate_nmf_components_for_paper, illustrate_nmf_components_interactive, show_fingerprints, \\\n",
    "                                          plot_example_interactive, plot_distances_interactive\n",
    "from conscious_engie_icare import distance_metrics\n",
    "from conscious_engie_icare.normalization import normalize_1\n",
    "from conscious_engie_icare.util import calculate_roc_characteristics, calc_tpr_at_fpr_threshold, calc_fpr_at_tpr_threshold, get_operating_modes\n",
    "from conscious_engie_icare.preprocessing import get_and_preprocess_healthy_data, get_and_preprocess_unhealthy_data\n",
    "import pickle\n",
    "import os\n",
    "import string\n",
    "import glob\n",
    "from tqdm import tqdm\n",
    "from copy import deepcopy\n",
    "import re\n",
    "import math\n",
    "import pandas as pd\n",
    "import numpy as np\n",
    "\n",
    "from scipy.cluster.hierarchy import dendrogram, linkage, fcluster\n",
    "from scipy.spatial.distance import pdist\n",
    "import kneed\n",
    "from sklearn.decomposition import PCA\n",
    "from sklearn.preprocessing import MinMaxScaler\n",
    "\n",
    "import matplotlib.pyplot as plt\n",
    "import seaborn as sns\n",
    "from matplotlib.colors import LogNorm\n",
    "import matplotlib.patches as patches\n",
    "from matplotlib.gridspec import GridSpec\n",
    "\n",
    "from ipywidgets import interact, Layout\n",
    "import ipywidgets as widgets\n",
    "from IPython.display import Markdown as md\n",
    "\n",
    "# ignore convergence warnings (1000 iterations reached by NMF)\n",
    "import warnings;\n",
    "warnings.filterwarnings('ignore');"
   ]
  },
  {
   "cell_type": "markdown",
   "metadata": {},
   "source": [
    "> Robbert, eventually the notebook needs to be colab-complaint. Check the other notebook online. Eg: https://colab.research.google.com/github/EluciDATALab/elucidatalab.starterkits/blob/main/notebooks/SK_1_2_1_Remaining_Useful_Life_Prediction/elucidata_starterkit_1_2_1.ipynb#scrollTo=1GiwjNjlhc0Y"
   ]
  },
  {
   "cell_type": "markdown",
   "metadata": {},
   "source": [
    "# Starter Kit 2: Contextual Performance Profiling and Anomaly Detection\n",
    "\n",
    "> ToDo: make clear that Anomaly Detection and Performance Profiling has their own code section.\n",
    "\n",
    "\n",
    "## Business context\n",
    "Industry 4.0 leverages on the advanced AI technologies to enable anomaly detection and performance profiling of industrial assets operating in different contexts. Context is defined by both internal and external factors, such as operational conditions, environmental variables, and usage patterns. For this reason, context-aware methods are fundamental to identify anomalies and to ensure accurate and reliable asset profiling. These methods allow for real-time monitoring and enable enhanced performance and reduce downtime of assets\n",
    "\n",
    "## Business goal\n",
    "\n",
    "The business goal related to this Starter Kit (SK) is to illustrate a data-driven methodology to identify anomalies and profile the performance of assets operating in different contexts, i.e. in terms of process measurements reflecting the internal operations of the asset.\n",
    "As data-driven methodology, this SK focuses on the methodology developped by Fingerhut et al. [1, 2]. Conventional anomaly detection methods often detect anomalies when the operating conditions change, rendering them less applicable for real-world dynamic industrial use cases. In contrast, the methodology presented in this starterkit is suitable for these scenarios, because it considers the dynamic nature of operating conditions.\n",
    "\n",
    "> ~[Fabian, can you complete? You can reformulate the entire sentence trying to highlight why your method is worth/convinient for real industrial scenarios --> FFNG: I reformulated the sentence.] [FFNG: I added a section in the end with the reference to the two papers.]~\n",
    "\n",
    "## Application contexts\n",
    "\n",
    "Contextual anomaly detection and performance profiling play a relevant role in a variety of industrial contexts such as: \n",
    "\n",
    "- Raise warnings to anticipate and avoid safety-critical conditions \n",
    "\n",
    "- Alert the need for inspection to avoid possible downtime and cost corrective maintenance \n",
    "\n",
    "- Performance benchmarking \n",
    "\n",
    "## Data characteristics and requirements\n",
    "To showcase the SK, a dataset is required that includes: \n",
    "\n",
    "- The vibration frequency captured by asset sensors. The captured vibration need to be related to the health state of the assets. \n",
    "- Parameters related to the internal operations of the asset."
   ]
  },
  {
   "cell_type": "markdown",
   "metadata": {},
   "source": [
    "## Starter Kit outline\n",
    "\n",
    "\n",
    "> ALE: do an iteration\n",
    "> \n",
    "The SK is organized in the following sections:\n",
    "1. Background. This section provides the knowledge required to fully understand the terminology used in the rest of the document. \n",
    "1. Data understanding.\n",
    "   * Data description\n",
    "   * Preprocessing. This section describes how the raw data is prepared for the analysis\n",
    "\n",
    "1. Methodology. This section illustrates how the methodology introduced by Fingerhut et al. [add reference] can be used for performance profiling and anomaly detection of assets/\n",
    "    * Offline phase\n",
    "    * Online phase\n",
    "1. Conclusions\n",
    "\n",
    "> Preprocessing should be part of section DataUnderstanding\n",
    "\n",
    "At the end of the SK you will know how to: \n",
    "\n",
    "- Develop a model for anomaly detection and performance profiling \n",
    "\n",
    "- Experimentally validate the resulting model and objectively compare it with other approaches \n",
    "\n",
    "- Get insights from your dataset. We will present visual and numerical techniques in order to explore your data for identifying interesting patterns [I don't think we do this. What's your opinion Robbert and Fabian? ]\n"
   ]
  },
  {
   "cell_type": "markdown",
   "metadata": {},
   "source": [
    "## 1. Background\n",
    "\n",
    "> Ale: Complete\n",
    ">  \n",
    "- **anomaly**: ...\n",
    "- **operating mode**. An asset can operate in different contexts which can influence its behavior. We refer to these context-dependent behaviors as operating modes. ~As example we can imagine a waterpump which operates in two modes: normal and throttle. These two modes can be isolated analzying the context, i.e. the level of water flow. [AMUR: This example is ok, however, could you make one fitting the gearbox to be more alligned with the use case?] [FFNG: see next sentence for example with gearboxes].~ As an example we can imagine a gearbox that operates in two modes: normal and throttle. These two modes can be isolated analzying the context, specifically the rotation speed of the gears. In throttle mode, the gearbox would operate under a reduced load, which would be indicated by a low rotational speed. \n",
    "- **operating and performance views**. The operating view is composed of the parameters capturing the operating context (e.g. rotation speed, torque). The performance view is composed of the parameters monitoring the performance behaviour (e.g. vibrations)."
   ]
  },
  {
   "cell_type": "markdown",
   "metadata": {},
   "source": [
    "## 2. Data understanding \n",
    "\n",
    "### 2.1 Data description\n",
    "\n",
    "The dataset we will use in this Starter Kit come from the [PHM North America challenge '23](https://data.phmsociety.org/phm2023-conference-data-challenge/). This dataset collect the time series data from a gearbox subject to pitting, i.e. a fatigue failure of the gear tooth.\n",
    "This dataset includes measurements under varied operating conditions from a healthy state as well as six known fault levels. The training data are collected from a range of different operating conditions under 15 different rotational speeds and 6 different torque levels.  For each operating condition, 5 vibration measurements were collected. \n",
    "The vibration data is given in the time domain with a sampling rate of 20480Hz. The sampling duration differs between 3 seconds and 12 seconds. For each vibration measurement there are triaxial time-domain vibration measurements available (x, y and z). Below, we visualize a vibration measurement in the three directions, as given by PHM North America. [FFNG: In its current form, it might not be entirely clear how different vibration directions are handled. --> Need to go over that.]\n",
    "\n",
    "[[source](https://data.phmsociety.org/phm2023-conference-data-challenge/)]\n",
    "\n",
    "<img src=\"https://data.phmsociety.org/wp-content/uploads/sites/9/2023/06/PHM2023dc_fig1.png\" alt=\"MarineGEO circle logo\" style=\"height: 375px; width:800px;\"/>"
   ]
  },
  {
   "cell_type": "code",
   "execution_count": 2,
   "metadata": {},
   "outputs": [
    {
     "data": {
      "application/vnd.jupyter.widget-view+json": {
       "model_id": "6357bfc500474227b6bf7b29d5d187d1",
       "version_major": 2,
       "version_minor": 0
      },
      "text/plain": [
       "interactive(children=(Dropdown(description='Chose the context', layout=Layout(width='60%'), options=(('RMP 100…"
      ]
     },
     "metadata": {},
     "output_type": "display_data"
    }
   ],
   "source": [
    "plot_example_interactive()"
   ]
  },
  {
   "cell_type": "markdown",
   "metadata": {},
   "source": [
    "### 2.2 Preprocessing\n",
    "\n",
    "### Creation of training and testing set.\n",
    "\n",
    "Splitting the dataset in training and testing is a common activity for validating the machine learning models. The training dataset is used to prepare a model, i.e. to train it, whereas the testing dataset is used to evaluate the performance of the model.\n",
    "In our case, training and a test set are based on splitting the vibration measurements. More specifically, a random sample of 75% of the original data recorded under normal (= healthy) condition is used for training whereas the remaining 25% is used for testing.  In the rest of the document, we will only refer to this split to analyze the performance of the methodology for the sake of the computational time. On the other hand, to have more reliable results, multiple splits should be performed, i.e. multiple random samples should be extracted for the training and testing set. The interested reader can refer to Fabian et al. [2] to see the results when 100 random splits are generated.\n",
    "\n",
    "\n",
    "\n",
    "The test set is then created by combining:\n",
    "1. **Normal condition**: The 25% healthy data that was held back (not used in the training set)\n",
    "2. **Anomaly condition**: Vibration data characterized by pitting level 1-8 (two more than in the training set). For each level of pitting, there are between 267 and 304 samples in the test set that were recorded at different speeds and torques. \n",
    "\n",
    "The figure below illustrates the train-test split.\n",
    "\n",
    "<img src=\"figures/overview_train-test-split.png\" alt=\"Overview train-test split\" style=\"width:1000px;\"/>\n",
    "\n",
    "Furthermore, combinations of rotational speed X and torque Y are excluded from the test set, if they do not occur in the training set [**FFNG: Added this sentence. (21.08.)**]."
   ]
  },
  {
   "cell_type": "markdown",
   "metadata": {},
   "source": [
    "As next step, we preprepare the original data in the training set for the analysis.\n",
    "- The **time series data** is transformed in frequency-bands. Typically, a frequency band expresses vibration behaviour in a specific range of frequencies (measured in Hertz [Hz]). We define a frequency-band in terms of \"orders\". Whereas a frequency measured in Hz captures the number of events per second, \"orders\" capture the number of events per revolution of the rotating element. Therefore, the order-transformation essentially standardizes the data. This step is important and a common preprocessing step in prognostics and health management. For details, the interested reader is referred to the vibration alignment section of Fingerhut et al. [1]. All order-transformed vibration measurements are organized in a matrix which we call **performance matrix V**.\n",
    "- Meta data. The meta data contains the parameters at which the vibrations were measured:\n",
    "    - The torque expresses the rotational force in terms of Newton meter.\n",
    "    - The rotation speed expresses, how fast the gearbox is rotation in terms of revolutions per minute."
   ]
  },
  {
   "cell_type": "markdown",
   "metadata": {},
   "source": [
    "A brief excerpt of the **performance matrix V** is shown below."
   ]
  },
  {
   "cell_type": "code",
   "execution_count": 3,
   "metadata": {},
   "outputs": [
    {
     "data": {
      "text/html": [
       "<div>\n",
       "<style scoped>\n",
       "    .dataframe tbody tr th:only-of-type {\n",
       "        vertical-align: middle;\n",
       "    }\n",
       "\n",
       "    .dataframe tbody tr th {\n",
       "        vertical-align: top;\n",
       "    }\n",
       "\n",
       "    .dataframe thead th {\n",
       "        text-align: right;\n",
       "    }\n",
       "</style>\n",
       "<table border=\"1\" class=\"dataframe\">\n",
       "  <thead>\n",
       "    <tr style=\"text-align: right;\">\n",
       "      <th></th>\n",
       "      <th>band_0.5-2.5</th>\n",
       "      <th>band_2.5-4.5</th>\n",
       "      <th>band_4.5-6.5</th>\n",
       "      <th>band_6.5-8.5</th>\n",
       "      <th>band_8.5-10.5</th>\n",
       "      <th>band_10.5-12.5</th>\n",
       "      <th>band_12.5-14.5</th>\n",
       "      <th>band_14.5-16.5</th>\n",
       "      <th>band_16.5-18.5</th>\n",
       "      <th>band_18.5-20.5</th>\n",
       "      <th>...</th>\n",
       "      <th>band_80.5-82.5</th>\n",
       "      <th>band_82.5-84.5</th>\n",
       "      <th>band_84.5-86.5</th>\n",
       "      <th>band_86.5-88.5</th>\n",
       "      <th>band_88.5-90.5</th>\n",
       "      <th>band_90.5-92.5</th>\n",
       "      <th>band_92.5-94.5</th>\n",
       "      <th>band_94.5-96.5</th>\n",
       "      <th>band_96.5-98.5</th>\n",
       "      <th>band_98.5-100.5</th>\n",
       "    </tr>\n",
       "    <tr>\n",
       "      <th>index</th>\n",
       "      <th></th>\n",
       "      <th></th>\n",
       "      <th></th>\n",
       "      <th></th>\n",
       "      <th></th>\n",
       "      <th></th>\n",
       "      <th></th>\n",
       "      <th></th>\n",
       "      <th></th>\n",
       "      <th></th>\n",
       "      <th></th>\n",
       "      <th></th>\n",
       "      <th></th>\n",
       "      <th></th>\n",
       "      <th></th>\n",
       "      <th></th>\n",
       "      <th></th>\n",
       "      <th></th>\n",
       "      <th></th>\n",
       "      <th></th>\n",
       "      <th></th>\n",
       "    </tr>\n",
       "  </thead>\n",
       "  <tbody>\n",
       "    <tr>\n",
       "      <th>0</th>\n",
       "      <td>0.000083</td>\n",
       "      <td>0.001135</td>\n",
       "      <td>0.000332</td>\n",
       "      <td>0.000749</td>\n",
       "      <td>0.001604</td>\n",
       "      <td>0.001779</td>\n",
       "      <td>0.002436</td>\n",
       "      <td>0.000905</td>\n",
       "      <td>0.003705</td>\n",
       "      <td>0.000203</td>\n",
       "      <td>...</td>\n",
       "      <td>0.002588</td>\n",
       "      <td>0.004577</td>\n",
       "      <td>0.005826</td>\n",
       "      <td>0.001566</td>\n",
       "      <td>0.003492</td>\n",
       "      <td>0.019335</td>\n",
       "      <td>0.006759</td>\n",
       "      <td>0.009075</td>\n",
       "      <td>0.004589</td>\n",
       "      <td>0.005449</td>\n",
       "    </tr>\n",
       "    <tr>\n",
       "      <th>1</th>\n",
       "      <td>0.000030</td>\n",
       "      <td>0.000419</td>\n",
       "      <td>0.000701</td>\n",
       "      <td>0.000212</td>\n",
       "      <td>0.000586</td>\n",
       "      <td>0.000226</td>\n",
       "      <td>0.000414</td>\n",
       "      <td>0.000210</td>\n",
       "      <td>0.000723</td>\n",
       "      <td>0.000209</td>\n",
       "      <td>...</td>\n",
       "      <td>0.003337</td>\n",
       "      <td>0.007597</td>\n",
       "      <td>0.015687</td>\n",
       "      <td>0.003851</td>\n",
       "      <td>0.010378</td>\n",
       "      <td>0.018125</td>\n",
       "      <td>0.005149</td>\n",
       "      <td>0.002389</td>\n",
       "      <td>0.001015</td>\n",
       "      <td>0.001774</td>\n",
       "    </tr>\n",
       "    <tr>\n",
       "      <th>2</th>\n",
       "      <td>0.000092</td>\n",
       "      <td>0.000264</td>\n",
       "      <td>0.000134</td>\n",
       "      <td>0.000106</td>\n",
       "      <td>0.001203</td>\n",
       "      <td>0.000446</td>\n",
       "      <td>0.018651</td>\n",
       "      <td>0.012879</td>\n",
       "      <td>0.029916</td>\n",
       "      <td>0.006926</td>\n",
       "      <td>...</td>\n",
       "      <td>0.010886</td>\n",
       "      <td>0.011106</td>\n",
       "      <td>0.026134</td>\n",
       "      <td>0.009216</td>\n",
       "      <td>0.017948</td>\n",
       "      <td>0.095809</td>\n",
       "      <td>0.018065</td>\n",
       "      <td>0.016754</td>\n",
       "      <td>0.004955</td>\n",
       "      <td>0.003817</td>\n",
       "    </tr>\n",
       "    <tr>\n",
       "      <th>3</th>\n",
       "      <td>0.001093</td>\n",
       "      <td>0.000285</td>\n",
       "      <td>0.000084</td>\n",
       "      <td>0.000135</td>\n",
       "      <td>0.000072</td>\n",
       "      <td>0.000105</td>\n",
       "      <td>0.000596</td>\n",
       "      <td>0.002880</td>\n",
       "      <td>0.000250</td>\n",
       "      <td>0.000562</td>\n",
       "      <td>...</td>\n",
       "      <td>0.039877</td>\n",
       "      <td>0.013978</td>\n",
       "      <td>0.009773</td>\n",
       "      <td>0.006686</td>\n",
       "      <td>0.010765</td>\n",
       "      <td>0.014013</td>\n",
       "      <td>0.009631</td>\n",
       "      <td>0.006961</td>\n",
       "      <td>0.002484</td>\n",
       "      <td>0.007278</td>\n",
       "    </tr>\n",
       "    <tr>\n",
       "      <th>4</th>\n",
       "      <td>0.001949</td>\n",
       "      <td>0.000557</td>\n",
       "      <td>0.000211</td>\n",
       "      <td>0.000272</td>\n",
       "      <td>0.000150</td>\n",
       "      <td>0.000162</td>\n",
       "      <td>0.000396</td>\n",
       "      <td>0.009223</td>\n",
       "      <td>0.000645</td>\n",
       "      <td>0.002202</td>\n",
       "      <td>...</td>\n",
       "      <td>0.016658</td>\n",
       "      <td>0.007494</td>\n",
       "      <td>0.015543</td>\n",
       "      <td>0.010917</td>\n",
       "      <td>0.013567</td>\n",
       "      <td>0.012068</td>\n",
       "      <td>0.006568</td>\n",
       "      <td>0.004345</td>\n",
       "      <td>0.002025</td>\n",
       "      <td>0.003673</td>\n",
       "    </tr>\n",
       "  </tbody>\n",
       "</table>\n",
       "<p>5 rows × 50 columns</p>\n",
       "</div>"
      ],
      "text/plain": [
       "       band_0.5-2.5  band_2.5-4.5  band_4.5-6.5  band_6.5-8.5  band_8.5-10.5  \\\n",
       "index                                                                          \n",
       "0          0.000083      0.001135      0.000332      0.000749       0.001604   \n",
       "1          0.000030      0.000419      0.000701      0.000212       0.000586   \n",
       "2          0.000092      0.000264      0.000134      0.000106       0.001203   \n",
       "3          0.001093      0.000285      0.000084      0.000135       0.000072   \n",
       "4          0.001949      0.000557      0.000211      0.000272       0.000150   \n",
       "\n",
       "       band_10.5-12.5  band_12.5-14.5  band_14.5-16.5  band_16.5-18.5  \\\n",
       "index                                                                   \n",
       "0            0.001779        0.002436        0.000905        0.003705   \n",
       "1            0.000226        0.000414        0.000210        0.000723   \n",
       "2            0.000446        0.018651        0.012879        0.029916   \n",
       "3            0.000105        0.000596        0.002880        0.000250   \n",
       "4            0.000162        0.000396        0.009223        0.000645   \n",
       "\n",
       "       band_18.5-20.5  ...  band_80.5-82.5  band_82.5-84.5  band_84.5-86.5  \\\n",
       "index                  ...                                                   \n",
       "0            0.000203  ...        0.002588        0.004577        0.005826   \n",
       "1            0.000209  ...        0.003337        0.007597        0.015687   \n",
       "2            0.006926  ...        0.010886        0.011106        0.026134   \n",
       "3            0.000562  ...        0.039877        0.013978        0.009773   \n",
       "4            0.002202  ...        0.016658        0.007494        0.015543   \n",
       "\n",
       "       band_86.5-88.5  band_88.5-90.5  band_90.5-92.5  band_92.5-94.5  \\\n",
       "index                                                                   \n",
       "0            0.001566        0.003492        0.019335        0.006759   \n",
       "1            0.003851        0.010378        0.018125        0.005149   \n",
       "2            0.009216        0.017948        0.095809        0.018065   \n",
       "3            0.006686        0.010765        0.014013        0.009631   \n",
       "4            0.010917        0.013567        0.012068        0.006568   \n",
       "\n",
       "       band_94.5-96.5  band_96.5-98.5  band_98.5-100.5  \n",
       "index                                                   \n",
       "0            0.009075        0.004589         0.005449  \n",
       "1            0.002389        0.001015         0.001774  \n",
       "2            0.016754        0.004955         0.003817  \n",
       "3            0.006961        0.002484         0.007278  \n",
       "4            0.004345        0.002025         0.003673  \n",
       "\n",
       "[5 rows x 50 columns]"
      ]
     },
     "execution_count": 3,
     "metadata": {},
     "output_type": "execute_result"
    }
   ],
   "source": [
    "# Here we need something to showcase how the training and testing dataset looks like (columns, their meaning, etc)\n",
    "df_V_train, meta_data_train, df_data_healthy_test, f = get_and_preprocess_healthy_data()\n",
    "df_orders_test, meta_data_test = get_and_preprocess_unhealthy_data(df_data_healthy_test, f)\n",
    "\n",
    "# extract list of frequency band columns for later usage\n",
    "cols_ = df_V_train.columns\n",
    "BAND_COLS = cols_[cols_.str.contains('band')].tolist()\n",
    "\n",
    "df_V_train.head()"
   ]
  },
  {
   "cell_type": "markdown",
   "metadata": {},
   "source": [
    "The matrix above has n columns which represent vibration measurements and m rows which represent the frequency bins. "
   ]
  },
  {
   "cell_type": "markdown",
   "metadata": {},
   "source": [
    "Next, we illustrate the corresponding meta data, consisting of the previously described process parameters `rotational speed [RPM]` and `torque [Nm]`, and some additional information regarding the vibration measurement direction (`direction`) and sample ids (`sample_id` and `unique_sample_id`). Each row corresponds to the same row in the performance matrix. For instance, the very first measurement contains vibrations recorded at 100 RPM and 300 NM, for the vibration measurement direction x.\n",
    "\n",
    "~> Fabian, inform the reader of how many modes exists --> FFNG: added text box below.~"
   ]
  },
  {
   "cell_type": "code",
   "execution_count": 4,
   "metadata": {},
   "outputs": [
    {
     "data": {
      "text/html": [
       "<div>\n",
       "<style scoped>\n",
       "    .dataframe tbody tr th:only-of-type {\n",
       "        vertical-align: middle;\n",
       "    }\n",
       "\n",
       "    .dataframe tbody tr th {\n",
       "        vertical-align: top;\n",
       "    }\n",
       "\n",
       "    .dataframe thead th {\n",
       "        text-align: right;\n",
       "    }\n",
       "</style>\n",
       "<table border=\"1\" class=\"dataframe\">\n",
       "  <thead>\n",
       "    <tr style=\"text-align: right;\">\n",
       "      <th></th>\n",
       "      <th>rotational speed [RPM]</th>\n",
       "      <th>torque [Nm]</th>\n",
       "      <th>direction</th>\n",
       "      <th>sample_id</th>\n",
       "      <th>unique_sample_id</th>\n",
       "    </tr>\n",
       "  </thead>\n",
       "  <tbody>\n",
       "    <tr>\n",
       "      <th>0</th>\n",
       "      <td>3000</td>\n",
       "      <td>50</td>\n",
       "      <td>psd_x</td>\n",
       "      <td>4</td>\n",
       "      <td>3000_50_4</td>\n",
       "    </tr>\n",
       "    <tr>\n",
       "      <th>1</th>\n",
       "      <td>3000</td>\n",
       "      <td>50</td>\n",
       "      <td>psd_y</td>\n",
       "      <td>4</td>\n",
       "      <td>3000_50_4</td>\n",
       "    </tr>\n",
       "    <tr>\n",
       "      <th>2</th>\n",
       "      <td>3000</td>\n",
       "      <td>50</td>\n",
       "      <td>psd_z</td>\n",
       "      <td>4</td>\n",
       "      <td>3000_50_4</td>\n",
       "    </tr>\n",
       "    <tr>\n",
       "      <th>3</th>\n",
       "      <td>400</td>\n",
       "      <td>100</td>\n",
       "      <td>psd_x</td>\n",
       "      <td>2</td>\n",
       "      <td>400_100_2</td>\n",
       "    </tr>\n",
       "    <tr>\n",
       "      <th>4</th>\n",
       "      <td>400</td>\n",
       "      <td>100</td>\n",
       "      <td>psd_y</td>\n",
       "      <td>2</td>\n",
       "      <td>400_100_2</td>\n",
       "    </tr>\n",
       "  </tbody>\n",
       "</table>\n",
       "</div>"
      ],
      "text/plain": [
       "   rotational speed [RPM]  torque [Nm] direction  sample_id unique_sample_id\n",
       "0                    3000           50     psd_x          4        3000_50_4\n",
       "1                    3000           50     psd_y          4        3000_50_4\n",
       "2                    3000           50     psd_z          4        3000_50_4\n",
       "3                     400          100     psd_x          2        400_100_2\n",
       "4                     400          100     psd_y          2        400_100_2"
      ]
     },
     "execution_count": 4,
     "metadata": {},
     "output_type": "execute_result"
    }
   ],
   "source": [
    "meta_data_train.head()"
   ]
  },
  {
   "cell_type": "markdown",
   "metadata": {},
   "source": [
    "The number of operating modes is given by the unique combinations of `rotational speed [RPM]` and `torque [Nm]`. There are 76 unique operating modes."
   ]
  },
  {
   "cell_type": "code",
   "execution_count": 5,
   "metadata": {},
   "outputs": [
    {
     "data": {
      "text/markdown": [
       "There are 76 unique operating modes."
      ],
      "text/plain": [
       "<IPython.core.display.Markdown object>"
      ]
     },
     "metadata": {},
     "output_type": "display_data"
    }
   ],
   "source": [
    "n_oms = len(meta_data_train['unique_sample_id'].str[:-2].unique())\n",
    "display(md(f'There are {n_oms} unique operating modes.'))"
   ]
  },
  {
   "attachments": {},
   "cell_type": "markdown",
   "metadata": {},
   "source": [
    "## 3. Methodology\n",
    "\n",
    "The methodology can be divided in the offline and online phases. The offline phase focuses on performance profiling. More specifically, the operating modes of healthy assets are extracted and mapped to the expected performances. The online phase focuses on anomaly detection by exploiting the performance profiles extracted in the previous phase.\n"
   ]
  },
  {
   "cell_type": "markdown",
   "metadata": {},
   "source": [
    "### 3.1 Offline phase\n",
    "\n",
    "The general workflow of the offline phase is reported in the figure below.\n",
    "\n",
    "\n",
    "\n",
    "> ToDo: Quality Check: At the end, verify that terms and symbols in this figure can be mapped with the figure. If not, either change the figure, either extend the text\n",
    "\n",
    "<img src=\"figures/overview_offline-phase.png\" alt=\"Overview offline phase\" style=\"width:800px;\"/>\n",
    "\n",
    "> ToDo: to improve the understandability of the online part we described before hand the main steps.  -> To improve the layout, this short summary of steps should also be presented in the offline phase. Eventually, each step should be report (paying attention to right indentation). The text that follows will be then pushed to the right subsub section\n",
    "\n",
    "\n",
    "This phase can be divided in N steps (See Figure above). The main goals of these phases can be summarized as follow:\n",
    "1. Extraction of performance ~fingerprints~ behaviour. ~For each context, based gearbox speed and torque, the expected performance behavior in extracted.~ [**FFNG: I think there is a misunderstanding in terms of the term *fingerprint*: For me, a performance fingerprint is the end product of step 3: For each operating mode, there should be exactly one fingerprint that describes the vibration behaviour at that specific operating mode. Step 1 on the other hand discusses performance *behaviour*. We are at this stage not taking the operating mode into account yet (hence also no arrow form step 2 to 1). Instead, we are simply performing an NMF to capture the overall behaviour of the vibration signal and to remove the underlying noise.)**] Characterize the high-dimensional vibration signal in terms of few vibration components that capture the fundamental vibration behaviour.\n",
    "2. Extraction operating modes. To each time stamp an operating mode is associated based on the context.\n",
    "\n",
    "> Fabian, did you notice that in the offline phase you first extract the performance fingerprints and then the operating mode whereas in the online phase do invert these two steps. Ideally, we should have had the same order. Is this possible that for SCANIA you keep the same order offline and online?\n",
    "\n",
    "3. Link operating modes to performance ~fingerprint/~behaviour. For each operating mode a performance fingerprint is associated.\n",
    "\n",
    "> Fabian, how come that for the offline phase, you need a step to connect OM to performance fingerprint. Whereas in the online phase this link is (AFAIK) embedded in the derivation of the performance fingerprint. [**--> FFNG: (1) I think this is a misunderstanding that I refered to in my comment in step 1. Fingerprints are the expected vibration behaviour per operating mode. Hence, in the online phase, we do not need to extract fingerprints. (2) We still need to link the vibration profiles to the operating modes somewhere in the online phase. This is not part of the deviation of performance profiles (step 6), but implicitly part of estimating the fingerprint offset (step 7).**]\n",
    "\n",
    "\n",
    "\n",
    "#### Extraction of performance fingerprints\n",
    "\n",
    "In this step, we extract for each asset its characteristic **performance fingerprints**, i.e. its expected performance behavior in a specific context. Fingerprints are extracted by applying a _non-negative matrix factorization_ (NMF) [3] to the performance matrix V. The NMF method approximates a given matrix with two lower-dimensional matrices. The approximation contains the essential information about the asset's performance. Hence, NMF reveals underlying patterns in the performance data by representing it in a simpler form. \n",
    "\n",
    "> From the performance matrix, it is possible to highlight similarities across asset performance. \n",
    "\n",
    "We apply NMF to decompose the matrix V into a separate weight matrix $\\mathbf{W}$ and a component matrix $\\mathbf{H}$, i.e., $\\mathbf{V} \\approx \\mathbf{W} \\times \\mathbf{H}$.\n",
    "Compared to other decomposition methods, NMF has the advantage that due to the entirely positive values, $\\mathbf{H}$ is interpretable.\n",
    "\n",
    "The component matrix $\\mathbf{H}$ contains a set of $h$ representative components allowing to express performance behaviour in a standardized way and thus compare performance across operating modes and across assets. The matrix $\\mathbf{W}$ contains the weights for reconstructing the original performance matrix $\\mathbf{V}$. Each element in $\\mathbf{W}$ can be interpreted as the weights of the building blocks in $\\mathbf{H}$ needed to reconstruct a vibration signal encoded in the performance matrix $\\mathbf{V}$. \n",
    "\n",
    "To decide the value $h$ of component we decompose the matrix into an increasing amount of components. In the next code section, we apply the NMF to up to 40 components. Unline PCA, the decompositions cannot be derived from each other. Therefore, we need to recalculate them for every iteration. ~[Fabian, how did you decide to stop at 40? Based on which figure/analysis? --> **FFNG**: Time constraints. We could in theory go up to 50 = number of columns in performance matrix.][AMUR: I don't get it. Would you like to introduce an explicatory sentece on this time constraints?][**RVEB**: the MAX_N_COMPONENTS (40) sets the maximum number of components that will be extracted. This basically does 40 different decompositions (they are not entirely independent, but you can't derive one from another, unlike PCA). In the next step, the ideal number of components is selected based on the knee point/explained variance]~."
   ]
  },
  {
   "cell_type": "code",
   "execution_count": 6,
   "metadata": {},
   "outputs": [
    {
     "name": "stderr",
     "output_type": "stream",
     "text": [
      "Fitting NMF with varying number of components: 100% 40/40 [01:05<00:00,  1.64s/it]\n"
     ]
    }
   ],
   "source": [
    "MAX_N_COMPONENTS = 40    # maximum number of components used to recompute\n",
    "\n",
    "df_nmf_models = extract_nmf_incremental(df_V_train, max_n_components=MAX_N_COMPONENTS, timestamps=df_V_train.index, verbose=True)"
   ]
  },
  {
   "cell_type": "markdown",
   "metadata": {},
   "source": [
    "> Robbert, can you further expand the section below. Point out what the reader can dinamically observe/play with. The comment below are left as starting point.\n",
    ">\n",
    "> **RVEB**: Will do\n",
    "\n",
    "Below, we illustrate the decomposition of the vibration data.\n",
    "\n",
    "The identification of the number of components to the describe the operating context is not trivial. To facilitate this process, in the plot below we provide the following plots.\n",
    "- The top two plots visualize how well the performance matrix $\\mathbf{V}$ can be approximated\n",
    "    - The left-top plot illustrates the cumulative explained variance of a principal component analysis (PCA) of the performance matrix $\\mathbf{V}$. It serves as an indication of an upper bound for how well the signal could be expressed using PCA.\n",
    "    - The top-righ plot illustrates the reconstruction error of the performance matrix $\\mathbf{V}$ using the NMF components. The reconstruction error is calculated as the Frobenius norm of the difference between the original matrix and the reconstructed matrix. The number of components is determined by how many principal components (from a PCA) are needed to explain 95% of the variance in the data. In this case 5 components explain more than 95% of the variance in the data. ~[Fabian, what is a parallel running?] [**FFNG**: PCA and NMF.][AMUR: I still don't get the sentence, can you refactor?]~. \n",
    " \n",
    "Besides the visual aid, the reader can rely on the automatically extracted _knee point_ to define the number of components. The identification of this knee point is an extension of the methodology presented in [2] for hyperparameter tuning for operative context detection\n",
    "> [AMUR: The text below is an attempt to provide evidence that we work on T1.2 for hyperparameter tuning. Of course the text quality can be improved].\n",
    "\n",
    "- The last 5 bottom plots illustrates the NMF components are plot.\n",
    "\n",
    "> AMUR: Fabian, I don't understand what comes in the next sentence. Can you explain/rework it? Once Robbert finishes this text section, can you explain in a intuitive manner what the plots (number of components) mean? [**FFNG**: Changed it already a bit, will iterate again once Robbert is finished.]\n",
    "\n",
    "Each of the $h$ components from $\\mathbf{H}$ is illustrated in a separate lineplot. The components serve as building block of the observed vibration signals, revealing common patterns in the vibration measurements. \n",
    "\n",
    "For the suggested settings, it can be observed that components 1 and 2 form the basis vectors for peaks that are observed at 40 and 80 orders. These peaks are expected, as the driving gear has 40 teeth. It is common to see peaks for multiples of the number of teeth, hence there is also a peak at 80 orders. Components 3, 4 and 5 encode smaller peaks which model the noise floor.\n",
    "\n",
    "The reader is invited to experiment multiple parameters below to verify how they affect the number of components extracted. The domain expert can use this code section to incorporate their domain knowledge to make more data-efficient the extraction and representation of implicit contexts. \n",
    "\n",
    "~This interactivity allows to reader to beyond the XXX/[set up chosen] in the original methodology [1,2], and\n",
    "[explore further]/[get more insights] on the data [Fabian can you help to complete this sentence? --> FFNG: Wrote new section below]~\n",
    "\n",
    "The interactive widget allows you to experiment and go beyond the parameters selected in the original methodology [2]. By increasing the range of acceptable parameters or by increasing the selection criterium (e.g., the explained variance), more components will be used in the decomposition. This makes the vibration fingerprints more granular, but also more prone to noise. In conterast, decreasing the accepted range or the selection criterium will yield less components, making the resulting fingerprints less informative, but also less prone to noise. \n",
    "\n",
    "The number of components should be neither too low, which would lead to inaccurate, too general vibration fingerprints, nor should it be too high, which would lead to too specific, fingerprints prone to noise."
   ]
  },
  {
   "cell_type": "code",
   "execution_count": 7,
   "metadata": {},
   "outputs": [
    {
     "data": {
      "application/vnd.jupyter.widget-view+json": {
       "model_id": "d00a55143e824ef4aff863d40af740de",
       "version_major": 2,
       "version_minor": 0
      },
      "text/plain": [
       "interactive(children=(Dropdown(description='How to select the number of components for NMF', layout=Layout(wid…"
      ]
     },
     "metadata": {},
     "output_type": "display_data"
    }
   ],
   "source": [
    "saved_values = illustrate_nmf_components_interactive(df_V_train, df_nmf_models)"
   ]
  },
  {
   "cell_type": "markdown",
   "metadata": {},
   "source": [
    "We proceed with the number of components determined in the interactive figure above."
   ]
  },
  {
   "cell_type": "markdown",
   "metadata": {},
   "source": [
    "\n",
    "\n",
    "> MEMO [IGNORE this cell - this is just for AMUR to verify at the end that we actully satisfied the KPI]\n",
    "\n",
    "We promised streamlining techniques for hyperparameter tuning and operative context detection (which are eventually connected with 1.2 and 1.3.\n",
    "\n",
    "> We need a link with T1.2\n",
    ">> T 1.2 Automated input data optimization. We will investigate methods to optimize data input in terms of\n",
    ">>> dimensioning: We will investigate methods to automatically identify the time window size (what Fabian calls: windowing) used to identify operative contexts and views. \n",
    ">>> feature selection/Reduction.:We will investigate methods for automatic feature selection which allow the model to preserve its performance. \n",
    "\n",
    "> We need a link with T1.3\n",
    ">> T.13 Context segmentation. We will investigate methods to make learning more data-efficient by incorporating domain knowledge [e.g. the end user provides constraints which can be exploited\n",
    "\n",
    "\n",
    "> T3.1 (not promised but to keep in mind). Interactive visual data exploration. We will explore user-centered visualization design methodologies which can facilitate the incorporation of expert and domain knowledge. [Possible idea, we mount of top of Fabian’s method ManasaPierre’s method in order to group clusters describing operative modes -> Maybe this drift away from automatization] [This is the section of the SK where end user plays with the available features to create the view]\n",
    "\n",
    "> AMUR: I've to make explict that the automatization is present to fullfill one of the COMPACT KPI.\n",
    "\n",
    "> AMUR: User can introduce domain-knowledge to limit the number of component in the plot above."
   ]
  },
  {
   "cell_type": "code",
   "execution_count": 8,
   "metadata": {},
   "outputs": [
    {
     "data": {
      "text/markdown": [
       "We are using 5 component"
      ],
      "text/plain": [
       "<IPython.core.display.Markdown object>"
      ]
     },
     "metadata": {},
     "output_type": "display_data"
    }
   ],
   "source": [
    "N_COMPONENTS = saved_values['n_components']\n",
    "COMPONENT_COLUMNS = list(range(N_COMPONENTS))  # used later\n",
    "model = df_nmf_models[(df_nmf_models.n_components == N_COMPONENTS)].iloc[0]\n",
    "display(md(f'We are using {N_COMPONENTS} component'))"
   ]
  },
  {
   "cell_type": "markdown",
   "metadata": {},
   "source": [
    "> At the end of this section, the reader played with the number of components. Did we test multiple options? Should we not put a limit to avoid that the notebook breaks?\n",
    "\n",
    "> ~Anyway, at this point we need to indicate that the comments which follow are based on 5 components. This is now not explicit. **FFNG: added small explanatory text section.**~\n",
    "\n",
    "While the starterkit is able to cope with different hyperparametres, in the text that follows, we assume that the 5 pre-selected components were chosen."
   ]
  },
  {
   "cell_type": "markdown",
   "metadata": {},
   "source": [
    "#### Extraction operating modes.\n",
    "\n",
    "In this step, we extract the operating modes of the assets. In the use case, a finite number of speed and torque values are tested. We treat each unique combination of speed and torque as a separate operating mode.\n",
    "We denote a operating mode as `@ X rpm, Y Nm`, where `X` corresponds to the rotational speed and `Y` corresponds to the torque. All measurements with the same rotational speed and torque are summarized in the same operating mode. There are as many operating modes, as there are unique combinations of `X` and `Y`."
   ]
  },
  {
   "cell_type": "markdown",
   "metadata": {},
   "source": [
    "> Here we could have a code block which takes the df and extract the operating modes.  \n",
    "> Then we should present an excerpt of the outcome of the df. This is helpful to show the reader before hand how many OM there are and which are their names.\n",
    "> \n",
    "> Other option is that we don't present the OM alone but only with the fingerprint (as it is done just in the next block)  \n",
    "> CODE: Fabian we need to discuss this item since I believe this influence whether or not we keep part of the intermezzo\n",
    "\n",
    "> **RVEB**: something like this below?"
   ]
  },
  {
   "cell_type": "code",
   "execution_count": 9,
   "metadata": {},
   "outputs": [
    {
     "data": {
      "text/html": [
       "<div>\n",
       "<style scoped>\n",
       "    .dataframe tbody tr th:only-of-type {\n",
       "        vertical-align: middle;\n",
       "    }\n",
       "\n",
       "    .dataframe tbody tr th {\n",
       "        vertical-align: top;\n",
       "    }\n",
       "\n",
       "    .dataframe thead th {\n",
       "        text-align: right;\n",
       "    }\n",
       "</style>\n",
       "<table border=\"1\" class=\"dataframe\">\n",
       "  <thead>\n",
       "    <tr style=\"text-align: right;\">\n",
       "      <th></th>\n",
       "      <th>100</th>\n",
       "      <th>200</th>\n",
       "      <th>300</th>\n",
       "      <th>400</th>\n",
       "      <th>500</th>\n",
       "      <th>600</th>\n",
       "      <th>700</th>\n",
       "      <th>800</th>\n",
       "      <th>900</th>\n",
       "      <th>1000</th>\n",
       "      <th>1200</th>\n",
       "      <th>2100</th>\n",
       "      <th>2700</th>\n",
       "      <th>3000</th>\n",
       "      <th>3600</th>\n",
       "    </tr>\n",
       "  </thead>\n",
       "  <tbody>\n",
       "    <tr>\n",
       "      <th>50</th>\n",
       "      <td>OM 1</td>\n",
       "      <td>OM 2</td>\n",
       "      <td>OM 3</td>\n",
       "      <td>OM 4</td>\n",
       "      <td>OM 5</td>\n",
       "      <td>OM 6</td>\n",
       "      <td>OM 7</td>\n",
       "      <td>OM 8</td>\n",
       "      <td>OM 9</td>\n",
       "      <td>OM 10</td>\n",
       "      <td>OM 11</td>\n",
       "      <td>OM 12</td>\n",
       "      <td>OM 13</td>\n",
       "      <td>OM 14</td>\n",
       "      <td>OM 15</td>\n",
       "    </tr>\n",
       "    <tr>\n",
       "      <th>100</th>\n",
       "      <td>OM 16</td>\n",
       "      <td>OM 17</td>\n",
       "      <td>OM 18</td>\n",
       "      <td>OM 19</td>\n",
       "      <td>OM 20</td>\n",
       "      <td>OM 21</td>\n",
       "      <td>OM 22</td>\n",
       "      <td>OM 23</td>\n",
       "      <td>OM 24</td>\n",
       "      <td>OM 25</td>\n",
       "      <td>OM 26</td>\n",
       "      <td>OM 27</td>\n",
       "      <td>OM 28</td>\n",
       "      <td>OM 29</td>\n",
       "      <td>OM 30</td>\n",
       "    </tr>\n",
       "    <tr>\n",
       "      <th>200</th>\n",
       "      <td>OM 31</td>\n",
       "      <td>OM 32</td>\n",
       "      <td>OM 33</td>\n",
       "      <td>OM 34</td>\n",
       "      <td>OM 35</td>\n",
       "      <td>OM 36</td>\n",
       "      <td>OM 37</td>\n",
       "      <td>OM 38</td>\n",
       "      <td>OM 39</td>\n",
       "      <td>OM 40</td>\n",
       "      <td>OM 41</td>\n",
       "      <td>OM 42</td>\n",
       "      <td>OM 43</td>\n",
       "      <td>OM 44</td>\n",
       "      <td></td>\n",
       "    </tr>\n",
       "    <tr>\n",
       "      <th>300</th>\n",
       "      <td>OM 45</td>\n",
       "      <td>OM 46</td>\n",
       "      <td>OM 47</td>\n",
       "      <td>OM 48</td>\n",
       "      <td>OM 49</td>\n",
       "      <td>OM 50</td>\n",
       "      <td>OM 51</td>\n",
       "      <td>OM 52</td>\n",
       "      <td>OM 53</td>\n",
       "      <td>OM 54</td>\n",
       "      <td>OM 55</td>\n",
       "      <td>OM 56</td>\n",
       "      <td></td>\n",
       "      <td></td>\n",
       "      <td></td>\n",
       "    </tr>\n",
       "    <tr>\n",
       "      <th>400</th>\n",
       "      <td>OM 57</td>\n",
       "      <td>OM 58</td>\n",
       "      <td></td>\n",
       "      <td>OM 59</td>\n",
       "      <td>OM 60</td>\n",
       "      <td>OM 61</td>\n",
       "      <td>OM 62</td>\n",
       "      <td>OM 63</td>\n",
       "      <td>OM 64</td>\n",
       "      <td>OM 65</td>\n",
       "      <td>OM 66</td>\n",
       "      <td></td>\n",
       "      <td></td>\n",
       "      <td></td>\n",
       "      <td></td>\n",
       "    </tr>\n",
       "    <tr>\n",
       "      <th>500</th>\n",
       "      <td>OM 67</td>\n",
       "      <td>OM 68</td>\n",
       "      <td>OM 69</td>\n",
       "      <td>OM 70</td>\n",
       "      <td>OM 71</td>\n",
       "      <td>OM 72</td>\n",
       "      <td>OM 73</td>\n",
       "      <td>OM 74</td>\n",
       "      <td>OM 75</td>\n",
       "      <td>OM 76</td>\n",
       "      <td>OM 77</td>\n",
       "      <td></td>\n",
       "      <td></td>\n",
       "      <td></td>\n",
       "      <td></td>\n",
       "    </tr>\n",
       "  </tbody>\n",
       "</table>\n",
       "</div>"
      ],
      "text/plain": [
       "      100    200    300    400    500    600    700    800    900    1000  \\\n",
       "50    OM 1   OM 2   OM 3   OM 4   OM 5   OM 6   OM 7   OM 8   OM 9  OM 10   \n",
       "100  OM 16  OM 17  OM 18  OM 19  OM 20  OM 21  OM 22  OM 23  OM 24  OM 25   \n",
       "200  OM 31  OM 32  OM 33  OM 34  OM 35  OM 36  OM 37  OM 38  OM 39  OM 40   \n",
       "300  OM 45  OM 46  OM 47  OM 48  OM 49  OM 50  OM 51  OM 52  OM 53  OM 54   \n",
       "400  OM 57  OM 58         OM 59  OM 60  OM 61  OM 62  OM 63  OM 64  OM 65   \n",
       "500  OM 67  OM 68  OM 69  OM 70  OM 71  OM 72  OM 73  OM 74  OM 75  OM 76   \n",
       "\n",
       "      1200   2100   2700   3000   3600  \n",
       "50   OM 11  OM 12  OM 13  OM 14  OM 15  \n",
       "100  OM 26  OM 27  OM 28  OM 29  OM 30  \n",
       "200  OM 41  OM 42  OM 43  OM 44         \n",
       "300  OM 55  OM 56                       \n",
       "400  OM 66                              \n",
       "500  OM 77                              "
      ]
     },
     "execution_count": 9,
     "metadata": {},
     "output_type": "execute_result"
    }
   ],
   "source": [
    "df_operating_modes = get_operating_modes()\n",
    "df_operating_modes"
   ]
  },
  {
   "cell_type": "code",
   "execution_count": 10,
   "metadata": {},
   "outputs": [
    {
     "data": {
      "text/plain": [
       "(100, 300)"
      ]
     },
     "execution_count": 10,
     "metadata": {},
     "output_type": "execute_result"
    }
   ],
   "source": [
    "possible_oms = df_operating_modes.values.flatten()\n",
    "possible_oms = np.delete(possible_oms, np.where(possible_oms == ''))\n",
    "idx, col = np.where(df_operating_modes == 'OM 18')\n",
    "df_operating_modes.index[idx][0], df_operating_modes.columns[col][0]"
   ]
  },
  {
   "cell_type": "markdown",
   "metadata": {},
   "source": [
    "> Fabian, as far as Fig 1 reports, extraction of operating modes is a atomic and not mixed with a linking to the performance profile. Do you think you can keep them separate? Or do you think they can just be blended? I am asking because from the paper seem clearly separated.\n",
    "\n",
    "\n",
    "In the table/figure above it is possible to see ... "
   ]
  },
  {
   "cell_type": "markdown",
   "metadata": {},
   "source": [
    "#### Link operating modes to performance fingerprint\n",
    "\n",
    "In this step, we link the performance fingerprints with the operating modes. This allows to derive **context-sensitive performance fingerprints**. As each vibration measurement is assigned a operating mode, it is possible to derive fingerprints by aggregating all rows in $\\mathbf{W}$ annotated with the same operating mode. \n",
    "In the following, the reader can extract and visualize for each one of the 76 operating modes the associated performance fingerprint.\n",
    "\n",
    "> The vibration fingerprint serves as key component of the context-sensitive anomaly detection.\n",
    "\n",
    "> CODE: Robbert a I need a code section which eventually show for one OM the performance profile. Currently, there are three code sections but I can't tell whether we need all of them for just one table. One possibility (dynamic part) is that Robbert allows the user to decide which mode he wants to display.\n",
    ">\n",
    "> **RVEB**: Done. Could still use more improvement in the text. Now, it assumes that all combinations of RPM and torque are present (I haven't checked). For some RPM/torque combinations, not all runs have measurements (e.g. RPM=100, torque=50, has no run=2). These are filtered out. Something similar could be done if for a given RPM value, not all torque values are present\n",
    ">\n",
    "> --> Looks like not all torque values are possible for a given RPM (E.g. RPP 3600, Torque 400). Given the OM extraction that will be done later on, we can refer to the operating modes instead the values\n"
   ]
  },
  {
   "cell_type": "code",
   "execution_count": 11,
   "metadata": {},
   "outputs": [
    {
     "data": {
      "application/vnd.jupyter.widget-view+json": {
       "model_id": "4e91075bde32425eb0aef423c876ff6d",
       "version_major": 2,
       "version_minor": 0
      },
      "text/plain": [
       "interactive(children=(Dropdown(description='Select the operating mode', layout=Layout(width='60%'), options=((…"
      ]
     },
     "metadata": {},
     "output_type": "display_data"
    }
   ],
   "source": [
    "show_fingerprints(model, df_V_train, meta_data_train, df_operating_modes)"
   ]
  },
  {
   "cell_type": "markdown",
   "metadata": {},
   "source": [
    "From the analysis of the operating modes, it is possible to observe that they present distinct performance fingerprints, as can be observed for instance when comparing e.g., operating mode (OM) 1 with OM 50. Whereas operating mode 1 predominantly expresses vibrations in the third component related to the noise floor for all vibration directions, operating mode 50 predominantly expresses vibrations in the first two components related to 40 and 80 orders. At the same time, operating modes with similar operating conditions show similar vibration fingerprints. For instance, OM 1 and OM 16 only differ slightly in the torque, which results (as expected) in similar vibration fingerprints.\n",
    "\n",
    "> At the end of this offline phase, each operating mode has is own performance profile"
   ]
  },
  {
   "cell_type": "markdown",
   "metadata": {},
   "source": [
    "### 3.2 Online phase \n",
    "\n",
    "The general workflow of the online phase is reported in the figure below.\n",
    "\n",
    "[**FFNG**: Depending on the text, I would need to adapt the figure after some iterations.]\n",
    "\n",
    "<img src=\"figures/overview_online-phase.png\" alt=\"Overview online phase\" style=\"width:800px;\"/>\n",
    "\n",
    "> Part of the text below should be simplified [I need a lot of help from Fabian for this job].\n",
    "\n",
    "This phase can be divided in five steps (See Figure above). The main goals of these phases can be summarized as follow:\n",
    "\n",
    "4. **Windowing for incoming streaming data**. The steaming data is essentially divided in batches. This activity is generally performed to avoid the execution of the methodology for each new received data point. In this use case, windowing is not required, as the data is not coming in as a stream. For this reason, this step is skipped.\n",
    "  \n",
    "> ~Fabian, I don't see the reason of the next sentence.  Windowing is about creating batches. What's the poinnt of discussing preprocessing at this stage? This is something which could be reported elsewhere. Not here. In the next iteration I'll remove the sentence. Furthermore, we don't do windowing (as far as I can tell from the text above). So, I propose to erase the next sentences. FFNG: Ok, we can erase the sentence.~   \n",
    "> ~Note, that the vibration signal is subject to the same preprocessing as during the offline phase. Specifically, the vibration signal is converted from the time into the frequency domain, and then converted to orders, as described by the vibration alignment section in [1]. [Fabian, can you complete the sentence?]~\n",
    "\n",
    "5. **Detecting of the operating context**. Each time stamp is associated with an operating mode which was identified during the offline phase. In this use case, operating modes are linked to vibration measurements without time stamps. ~[AMUR: Fabian, I remove 'current' from the step title. I hope this ok for you too][FFNG: That is ok for me. I rephrased it slightly and added a note about that there are no time stamps.]~\n",
    "\n",
    "6. **Deriving the performance ~fingerprint~ profiles**. ~Each operating mode is associated with a performance fingerprint. [FFNG: This is not correct and related to my comment about *fingerprints*. See the next sentence instead.]~ Each vibration measurement is characterized in terms of the vibration components that were extracted in step 1 during the offline phase.\n",
    "\n",
    "7. **Estimating the fingerprint offset**. For each vibration measurement is computed the _offset_ between the ~fingerprints~ profiles extracted online and fingerprints extracted offline. The offset quantifies to what extent ~the two fingerprints differs~ the observed vibration behaviour differs from the expected vibration behaviour expressed through the fingerprints. [**FFNG: See comment in overview of offline methodology about fingerprints.**]\n",
    "\n",
    "8. **Deriving alarms**. In the original paper [2], based on the offset, an anomaly score is computed for each time stamp. The evolution of this score is then monitored over time to decide when to raise the alarm. In this use case, the monitoring of the anomaly score is not possible since the timestamps in the testset are not ordered. For this reason, this step is skipped.\n",
    "\n",
    "\n",
    "#### Detecting of the operating context and deriving the performance ~fingerprint~ profiles.\n",
    "\n",
    "Detection of the operating contexts and extraction of their performance ~fingerprint~ profiles are two straighforward operations [**FFNG: Is the extraction of the performance profiles really that straightforward?**].  \n",
    "As in the offline phase, we extract the operaing modes from each time stamp present the testing dataset. The operating modes are defined up-front by the combination of rotational speed X and torque Y. ~Consequently, the testing set cannot have different combination from the one already present in the training set~ [AMUR: this should make explicit before when we explain the dataset --> FFNG: Added clarification in section on train-test split. Should we delete the sentence here?].\n",
    "\n",
    "~As next step, we extract the performance fingerprint of each operating mode.~\n",
    "As next step, we derive the performance profile for each vibration measurement."
   ]
  },
  {
   "cell_type": "markdown",
   "metadata": {},
   "source": [
    "> To do: fix the output from the cell.\n",
    "> \n",
    "> Robbert, the amount of lines connected to computional percentage is too high. Can we get rid of them and just keep the tables?\n",
    "> Robbert, can you remove from the outputL Extracting and order-transforming test data. This is something that shouldn't have appened at this stage. So, better to omit from text.\n",
    "> \n",
    "> Robbert, check if the preprocessing can be done all in one place (in section preprocessing)\n",
    ">\n",
    "> This was moved to the beginning of the notebook. Text needs to be adjusted. Do we show the table here?"
   ]
  },
  {
   "cell_type": "code",
   "execution_count": 12,
   "metadata": {
    "scrolled": true
   },
   "outputs": [],
   "source": [
    "\n",
    "# print('All samples from the test set are processed for all folds. Below, we show an excerpt of the first fold.')\n",
    "# print('(1) `df_orders_test_folds` contains the preprocessed and order-transformed vibration bands:')\n",
    "# display(df_orders_test.head())\n",
    "# print('(2) `meta_data_test_folds` contains the process data (rpm, torque) and some additional information (measurement direction):')\n",
    "# display(meta_data_test.head())"
   ]
  },
  {
   "cell_type": "markdown",
   "metadata": {},
   "source": [
    "> Fabian, the text that follow is too abstact from the reader (or even misplaced). Could you refactor and explain in a more general manner what you want to achieve? --> **FFNG: I refactored the text in this cell, you can find the new text after the striked section.**\n",
    "\n",
    "~For this reason, we compute ... the weights $\\mathbf{W}$ from the testing data [Why we do this?]. Then, the component matrix $\\mathbf{H}$ which encode the typical observed patterns from the vibration signal is taken from the offline phase. This way, the weights approximated during the online phase can be compared to the fingerprints extracted from the offline phase. [To append later before the right code section]~\n",
    "\n",
    "The goal of extracting the performance profiles is to capture and represent the key characteristics of the vibration signal in a way that reflects the asset's vibration behavior. Therefore, this step essentially mirrors step 1, with the exception that the vibration components are not derived again.\n",
    "\n",
    "The performance profiles approximate the vibration signal in terms of the representative vibration components that were extracted during step 1 of the offline phase.\n",
    "Like in step 1 of the offline phase, the approximation contains the essential information about the asset's performance.\n",
    "We extract these profiles by applying again non-negative matrix factorization (NMF) [3] to the processed vibration measurements from the online phase, denoted as $\\mathbf{v}'$. In the online phase, NMF now uses the $h$ components from matrix $\\mathbf{H}$, which were already identified during the offline phase. Specifically, NMF decomposes $\\mathbf{v}'$ into a weight vector $\\mathbf{w}'$ using the fixed component matrix $\\mathbf{H}$, such that $\\mathbf{v}' \\approx \\mathbf{w}' \\times \\mathbf{H}$.\n",
    "\n",
    "Since we use the same components from the offline phase, the profiles match the format of the vibration fingerprints, making them suitable for subsequent anomaly detection steps.\n",
    "\n",
    "> ~The data [which data?] is binned as during the offline phase for estimating the performance fingerprints from the validation data~\n",
    "> ~Each individual direction measurement is used as basis for the decomposition vector y1.~"
   ]
  },
  {
   "cell_type": "code",
   "execution_count": 13,
   "metadata": {},
   "outputs": [],
   "source": [
    "df_W_offline, df_W_online, fingerprints, test_vibration_measurement_periods_meta_data = get_df_W_offline_and_online(df_V_train, meta_data_train, meta_data_test, model, df_orders_test)\n",
    "# df_W_online.head()   # FFNG: Hide dataframe."
   ]
  },
  {
   "cell_type": "markdown",
   "metadata": {},
   "source": [
    "> Fabian, we need some comment on the output above. Is there anything worth to report? \n",
    "> At least mention column meaning and that the table shows the performance fingerprint. If this column is not showing the performance fingerprint then I wonder whether it is worth to keep it (I would avoid to comment on intermediate table you need to extract the performance fingerprint)\n",
    "> [--> **FFNG: Looking at the notebook now, I would suggest to simply not report the cell above. It is extracting the online weights, but the next cell demonstrates the weights giving one example. No need to explain the dataframe.**]"
   ]
  },
  {
   "cell_type": "markdown",
   "metadata": {},
   "source": [
    "To better understand the derived weights $\\mathbf{w}'$, below the derived weights for a single measurement is illustrated[~Fabian, what is a single measurement? Can you add something more to clarify? --> **FFNG: clearified in next few sentences.**~]. \n",
    "A vibration measurement consists of the three measurements directions (namely the X-, Y- and Z-axis, corresponding to the rows in the colormap below).\n",
    "Because $h=5$ components have been extracted by the NMF in step 1 during the offline phase, the weights that are illustrated below consist of $5$ columns each. If this number was changed in the interactive widget, the number of columns is adapted accordingly.\n",
    "The format of the weights is the same as of the fingerprint shown in the [previous section](#Link-operating-modes-to-performance-fingerprint) [~wich one Fabian? the online section? --> **FFNG: added hyperlink. Note that there are only fingerprints extracted in the offline phase.**~]"
   ]
  },
  {
   "cell_type": "code",
   "execution_count": 14,
   "metadata": {},
   "outputs": [
    {
     "data": {
      "image/png": "[encoded data removed]",
      "text/plain": [
       "<Figure size 800x400 with 1 Axes>"
      ]
     },
     "metadata": {},
     "output_type": "display_data"
    }
   ],
   "source": [
    "period = 10\n",
    "\n",
    "usid = df_W_online['unique_sample_id'][period]\n",
    "df_ = meta_data_test[meta_data_test['unique_sample_id']==usid]\n",
    "rpm = df_['rotational speed [RPM]'].iloc[0]\n",
    "torque = df_['torque [Nm]'].iloc[0]\n",
    "operating_mode = df_operating_modes.loc[torque, rpm]\n",
    "\n",
    "fig, ax = plt.subplots(figsize=(8, 4))\n",
    "sns.heatmap(df_W_online['W'][period], annot=True, fmt=\".3f\", ax=ax, cmap='Blues', vmin=0, vmax=0.05, cbar=False)\n",
    "# FFNG: I changed the title in the following figure. Original title:\n",
    "#       f'Derived weights for operating mode {operating_mode}, measurement {period} @ {rpm} rpm, {torque} Nm' \n",
    "ax.set_title(f'Derived weights for measurement {period} @ {rpm} rpm, {torque} Nm (operating mode {operating_mode})'); \n",
    "ax.set_yticklabels(['x', 'y', 'z'], rotation=0)\n",
    "ax.set_ylabel('Measurement direction')\n",
    "ax.set_xlabel('Component');"
   ]
  },
  {
   "cell_type": "markdown",
   "metadata": {},
   "source": [
    "> Fabian, Is there anything worth to report/comment on the table above?\n",
    "> The table above shows for operating mode @ 100, 500 Nm the performance fingerprint [**FFNG: Minor correction: It doesn't show for this specific operating mode the fingerprint, it instead shows the derived weights for a single vibration measurement that was recorded at this operating mode (there are more measurements than just this one at this operating mode). I changed the title of the figure accordingly.**]. However, this is just the same type of table we have seen in the offline phase. Maybe we can still report something worth to mention? [**--> FFNG: Added the following sentences.**]\n",
    "\n",
    "The measurement for depicted above was taken at 1000 rpm and 50 Nm and therefore corresponds to operating mode 10. It can be observed that components 1 and 4 have a strong presence in all 3 measurement directions. When comparing this to the vibration fingerprint at OM 10 (see [interactive widget](#Link-operating-modes-to-performance-fingerprint) and choose operating mode 10), we observe a similar behaviour. Hence, for this example, the observed is similar to the expected vibration behaviour, which is indicative that this vibration measurement can be considered as non-anomalous.\n",
    "\n",
    "> ~ToDo: Make clear that one aspect of the methodology (performance profiling) is reached. Next, we check the second part of the methodology: anomaly detection **--> FFNG: added following small conclusion of this chapter:**~\n",
    "\n",
    "Each online vibration measurement is now processed to a corresponding performance profile. \n",
    "The performance profile contains the essential information of the vibration signal, while being of the same format as the vibration fingerprints.\n",
    "We illustrated intuitively on a small example, how to check whether the vibration measurement is indicative of an anomaly.\n",
    "Based on this intuition, this performance profile is compared in the next section to the expected vibrations from the fingerprints in an automated fashion. "
   ]
  },
  {
   "cell_type": "markdown",
   "metadata": {},
   "source": [
    "#### Estimating the fingerprint offset\n",
    "\n",
    "In order to assess\n",
    "whether the performance of asset $i$ ($i = 1, . . . , n$; however in our case there is only one asset, thus $i=1$) is normal vs. anomalous, it is necessary to quantify the distance - offset - between the observed and expected fingerprints. More specifically, for each performance measurement, the cosine distance between the derived weights $\\mathbf{w}'$ and the fingerprint $f_{ij} \\in F_i$, corresponding to the detected operating mode $O_{ij}$, ($j = 1, . . . , k_i$), is used to estimate the offset:\n",
    "\n",
    "$$ d_{cos}(\\mathbf{w}_i', \\mathbf{f}_{ij}) = 1 - \\dfrac{\\mathbf{w}_i' \\cdot \\mathbf{f}_{ij}}{\\|\\mathbf{w}_i'\\| \\ \\|\\mathbf{f}_{ij}\\|} $$\n",
    "\n",
    "where || · || is the magnitude of the corresponding vector. \n",
    "\n",
    "> Fabian, look at the sentence that follow. Is it worth to report? **FFNG: It is somewhat important, because we show the whole time 3x5 matrices in order to illustrate the weights, but never explain, that they are actually represented as 15 dimensional vector instead (because that's how we are able to calculate the cosine distance). Thus I would comment it out and briefly explain, why this is important.**\n",
    "\n",
    "The derived weight vectors represent individual direction measurements as a result of decomposing per individual direction. The weight vectors are appended into a single 15-dimensional vector $\\mathbf{w}_i'$ that is compared to the fingerprint $f_{1j}$ of the corresponding operating mode $O_{1j}$.\n",
    "\n",
    "Once we extracted the offset, it is possible to evaluate to what extent they can be exploited of anomaly detection. For this reason we compute, for each operating mode, the offset of the derived weights to the corresponding fingerprint below. [Fabian is this sentence correct?]"
   ]
  },
  {
   "cell_type": "code",
   "execution_count": 15,
   "metadata": {},
   "outputs": [
    {
     "data": {
      "application/vnd.jupyter.widget-view+json": {
       "model_id": "7c62af7df36a44b0a50013f80e9652c3",
       "version_major": 2,
       "version_minor": 0
      },
      "text/plain": [
       "interactive(children=(IntSlider(value=0, continuous_update=False, description='Select operating mode', layout=…"
      ]
     },
     "metadata": {},
     "output_type": "display_data"
    }
   ],
   "source": [
    "# FFNG: Are we reporting all distances in here on only the relevant ones?\n",
    "# FFNG: TODO: use same bin size\n",
    "# FFNG: Do we actually need this graph?\n",
    "df_dist_offline = calculate_distances_per_measurement_period(df_W_offline, fingerprints=fingerprints)    \n",
    "plot_distances_interactive(df_dist_offline)"
   ]
  },
  {
   "cell_type": "markdown",
   "metadata": {},
   "source": [
    "> [Fabian,  report something worth to mention based on the comparison between OMs --> **FFNG: Remove it?**]\n",
    "\n",
    "Below, we create a pivot table of the cosine distance and compare distances between measurements and their corresponding fingerprints (left) and other fingerprints (right)."
   ]
  },
  {
   "cell_type": "code",
   "execution_count": 33,
   "metadata": {},
   "outputs": [
    {
     "name": "stdout",
     "output_type": "stream",
     "text": [
      "Pivot table with distances to all fingerprints (0 - 72), corresponding rpm and torque values, and additional information on the anomaly condition:\n"
     ]
    },
    {
     "data": {
      "text/html": [
       "<div>\n",
       "<style scoped>\n",
       "    .dataframe tbody tr th:only-of-type {\n",
       "        vertical-align: middle;\n",
       "    }\n",
       "\n",
       "    .dataframe tbody tr th {\n",
       "        vertical-align: top;\n",
       "    }\n",
       "\n",
       "    .dataframe thead th {\n",
       "        text-align: right;\n",
       "    }\n",
       "</style>\n",
       "<table border=\"1\" class=\"dataframe\">\n",
       "  <thead>\n",
       "    <tr style=\"text-align: right;\">\n",
       "      <th>om</th>\n",
       "      <th>0</th>\n",
       "      <th>1</th>\n",
       "      <th>2</th>\n",
       "      <th>3</th>\n",
       "      <th>4</th>\n",
       "      <th>5</th>\n",
       "      <th>6</th>\n",
       "      <th>7</th>\n",
       "      <th>8</th>\n",
       "      <th>9</th>\n",
       "      <th>...</th>\n",
       "      <th>72</th>\n",
       "      <th>73</th>\n",
       "      <th>74</th>\n",
       "      <th>75</th>\n",
       "      <th>rpm</th>\n",
       "      <th>torque</th>\n",
       "      <th>unique_cluster_label</th>\n",
       "      <th>distance_to_own_cluster_center</th>\n",
       "      <th>pitting</th>\n",
       "      <th>pitting_level</th>\n",
       "    </tr>\n",
       "    <tr>\n",
       "      <th>idx</th>\n",
       "      <th></th>\n",
       "      <th></th>\n",
       "      <th></th>\n",
       "      <th></th>\n",
       "      <th></th>\n",
       "      <th></th>\n",
       "      <th></th>\n",
       "      <th></th>\n",
       "      <th></th>\n",
       "      <th></th>\n",
       "      <th></th>\n",
       "      <th></th>\n",
       "      <th></th>\n",
       "      <th></th>\n",
       "      <th></th>\n",
       "      <th></th>\n",
       "      <th></th>\n",
       "      <th></th>\n",
       "      <th></th>\n",
       "      <th></th>\n",
       "      <th></th>\n",
       "    </tr>\n",
       "  </thead>\n",
       "  <tbody>\n",
       "    <tr>\n",
       "      <th>0</th>\n",
       "      <td>0.950980</td>\n",
       "      <td>0.938852</td>\n",
       "      <td>0.964728</td>\n",
       "      <td>0.959624</td>\n",
       "      <td>0.950273</td>\n",
       "      <td>0.934120</td>\n",
       "      <td>0.625390</td>\n",
       "      <td>0.660814</td>\n",
       "      <td>0.489770</td>\n",
       "      <td>0.407545</td>\n",
       "      <td>...</td>\n",
       "      <td>0.541366</td>\n",
       "      <td>0.525917</td>\n",
       "      <td>0.470361</td>\n",
       "      <td>0.492032</td>\n",
       "      <td>1000</td>\n",
       "      <td>200</td>\n",
       "      <td>55</td>\n",
       "      <td>0.067243</td>\n",
       "      <td>True</td>\n",
       "      <td>3</td>\n",
       "    </tr>\n",
       "    <tr>\n",
       "      <th>1</th>\n",
       "      <td>0.957429</td>\n",
       "      <td>0.946591</td>\n",
       "      <td>0.970888</td>\n",
       "      <td>0.963298</td>\n",
       "      <td>0.951714</td>\n",
       "      <td>0.935288</td>\n",
       "      <td>0.639242</td>\n",
       "      <td>0.685083</td>\n",
       "      <td>0.438623</td>\n",
       "      <td>0.296894</td>\n",
       "      <td>...</td>\n",
       "      <td>0.500391</td>\n",
       "      <td>0.501929</td>\n",
       "      <td>0.478596</td>\n",
       "      <td>0.483197</td>\n",
       "      <td>1000</td>\n",
       "      <td>200</td>\n",
       "      <td>55</td>\n",
       "      <td>0.000872</td>\n",
       "      <td>False</td>\n",
       "      <td>0</td>\n",
       "    </tr>\n",
       "    <tr>\n",
       "      <th>2</th>\n",
       "      <td>0.976039</td>\n",
       "      <td>0.971554</td>\n",
       "      <td>0.972918</td>\n",
       "      <td>0.973461</td>\n",
       "      <td>0.968290</td>\n",
       "      <td>0.956794</td>\n",
       "      <td>0.809215</td>\n",
       "      <td>0.799196</td>\n",
       "      <td>0.660828</td>\n",
       "      <td>0.624474</td>\n",
       "      <td>...</td>\n",
       "      <td>0.102363</td>\n",
       "      <td>0.106919</td>\n",
       "      <td>0.129904</td>\n",
       "      <td>0.109789</td>\n",
       "      <td>1000</td>\n",
       "      <td>300</td>\n",
       "      <td>56</td>\n",
       "      <td>0.000605</td>\n",
       "      <td>False</td>\n",
       "      <td>0</td>\n",
       "    </tr>\n",
       "    <tr>\n",
       "      <th>3</th>\n",
       "      <td>0.946655</td>\n",
       "      <td>0.927782</td>\n",
       "      <td>0.958229</td>\n",
       "      <td>0.956602</td>\n",
       "      <td>0.946789</td>\n",
       "      <td>0.927670</td>\n",
       "      <td>0.585453</td>\n",
       "      <td>0.621387</td>\n",
       "      <td>0.512605</td>\n",
       "      <td>0.487824</td>\n",
       "      <td>...</td>\n",
       "      <td>0.353088</td>\n",
       "      <td>0.350476</td>\n",
       "      <td>0.337572</td>\n",
       "      <td>0.340263</td>\n",
       "      <td>1000</td>\n",
       "      <td>300</td>\n",
       "      <td>56</td>\n",
       "      <td>0.170779</td>\n",
       "      <td>True</td>\n",
       "      <td>2</td>\n",
       "    </tr>\n",
       "    <tr>\n",
       "      <th>4</th>\n",
       "      <td>0.962091</td>\n",
       "      <td>0.952701</td>\n",
       "      <td>0.963564</td>\n",
       "      <td>0.963490</td>\n",
       "      <td>0.952365</td>\n",
       "      <td>0.933905</td>\n",
       "      <td>0.753778</td>\n",
       "      <td>0.750903</td>\n",
       "      <td>0.561334</td>\n",
       "      <td>0.469809</td>\n",
       "      <td>...</td>\n",
       "      <td>0.205373</td>\n",
       "      <td>0.196455</td>\n",
       "      <td>0.181057</td>\n",
       "      <td>0.180890</td>\n",
       "      <td>1000</td>\n",
       "      <td>300</td>\n",
       "      <td>56</td>\n",
       "      <td>0.070838</td>\n",
       "      <td>True</td>\n",
       "      <td>8</td>\n",
       "    </tr>\n",
       "  </tbody>\n",
       "</table>\n",
       "<p>5 rows × 82 columns</p>\n",
       "</div>"
      ],
      "text/plain": [
       "om          0         1         2         3         4         5         6  \\\n",
       "idx                                                                         \n",
       "0    0.950980  0.938852  0.964728  0.959624  0.950273  0.934120  0.625390   \n",
       "1    0.957429  0.946591  0.970888  0.963298  0.951714  0.935288  0.639242   \n",
       "2    0.976039  0.971554  0.972918  0.973461  0.968290  0.956794  0.809215   \n",
       "3    0.946655  0.927782  0.958229  0.956602  0.946789  0.927670  0.585453   \n",
       "4    0.962091  0.952701  0.963564  0.963490  0.952365  0.933905  0.753778   \n",
       "\n",
       "om          7         8         9  ...        72        73        74  \\\n",
       "idx                                ...                                 \n",
       "0    0.660814  0.489770  0.407545  ...  0.541366  0.525917  0.470361   \n",
       "1    0.685083  0.438623  0.296894  ...  0.500391  0.501929  0.478596   \n",
       "2    0.799196  0.660828  0.624474  ...  0.102363  0.106919  0.129904   \n",
       "3    0.621387  0.512605  0.487824  ...  0.353088  0.350476  0.337572   \n",
       "4    0.750903  0.561334  0.469809  ...  0.205373  0.196455  0.181057   \n",
       "\n",
       "om         75   rpm  torque  unique_cluster_label  \\\n",
       "idx                                                 \n",
       "0    0.492032  1000     200                    55   \n",
       "1    0.483197  1000     200                    55   \n",
       "2    0.109789  1000     300                    56   \n",
       "3    0.340263  1000     300                    56   \n",
       "4    0.180890  1000     300                    56   \n",
       "\n",
       "om   distance_to_own_cluster_center  pitting  pitting_level  \n",
       "idx                                                          \n",
       "0                          0.067243     True              3  \n",
       "1                          0.000872    False              0  \n",
       "2                          0.000605    False              0  \n",
       "3                          0.170779     True              2  \n",
       "4                          0.070838     True              8  \n",
       "\n",
       "[5 rows x 82 columns]"
      ]
     },
     "metadata": {},
     "output_type": "display_data"
    }
   ],
   "source": [
    "df_dist_online = calculate_distances_per_measurement_period(df_W_online, fingerprints=fingerprints)    \n",
    "\n",
    "df_cosine = df_dist_online[['idx', 'om', 'cosine_distance']].pivot(index='idx', columns='om', values='cosine_distance')\n",
    "# assign the corresponding operating mode to the given row (if known), else, assign -1\n",
    "df_cosine[['rpm', 'torque', 'unique_cluster_label']] = pd.DataFrame(test_vibration_measurement_periods_meta_data)[['rpm', 'torque', 'unique_cluster_label']]\n",
    "\n",
    "distance_to_own_cluster_center = []\n",
    "for idx, row in df_cosine.iterrows():\n",
    "    om = row['unique_cluster_label']\n",
    "    if om != -1:\n",
    "        distance_to_own_cluster_center.append(row[om])\n",
    "    else:\n",
    "        distance_to_own_cluster_center.append(np.nan)\n",
    "df_cosine['distance_to_own_cluster_center'] = distance_to_own_cluster_center\n",
    "df_cosine['pitting'] = df_W_online['unique_sample_id'].str.contains(f'pitting_level_')\n",
    "df_cosine['pitting_level'] = df_W_online['unique_sample_id'].str.extract(r'pitting_level_(\\d)')\n",
    "df_cosine['pitting_level'] = df_cosine['pitting_level'].fillna(0).astype(int)\n",
    "\n",
    "print('Pivot table with distances to all fingerprints (0 - 72), corresponding rpm and torque values, and additional information on the anomaly condition:')\n",
    "display(df_cosine.head())\n",
    "\n",
    "# FFNG: removed this figure (for the moment I just commented it out), as it is not paramount for the understanding of our methodology\n",
    "# fig, axes = plt.subplots(figsize=(16, 8), ncols=2)\n",
    "\n",
    "#ax = df_cosine['distance_to_own_cluster_center'].plot(kind='hist', bins=20, ax=axes[0], alpha=0.5, legend=False)\n",
    "#ax.set_title('Distance to own cluster centers')\n",
    "#ax.set_xlabel('Cosine distance')\n",
    "\n",
    "# plot distance to other cluster centers\n",
    "#ax = df_cosine.drop(columns=['rpm', 'torque', 'unique_cluster_label', 'distance_to_own_cluster_center', 'pitting', 'pitting_level']).melt()['value'].plot(kind='hist', bins=20, ax=axes[1], alpha=0.5, legend=False)\n",
    "#ax.set_title('Distance to other cluster centers')\n",
    "#ax.set_xlabel('Cosine distance');"
   ]
  },
  {
   "cell_type": "markdown",
   "metadata": {},
   "source": [
    "> ~[Fabian, I think we can remove the figure above. As far as I can tell, below we just want to prove that these offset can be used for anomaly detection. Below, we have plenty of evidence]~\n",
    "> ~Fabian, If this is the case, then adapt the code. Take into account which part of the code you need.~\n",
    "> ~[**FFNG: I agree --> removed.**]~"
   ]
  },
  {
   "cell_type": "markdown",
   "metadata": {},
   "source": [
    "We can now evaluate whether the performance offset can be exploited for detecting anomalies. In the plot below, we analyze the relation between offset distance and pitting level."
   ]
  },
  {
   "cell_type": "code",
   "execution_count": 17,
   "metadata": {},
   "outputs": [
    {
     "data": {
      "image/png": "[encoded data removed]",
      "text/plain": [
       "<Figure size 640x480 with 1 Axes>"
      ]
     },
     "metadata": {},
     "output_type": "display_data"
    }
   ],
   "source": [
    "ax = sns.boxplot(data=df_cosine, y='distance_to_own_cluster_center', x='pitting_level')\n",
    "ax.set_ylabel('Distance to context sensitive fingerprint')\n",
    "ax.set_title(f'Distance to own cluster center per pitting level');"
   ]
  },
  {
   "cell_type": "markdown",
   "metadata": {},
   "source": [
    "In the boxplots above a clear difference in terms the offset between healthy and faulty gearboxes, which incurred in a pitting, can be observed.\n",
    "This is expected, as the context-sensitive fingerprint is derived from healthy data without pitting and data with pitting is likely to have vibration patterns not present in the healthy data set."
   ]
  },
  {
   "cell_type": "markdown",
   "metadata": {},
   "source": [
    "The boxplot provides only a partial view of the ability of the methodology to identify anomalies. To fully appreciate the performance of the methodology, it is necessary to adequately detect faulty gearboxes as anomalies. ~[Fabian can you continue? Maybe blend with the text that follow. What we need is the rational behind the choice of using the ROC-curve. Previously, the ROC section was just introduced without too many explanation. Here we need to introduce the rational for their usage --> **FFNG**: Continued with section.]~\n",
    "Whether a datapoint is labelled as anomalous depends on a predefined distance threshold.\n",
    "If the predefined distance threshold is exceeded, an anomaly is raised.\n",
    "To make our validation independent of the choice of this hyperparameter, we construct a ROC-curve by varying this distance threshold.\n",
    "\n",
    "~In this section, we calculate ROC-curves by varying this distance threshold. [ToDo: explain what is ROC-curve. Target audience: engineer --> **FFNG:** see below.]~\n",
    "\n",
    "An ROC curve is a visualisation for evaluating the performance of the anomaly detection (Note that it is also often used for classification models, but this does not make any difference in our case).\n",
    "It plots the *true positive rate (TPR)* (= What is the rate of measurements exposed to pitting that were actually detected as anomaly?) against the *false positive rate (FPR)* (= What is the rate of measurements that were not exposed to pitting and still detected as anomaly) at different distance thresholds. The closer the curve is to the top-left corner, the better the model is at detecting anomalies.\n",
    "\n",
    "Below we plot the ROC-curve. "
   ]
  },
  {
   "cell_type": "code",
   "execution_count": 31,
   "metadata": {},
   "outputs": [
    {
     "data": {
      "image/png": "[encoded data removed]",
      "text/plain": [
       "<Figure size 800x600 with 1 Axes>"
      ]
     },
     "metadata": {},
     "output_type": "display_data"
    }
   ],
   "source": [
    "\n",
    "\n",
    "df_cosine = df_cosine[df_cosine.unique_cluster_label != -1]  # removed unknown cluster labels\n",
    "\n",
    "fig, ax = plt.subplots(figsize=(8, 6))\n",
    "\n",
    "# Plot the general ROC curve\n",
    "fpr, tpr, roc_auc = calculate_roc_characteristics(df_cosine)\n",
    "ax.plot(fpr, tpr, color='blue', lw=4, label=f'overall (area = {roc_auc:.3f})', alpha=0.66)\n",
    "ax.plot([0, 1], [0, 1], color='navy', lw=2, linestyle='--', label='baseline')\n",
    "# TPR@FPR\n",
    "threshold = 0.1\n",
    "tpr_at_fpr = calc_tpr_at_fpr_threshold(tpr, fpr, threshold=threshold)\n",
    "ax.plot([0, threshold], [tpr_at_fpr, tpr_at_fpr], color='red', lw=2, linestyle='--', label=f'TPR@FPR={threshold:.2f} = {tpr_at_fpr:.2f}')\n",
    "ax.plot([threshold, threshold], [0, tpr_at_fpr], color='red', lw=2, linestyle='--')\n",
    "# FPR@TPR\n",
    "threshold = 0.9\n",
    "fpr_at_tpr = calc_fpr_at_tpr_threshold(tpr, fpr, threshold=threshold)\n",
    "ax.plot([0, threshold], [fpr_at_tpr, fpr_at_tpr], color='green', lw=2, linestyle='--', label=f'FPR@TPR={threshold:.2f} = {fpr_at_tpr:.2f}')\n",
    "ax.plot([threshold, threshold], [0, fpr_at_tpr], color='green', lw=2, linestyle='--')\n",
    "# limits\n",
    "ax.set_xlim(0.0, 1.0)\n",
    "ax.set_ylim(0.0, 1.05)\n",
    "ax.set_xlabel('False Positive Rate')\n",
    "ax.set_ylabel('True Positive Rate')\n",
    "ax.set_title(f'ROC Curve')\n",
    "n_total = len(df_cosine)\n",
    "n_healthy = len(df_cosine[df_cosine['pitting'] == False])\n",
    "n_unhealthy = len(df_cosine[df_cosine['pitting'] == True])\n",
    "text = f\"n={n_total} ({n_healthy} healthy, {n_unhealthy} unhealthy)\"\n",
    "ax.annotate(xy=(0.1, 0.025), text=text)\n",
    "\n",
    "ax.legend(loc='lower right', title='Pitting severity level');"
   ]
  },
  {
   "cell_type": "markdown",
   "metadata": {},
   "source": [
    "In the figure above it can be observed that the anomaly detection generally performs well with an area under the curve (AUC) of $0.979$.\n",
    "Operators aim for a high TPR while minimizing false alarms (keeping the FPR low). Therefore, we additionally tracked the TPR at a stable FPR of 0.1 (TPR@FPR=0.1), which represents the TPR when there are 10% false positives. In this scenario, the TPR would be 96%. An alternatve objective criterium is to keep the FPR as low as possible at a high TPR. \n",
    "The plot above therefore also illustrates the FPR@TPR=0.9. In that scenario, we check how many false alarms would be thrown, if we want to guaruantee that 90% of the gear pitting is detected.\n",
    "In the shown fold, FPR@TPR=0.1 is 0.04."
   ]
  },
  {
   "cell_type": "markdown",
   "metadata": {},
   "source": [
    "> ~AMUR: Fabian, I fail to see how the next plot convey usable action point for the operator. --> **FFNG: True, in the current form of the notebook it doesn't make sense to check for another metric (FPR@TPR). We can include the FPR@TPR in the plot above as well.**~\n",
    "\n",
    "~An alternatve objective criterium is to keep the FPR as low as possible at a high TPR.~\n",
    "~The plot below illustrates the FPR@TPR=0.1. In the shown fold, FPR@TPR=0.1 is 0.07.~\n",
    "\n",
    "> If useless, I would remove the next code snippet --> FFNG: TODO: Remove, if Robbert ok with it."
   ]
  },
  {
   "cell_type": "code",
   "execution_count": 29,
   "metadata": {},
   "outputs": [],
   "source": [
    "# FFNG: Remove this cell, if possible.\n",
    "\"\"\"\n",
    "df_cosine = df_cosine[df_cosine.unique_cluster_label != -1]  # removed unknown cluster labels\n",
    "\n",
    "fig, ax = plt.subplots(figsize=(8, 6))\n",
    "\n",
    "threshold = 0.90\n",
    "\n",
    "# Plot the general ROC curve\n",
    "fpr, tpr, roc_auc = calculate_roc_characteristics(df_cosine)\n",
    "fpr_at_tpr = calc_fpr_at_tpr_threshold(tpr, fpr, threshold=threshold)\n",
    "ax.plot(fpr, tpr, color='blue', lw=4, label=f'overall (area = {roc_auc:.3f})', alpha=0.66)\n",
    "ax.plot([0, 1], [0, 1], color='navy', lw=2, linestyle='--', label='baseline')\n",
    "ax.plot([fpr_at_tpr, fpr_at_tpr], [0, threshold], color='green', lw=2, linestyle='--', label=f'FPR@TPR={threshold:.2f} = {fpr_at_tpr:.2f}')\n",
    "ax.plot([0, fpr_at_tpr], [threshold, threshold], color='green', lw=2, linestyle='--')\n",
    "ax.set_xlim(0.0, 1.0)\n",
    "ax.set_ylim(0.0, 1.05)\n",
    "ax.set_xlabel('False Positive Rate')\n",
    "ax.set_ylabel('True Positive Rate')\n",
    "ax.set_title(f'ROC Curve')\n",
    "n_total = len(df_cosine)\n",
    "n_healthy = len(df_cosine[df_cosine['pitting'] == False])\n",
    "n_unhealthy = len(df_cosine[df_cosine['pitting'] == True])\n",
    "text = f\"n={n_total} ({n_healthy} healthy, {n_unhealthy} unhealthy)\"\n",
    "ax.annotate(xy=(0.1, 0.025), text=text)\n",
    "\n",
    "ax.legend(loc='lower right', title='Pitting severity level');\n",
    "\"\"\"\n",
    "pass"
   ]
  },
  {
   "cell_type": "markdown",
   "metadata": {},
   "source": [
    "## 4. Conclusions\n",
    "\n",
    "In this SK we illustrate a data-driven methodology for contextual performance profiling and anomaly detection. The SK focuses on how to set up methodology parameters and correctly interpret its results. The methodology, validated on a gearbox that is subject to pitting, explain how to extract the contexts from an asset and how to use it to profile its performance. Furthermore, it proves that the performance profiles can be used to identify anomalies. For the latter, it has been show that our method is able to detect most anomalies, while throwing few false alarms, as demonstrated through the ROC curve. [~ToDo, complete sentence citing some performance number (e.g. based on ROC) --> **FFNG: finished sentence**~]"
   ]
  },
  {
   "cell_type": "markdown",
   "metadata": {},
   "source": [
    "# Additional information\n",
    "The methodology presented in this notebook is based on the paper [1,2]\n",
    "\n",
    "This Starter Kit was developed in the context of the Compact project [ToDo: Find an online reference]. For more information, please contact info@elucidata.be.\n",
    "\n",
    "Permission is hereby granted, free of charge, to any person obtaining a copy of this software and associated documentation files (the \"Notebook\"), to deal in the Notebook without restriction, including without limitation the rights to use, copy, modify, merge, publish, distribute, sublicense, and/or sell copies of the Notebook, and to permit persons to whom the Notebook is provided to do so, subject to the following conditions:\n",
    "\n",
    "The above copyright notice and this permission notice shall be included in all copies of the Notebook and/or copies of substantial portions of the Notebook.\n",
    "\n",
    "THE NOTEBOOK IS PROVIDED \"AS IS\", WITHOUT WARRANTY OF ANY KIND, EXPRESS OR IMPLIED, INCLUDING BUT NOT LIMITED TO THE WARRANTIES OF MERCHANTABILITY, FITNESS FOR A PARTICULAR PURPOSE AND NON-INFRINGEMENT. IN NO EVENT SHALL SIRRIS, THE AUTHORS OR COPYRIGHT HOLDERS BE LIABLE FOR ANY CLAIM, DAMAGES OR OTHER LIABILITY, DIRECT OR INDIRECT, WHETHER IN AN ACTION OF CONTRACT, TORT OR OTHERWISE, ARISING FROM, OUT OF OR IN CONNECTION WITH THE NOTEBOOK OR THE USE OR OTHER DEALINGS IN THE NOTEBOOK"
   ]
  },
  {
   "cell_type": "markdown",
   "metadata": {},
   "source": [
    "# References\n",
    "\n",
    "> ~[Fabian can you add also an hyperlink to the paper? --> **FFNG: Done: Link at doi.**]~\n",
    "\n",
    "[1] F. Fingerhut, S. Klein, M. Verbeke, S. Rajendran and E. Tsiporkova, \"Multi-view contextual performance profiling in rotating machinery,\" 2023 IEEE International Conference on Prognostics and Health Management (ICPHM), Montreal, QC, Canada, 2023, pp. 343-350, [doi: 10.1109/ICPHM57936.2023.10194172](https://ieeexplore.ieee.org/document/10194172).\n",
    "\n",
    "[2] F. Fingerhut, M. Verbeke and E. Tsiporkova, \"Unsupervised context-sensitive anomaly detection on streaming data relying on multi-view profiling,\" 2024 IEEE International Conference on Evolving and Adaptive Intelligent Systems (EAIS), Madrid, Spain, 2024, pp. 1-10, [doi: 10.1109/EAIS58494.2024.10569106](https://ieeexplore.ieee.org/document/10569106).\n",
    "\n",
    "[3] D. Lee, S. Seung, [“Learning the parts of objects by non-negative matrix factorization”](https://www.cs.columbia.edu/~blei/fogm/2020F/readings/LeeSeung1999.pdf), 1999"
   ]
  },
  {
   "cell_type": "markdown",
   "metadata": {},
   "source": [
    "#### ©, 2024, Sirris"
   ]
  },
  {
   "cell_type": "code",
   "execution_count": null,
   "metadata": {},
   "outputs": [],
   "source": []
  }
 ],
 "metadata": {
  "kernelspec": {
   "display_name": "compact",
   "language": "python",
   "name": "compact"
  },
  "language_info": {
   "codemirror_mode": {
    "name": "ipython",
    "version": 3
   },
   "file_extension": ".py",
   "mimetype": "text/x-python",
   "name": "python",
   "nbconvert_exporter": "python",
   "pygments_lexer": "ipython3",
   "version": "3.8.19"
  }
 },
 "nbformat": 4,
 "nbformat_minor": 4
}

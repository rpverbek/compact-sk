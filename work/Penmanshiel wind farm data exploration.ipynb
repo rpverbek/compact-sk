{
 "cells": [
  {
   "cell_type": "markdown",
   "metadata": {},
   "source": [
    "# Penmanshiel wind farm data exploration"
   ]
  },
  {
   "cell_type": "code",
   "execution_count": null,
   "metadata": {},
   "outputs": [],
   "source": [
    "import pandas as pd\n",
    "import numpy as np\n",
    "import matplotlib.pyplot as plt\n",
    "import seaborn as sns\n",
    "from glob import glob\n",
    "import folium\n",
    "import os\n",
    "from elucidata.resources.pipeline import DataFrameDownload"
   ]
  },
  {
   "cell_type": "code",
   "execution_count": null,
   "metadata": {},
   "outputs": [],
   "source": [
    "data_path = os.path.join('..', 'data', 'Penmanshiel')"
   ]
  },
  {
   "cell_type": "markdown",
   "metadata": {},
   "source": [
    "## Fleet information"
   ]
  },
  {
   "cell_type": "code",
   "execution_count": null,
   "metadata": {},
   "outputs": [],
   "source": []
  },
  {
   "cell_type": "code",
   "execution_count": null,
   "metadata": {},
   "outputs": [],
   "source": [
    "local_file = os.path.join(data_path, 'Penmanshiel_WT_static.csv')\n",
    "df_info = DataFrameDownload(local_file,\n",
    "                            'outputs/FAIR2/Penmanshiel/Penmanshiel_WT_static.csv', \n",
    "                            skiprows=range(15, 100)).make().dropna(axis=1)"
   ]
  },
  {
   "cell_type": "code",
   "execution_count": null,
   "metadata": {},
   "outputs": [],
   "source": [
    "df_info"
   ]
  },
  {
   "cell_type": "markdown",
   "metadata": {},
   "source": [
    "The dataset consists of 14 turbines (T03 is missing), they all have the same specifications and started operations. From the coordinates and the fact that they are referred to as a \"farm\", we assume they are co-located. We confirm this by plotting them on map:"
   ]
  },
  {
   "cell_type": "code",
   "execution_count": null,
   "metadata": {},
   "outputs": [],
   "source": [
    "center_loc = df_info[['Latitude', 'Longitude']].mean().values\n",
    "\n",
    "m = folium.Map(location=center_loc, zoom_start=13)\n",
    "\n",
    "for _j, row in df_info.iterrows():\n",
    "    folium.Marker(\n",
    "    location=row[['Latitude', 'Longitude']].values, # coordinates for the marker (Earth Lab at CU Boulder)\n",
    "    popup=f\"{row['Alternative Title']} ({row['Elevation (m)']}m)\", # pop-up label for the marker\n",
    "    icon=folium.Icon()\n",
    ").add_to(m)\n",
    "\n",
    "m"
   ]
  },
  {
   "cell_type": "markdown",
   "metadata": {},
   "source": [
    "They are indeed co-located in a hilly area in the south of Scotland. As can be seen in the elevation values for each turbine, these can differ substantially, with a maximum difference of 48 meters. This is an important factor to keep in mind."
   ]
  },
  {
   "cell_type": "markdown",
   "metadata": {},
   "source": [
    "## Scada data"
   ]
  },
  {
   "cell_type": "code",
   "execution_count": null,
   "metadata": {},
   "outputs": [],
   "source": [
    "def read_data_penmanshiel(turbine_number):\n",
    "    \n",
    "    local_file_scada = os.path.join(data_path, f'scada_T{turbine_number:02d}.csv')\n",
    "    df_scada = DataFrameDownload(local_file_scada,\n",
    "                                 f'outputs/FAIR2/Penmanshiel/scada_T{turbine_number:02d}.csv').make()\n",
    "    df_scada = df_scada.set_index('Datetime')\n",
    "    \n",
    "    local_file_logs = os.path.join(data_path, f'logs_T{turbine_number:02d}.csv')\n",
    "    df_logs = DataFrameDownload(local_file_logs,\n",
    "                                 f'outputs/FAIR2/Penmanshiel/logs_T{turbine_number:02d}.csv').make()\n",
    "\n",
    "    return df_scada, df_logs"
   ]
  },
  {
   "cell_type": "code",
   "execution_count": null,
   "metadata": {},
   "outputs": [],
   "source": []
  },
  {
   "cell_type": "code",
   "execution_count": null,
   "metadata": {},
   "outputs": [],
   "source": []
  },
  {
   "cell_type": "code",
   "execution_count": null,
   "metadata": {},
   "outputs": [],
   "source": []
  },
  {
   "cell_type": "markdown",
   "metadata": {},
   "source": [
    "### Turbine 1\n",
    "As an example, we'll look into Turbine 1."
   ]
  },
  {
   "cell_type": "code",
   "execution_count": null,
   "metadata": {},
   "outputs": [],
   "source": [
    "df_t1, df_logs_t1 = read_data_penmanshiel(1)"
   ]
  },
  {
   "cell_type": "code",
   "execution_count": null,
   "metadata": {},
   "outputs": [],
   "source": [
    "df_t1"
   ]
  },
  {
   "cell_type": "code",
   "execution_count": null,
   "metadata": {},
   "outputs": [],
   "source": [
    "# Plot the power curve\n",
    "sns.scatterplot(data=df_t1, x='Wind speed (m/s)', y='Power (kW)')"
   ]
  },
  {
   "cell_type": "markdown",
   "metadata": {},
   "source": [
    "We see a typical power curve, with some clear curtailment modes as well.\n",
    "\n",
    "Now let's have a look at the sensors in the dataset. The dataframe has 363 columns. However, most of these are related to the same quantity measured by the SCADA system, reporting the average, standard deviation, minimum, and maximum. We filter out all the columns corresponding to the STD, min, and max (which always have a ',' in their column name). "
   ]
  },
  {
   "cell_type": "code",
   "execution_count": null,
   "metadata": {},
   "outputs": [],
   "source": [
    "sensors = [col for col in df_t1.columns if ',' not in col]\n",
    "print(len(sensors))\n",
    "sensors"
   ]
  },
  {
   "cell_type": "markdown",
   "metadata": {},
   "source": [
    "We find a long list of sensors (147), not all of which are clear what they mean, some probably not very useful, others highly correlated to others.\n",
    "\n",
    "Let's inspect the theoretical energy and compare it to the export energy:"
   ]
  },
  {
   "cell_type": "code",
   "execution_count": null,
   "metadata": {},
   "outputs": [],
   "source": [
    "sns.scatterplot(data=df_t1, x='Wind speed (m/s)', y='Energy Export (kWh)')\n",
    "sns.scatterplot(data=df_t1, x='Wind speed (m/s)', y='Energy Theoretical (kWh)', color='g')"
   ]
  },
  {
   "cell_type": "markdown",
   "metadata": {},
   "source": [
    "The theoretical energy seems less spread out, but also not a clear 1-1 with wind speed. It remains unclear what this actually quantifies.\n",
    "\n",
    "Now, let's have a look at the time evolution of the power output. We first resample the data to 1 day."
   ]
  },
  {
   "cell_type": "code",
   "execution_count": null,
   "metadata": {},
   "outputs": [],
   "source": [
    "df_t1.index = pd.to_datetime(df_t1.index)"
   ]
  },
  {
   "cell_type": "code",
   "execution_count": null,
   "metadata": {},
   "outputs": [],
   "source": [
    "fig, ax = plt.subplots(figsize=(15, 5))\n",
    "df_sub = df_t1.resample('1D').median()\n",
    "sns.lineplot(data=df_sub, x=df_sub.index, y='Power (kW)', ax=ax)"
   ]
  },
  {
   "cell_type": "markdown",
   "metadata": {},
   "source": [
    "Below we show a heatmap of the missing data."
   ]
  },
  {
   "cell_type": "code",
   "execution_count": null,
   "metadata": {},
   "outputs": [],
   "source": [
    "fig, ax = plt.subplots(figsize=(15, 15))\n",
    "sns.heatmap(df_t1[sensors].isna(), cmap='Grays', cbar=False, ax=ax)"
   ]
  },
  {
   "cell_type": "markdown",
   "metadata": {},
   "source": [
    "## Logs"
   ]
  },
  {
   "cell_type": "markdown",
   "metadata": {},
   "source": [
    "Now we look at the log files, again for turbine 1."
   ]
  },
  {
   "cell_type": "code",
   "execution_count": null,
   "metadata": {},
   "outputs": [],
   "source": []
  },
  {
   "cell_type": "code",
   "execution_count": null,
   "metadata": {},
   "outputs": [],
   "source": []
  },
  {
   "cell_type": "code",
   "execution_count": null,
   "metadata": {},
   "outputs": [],
   "source": [
    "df_logs_t1"
   ]
  },
  {
   "cell_type": "code",
   "execution_count": null,
   "metadata": {},
   "outputs": [],
   "source": [
    "df_logs_t1['Status'].value_counts()"
   ]
  },
  {
   "cell_type": "markdown",
   "metadata": {},
   "source": [
    "We see that there are many logs reported, but most of them seem inconsequential. We zoom in on the ones that caused a \"Stop\"."
   ]
  },
  {
   "cell_type": "code",
   "execution_count": null,
   "metadata": {},
   "outputs": [],
   "source": [
    "df_logs_t1[df_logs_t1['Status'] == 'Stop']"
   ]
  },
  {
   "cell_type": "markdown",
   "metadata": {},
   "source": [
    "1227 instances where the turbine had to be shut down. Let's see what their message was and how long they were."
   ]
  },
  {
   "cell_type": "code",
   "execution_count": null,
   "metadata": {},
   "outputs": [],
   "source": [
    "df_logs_t1[df_logs_t1['Status'] == 'Stop']['Message'].value_counts()"
   ]
  },
  {
   "cell_type": "code",
   "execution_count": null,
   "metadata": {},
   "outputs": [],
   "source": [
    "df_logs_t1[df_logs_t1['Status'] == 'Stop']['Duration']"
   ]
  },
  {
   "cell_type": "code",
   "execution_count": null,
   "metadata": {},
   "outputs": [],
   "source": [
    "def duration_to_hours(x):\n",
    "    x_split = x.split(':')\n",
    "    return int(x_split[0]) + int(x_split[1]) / 60  + int(x_split[2]) / 3600\n",
    "\n",
    "df_stop = df_logs_t1[df_logs_t1['Status'] == 'Stop']\n",
    "df_stop['Duration in hours'] = df_stop['Duration'].apply(lambda x: duration_to_hours(x))\n",
    "\n",
    "fix, (ax1, ax2) = plt.subplots(1, 2, figsize=(15, 5))\n",
    "sns.boxplot(df_stop['Duration in hours'], ax=ax1)\n",
    "sns.boxplot(df_stop[df_stop['Duration in hours'] < 2]['Duration in hours'], ax=ax2)\n"
   ]
  },
  {
   "cell_type": "markdown",
   "metadata": {},
   "source": [
    "We see that most stops were less than an hour, but with a few strong outliers. We look into these."
   ]
  },
  {
   "cell_type": "code",
   "execution_count": null,
   "metadata": {},
   "outputs": [],
   "source": [
    "df_stop[df_stop['Duration in hours'] > 50]"
   ]
  },
  {
   "cell_type": "markdown",
   "metadata": {},
   "source": [
    "Some of these correspond to maintenance. Let's look at all logs were maintenance was reported and how long they took."
   ]
  },
  {
   "cell_type": "code",
   "execution_count": null,
   "metadata": {},
   "outputs": [],
   "source": [
    "df_logs_maintenance = df_logs_t1[df_logs_t1['IEC category'].apply(lambda x: 'Maintenance' in str(x))]\n",
    "df_logs_maintenance"
   ]
  },
  {
   "cell_type": "code",
   "execution_count": null,
   "metadata": {},
   "outputs": [],
   "source": []
  },
  {
   "cell_type": "code",
   "execution_count": null,
   "metadata": {},
   "outputs": [],
   "source": [
    "df_logs_maintenance['Duration in hours'] = df_logs_maintenance['Duration'].apply(lambda x: duration_to_hours(x))"
   ]
  },
  {
   "cell_type": "code",
   "execution_count": null,
   "metadata": {},
   "outputs": [],
   "source": [
    "fix, (ax1, ax2) = plt.subplots(1, 2, figsize=(15, 5))\n",
    "sns.boxplot(df_logs_maintenance['Duration in hours'], ax=ax1)\n",
    "sns.boxplot(df_logs_maintenance['Duration in hours'], ax=ax2)\n",
    "ax2.set_ylim(-1, 5)"
   ]
  },
  {
   "cell_type": "markdown",
   "metadata": {},
   "source": [
    "About half of the maintenance events are less than 1 hour, however some lasted several hours, upto ~5 days (120 hours). If we select the ones lasting more than 5 hours, we have 10 events left over for turbine 1."
   ]
  },
  {
   "cell_type": "code",
   "execution_count": null,
   "metadata": {},
   "outputs": [],
   "source": [
    "df_logs_maintenance[df_logs_maintenance['Duration in hours'] > 5]"
   ]
  },
  {
   "cell_type": "code",
   "execution_count": null,
   "metadata": {},
   "outputs": [],
   "source": []
  },
  {
   "cell_type": "code",
   "execution_count": null,
   "metadata": {},
   "outputs": [],
   "source": []
  }
 ],
 "metadata": {
  "language_info": {
   "name": "python",
   "pygments_lexer": "ipython3"
  }
 },
 "nbformat": 4,
 "nbformat_minor": 5
}

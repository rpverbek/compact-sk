{
 "cells": [
  {
   "cell_type": "markdown",
   "id": "a05a81f4",
   "metadata": {},
   "source": [
    "# Penmanshiel wind farm data exploration"
   ]
  },
  {
   "cell_type": "code",
   "execution_count": null,
   "id": "67e5bd34",
   "metadata": {},
   "outputs": [],
   "source": [
    "import pandas as pd\n",
    "import numpy as np\n",
    "import matplotlib.pyplot as plt\n",
    "import seaborn as sns\n",
    "from glob import glob\n",
    "import folium\n",
    "import os"
   ]
  },
  {
   "cell_type": "code",
   "execution_count": null,
   "id": "b729e424",
   "metadata": {},
   "outputs": [],
   "source": [
    "data_path = os.path.join('../app/data/Penmanshiel/')"
   ]
  },
  {
   "cell_type": "markdown",
   "id": "ac628856",
   "metadata": {},
   "source": [
    "## Fleet information"
   ]
  },
  {
   "cell_type": "code",
   "execution_count": null,
   "id": "236099ef-8c41-4b4d-a1a8-af534cf15c93",
   "metadata": {},
   "outputs": [],
   "source": [
    "df_info=pd.read_csv(\"Penmanshiel_WT/Penmanshiel_WT_static.csv\")"
   ]
  },
  {
   "cell_type": "code",
   "execution_count": null,
   "id": "7674954b-219d-4a6e-83d7-55fbdad0e832",
   "metadata": {},
   "outputs": [],
   "source": [
    "df_info.columns"
   ]
  },
  {
   "cell_type": "code",
   "execution_count": null,
   "id": "785225de",
   "metadata": {},
   "outputs": [],
   "source": [
    "df_info.dropna(how=\"all\",inplace=True)\n",
    "df_info"
   ]
  },
  {
   "cell_type": "markdown",
   "id": "156fbf6c",
   "metadata": {},
   "source": [
    "The dataset consists of 14 turbines (T03 is missing), they all have the same specifications and started operations. From the coordinates and the fact that they are referred to as a \"farm\", we assume they are co-located. We confirm this by plotting them on map:"
   ]
  },
  {
   "cell_type": "code",
   "execution_count": null,
   "id": "d89cba97",
   "metadata": {},
   "outputs": [],
   "source": [
    "center_loc = df_info[['Latitude', 'Longitude']].mean().values\n",
    "\n",
    "m = folium.Map(location=center_loc, zoom_start=13)\n",
    "\n",
    "for _j, row in df_info.iterrows():\n",
    "    folium.Marker(\n",
    "    location=row[['Latitude', 'Longitude']].values, # coordinates for the marker (Earth Lab at CU Boulder)\n",
    "    popup=f\"{row['Alternative Title']} ({row['Elevation (m)']}m)\", # pop-up label for the marker\n",
    "    icon=folium.Icon()\n",
    ").add_to(m)\n",
    "\n",
    "m"
   ]
  },
  {
   "cell_type": "markdown",
   "id": "e7b40cbf",
   "metadata": {},
   "source": [
    "They are indeed co-located in a hilly area in the south of Scotland. As can be seen in the elevation values for each turbine, these can differ substantially, with a maximum difference of 48 meters. This is an important factor to keep in mind."
   ]
  },
  {
   "cell_type": "markdown",
   "id": "fe53d9f3",
   "metadata": {},
   "source": [
    "## Scada data"
   ]
  },
  {
   "cell_type": "code",
   "execution_count": null,
   "id": "6f44aa61",
   "metadata": {},
   "outputs": [],
   "source": [
    "def read_data_penmanshiel(turbine_number):\n",
    "    \n",
    "    local_file_scada = os.path.join(data_path, f'scada_T{turbine_number:02d}.csv')\n",
    "    df_scada = pd.read_csv(local_file_scada)\n",
    "    df_scada = df_scada.set_index('Datetime',drop=True)\n",
    "    \n",
    "    local_file_logs = os.path.join(data_path, f'logs_T{turbine_number:02d}.csv')\n",
    "    df_logs = pd.read_csv(local_file_logs)\n",
    "\n",
    "    return df_scada, df_logs"
   ]
  },
  {
   "cell_type": "markdown",
   "id": "a4f4426b",
   "metadata": {},
   "source": [
    "### Turbine 1\n",
    "As an example, we'll look into Turbine 1."
   ]
  },
  {
   "cell_type": "code",
   "execution_count": null,
   "id": "3dcaa14a",
   "metadata": {},
   "outputs": [],
   "source": [
    "df_t1, df_logs_t1 = read_data_penmanshiel(1)"
   ]
  },
  {
   "cell_type": "code",
   "execution_count": null,
   "id": "a5274d22",
   "metadata": {},
   "outputs": [],
   "source": [
    "df_t1.head(10)"
   ]
  },
  {
   "cell_type": "code",
   "execution_count": null,
   "id": "9e356975",
   "metadata": {},
   "outputs": [],
   "source": [
    "# Plot the power curve\n",
    "sns.scatterplot(data=df_t1, x='Wind speed (m/s)', y='Power (kW)')"
   ]
  },
  {
   "cell_type": "markdown",
   "id": "40a5ac86",
   "metadata": {},
   "source": [
    "We see a typical power curve, with some clear curtailment modes as well.\n",
    "\n",
    "Now let's have a look at the sensors in the dataset. The dataframe has 363 columns. However, most of these are related to the same quantity measured by the SCADA system, reporting the average, standard deviation, minimum, and maximum. We filter out all the columns corresponding to the STD, min, and max (which always have a ',' in their column name). "
   ]
  },
  {
   "cell_type": "code",
   "execution_count": null,
   "id": "ffe0515b-906d-484a-b1d6-9f0e13db7a14",
   "metadata": {},
   "outputs": [],
   "source": [
    "len(df_t1.columns)"
   ]
  },
  {
   "cell_type": "markdown",
   "id": "56282d9e-aa9b-4e8a-b777-0e8dabfb92e0",
   "metadata": {},
   "source": [
    "#### Preprocessing"
   ]
  },
  {
   "cell_type": "code",
   "execution_count": null,
   "id": "7acaa2ae-1b6e-4bcf-a438-4e4bcf495121",
   "metadata": {},
   "outputs": [],
   "source": [
    "df_t1.drop('Unnamed: 0',axis=1,inplace=True)"
   ]
  },
  {
   "cell_type": "code",
   "execution_count": null,
   "id": "49328a45",
   "metadata": {
    "scrolled": true
   },
   "outputs": [],
   "source": [
    "sensors = [col for col in df_t1.columns if ',' not in col]\n",
    "print(len(sensors))\n",
    "sensors"
   ]
  },
  {
   "cell_type": "code",
   "execution_count": null,
   "id": "b71f39f7-9e10-48df-9170-dd8e35f2434f",
   "metadata": {},
   "outputs": [],
   "source": [
    "print(df_t1.index.min())\n",
    "print(df_t1.index.max())"
   ]
  },
  {
   "cell_type": "markdown",
   "id": "3e3811e3-ad5f-48bc-8f79-542bcec0d146",
   "metadata": {},
   "source": [
    "Around 6 years of data.\n",
    "\n",
    "Consider one full year of data to understand the features"
   ]
  },
  {
   "cell_type": "code",
   "execution_count": null,
   "id": "edafeac1-b081-447a-bacf-0cd9d0c5517c",
   "metadata": {},
   "outputs": [],
   "source": [
    "df_Penmanshiel=df_t1[(df_t1.index>=\"2019-01-01 00:00:00\") & (df_t1.index<=\"2019-12-31 23:50:00\")].copy()\n",
    "df_Penmanshiel=df_Penmanshiel[sensors].copy()"
   ]
  },
  {
   "cell_type": "code",
   "execution_count": null,
   "id": "76e8736a-65bb-4d4a-a7de-7c805992abae",
   "metadata": {},
   "outputs": [],
   "source": [
    "len(df_Penmanshiel.columns)"
   ]
  },
  {
   "cell_type": "markdown",
   "id": "9d21e3ff-932c-46a7-8a4c-756f75a56eec",
   "metadata": {},
   "source": [
    "Drop Nan features"
   ]
  },
  {
   "cell_type": "code",
   "execution_count": null,
   "id": "9a3546b5-4c4f-4a98-a558-bd579ec03f36",
   "metadata": {},
   "outputs": [],
   "source": [
    "df_Penmanshiel.dropna(axis=1,how='all',inplace=True)"
   ]
  },
  {
   "cell_type": "code",
   "execution_count": null,
   "id": "494750d9-c0d3-46ed-a30f-44346e4dcb16",
   "metadata": {},
   "outputs": [],
   "source": [
    "len(df_Penmanshiel.columns)"
   ]
  },
  {
   "cell_type": "markdown",
   "id": "4f5e2267-f8fa-42e4-8386-ebccf98e33db",
   "metadata": {},
   "source": [
    "Drop features which are always zero"
   ]
  },
  {
   "cell_type": "code",
   "execution_count": null,
   "id": "3abae7fd-0a7f-479a-b978-2e04445baec4",
   "metadata": {},
   "outputs": [],
   "source": [
    "df_Penmanshiel = df_Penmanshiel.loc[:, (df_Penmanshiel != 0).any(axis=0)]"
   ]
  },
  {
   "cell_type": "code",
   "execution_count": null,
   "id": "da21e9ff-6175-41e8-8daa-1e9074f88468",
   "metadata": {},
   "outputs": [],
   "source": [
    "len(df_Penmanshiel.columns)"
   ]
  },
  {
   "cell_type": "markdown",
   "id": "545287c1-7669-4e3c-997f-933fab27dc3d",
   "metadata": {},
   "source": [
    "Drop features which are always the same"
   ]
  },
  {
   "cell_type": "code",
   "execution_count": null,
   "id": "75d87dfc-4f33-4656-a7fc-8449cda4f3d1",
   "metadata": {},
   "outputs": [],
   "source": [
    "df_Penmanshiel = df_Penmanshiel.loc[:, df_Penmanshiel.nunique() > 1]"
   ]
  },
  {
   "cell_type": "code",
   "execution_count": null,
   "id": "9305487f-8c38-4233-8cbc-821fab4740b0",
   "metadata": {},
   "outputs": [],
   "source": [
    "len(df_Penmanshiel.columns)"
   ]
  },
  {
   "cell_type": "markdown",
   "id": "77992fb7-6ea7-4554-92ce-a264053338ac",
   "metadata": {},
   "source": [
    "Drop features with more that 90% missing values"
   ]
  },
  {
   "cell_type": "code",
   "execution_count": null,
   "id": "57150948-7c3a-464f-a0c5-517fb090a3ae",
   "metadata": {},
   "outputs": [],
   "source": [
    "col = df_Penmanshiel.columns[df_Penmanshiel.isnull().mean() > 0.9].tolist()\n",
    "col"
   ]
  },
  {
   "cell_type": "code",
   "execution_count": null,
   "id": "e3e4e181-5823-40b2-90b3-bb2706207ac0",
   "metadata": {},
   "outputs": [],
   "source": [
    "df_Penmanshiel.drop(col,inplace=True,axis=1)"
   ]
  },
  {
   "cell_type": "code",
   "execution_count": null,
   "id": "3f377c7b-108e-468a-98a4-74e249cffcb4",
   "metadata": {},
   "outputs": [],
   "source": [
    "len(df_Penmanshiel.columns)"
   ]
  },
  {
   "cell_type": "code",
   "execution_count": null,
   "id": "eb0e0fcd-40b1-4da7-b815-5ff5ec89be36",
   "metadata": {},
   "outputs": [],
   "source": [
    "col=df_Penmanshiel.columns[df_Penmanshiel.columns.str.contains(\"Gear|gear\")]\n",
    "corr=df_Penmanshiel[col].corr()\n",
    "corr.style.background_gradient(cmap='coolwarm')"
   ]
  },
  {
   "cell_type": "code",
   "execution_count": null,
   "id": "5957aa13-18d1-4054-bab6-c72bd611c49e",
   "metadata": {},
   "outputs": [],
   "source": [
    "col"
   ]
  },
  {
   "cell_type": "markdown",
   "id": "70f5daab-e83e-453c-a0de-8b5cd7dc3242",
   "metadata": {},
   "source": [
    "- pairplot for highly correlated feature\n",
    "    - should we keep both features "
   ]
  },
  {
   "cell_type": "markdown",
   "id": "bb4285d5-6a3d-49b0-9db8-455050c5f428",
   "metadata": {},
   "source": [
    "#### Correlation analysis"
   ]
  },
  {
   "cell_type": "code",
   "execution_count": null,
   "id": "b60ba649-d122-45d3-a12f-68b90c0dafa0",
   "metadata": {},
   "outputs": [],
   "source": [
    "df_high_corr = pd.DataFrame(df_Penmanshiel.corr().where(lambda x: x > 0.95).stack().drop_duplicates())"
   ]
  },
  {
   "cell_type": "code",
   "execution_count": null,
   "id": "cd5bfb7f-61a9-4f84-92d4-16cb6fa0f764",
   "metadata": {},
   "outputs": [],
   "source": [
    "df_high_corr.head(20)"
   ]
  },
  {
   "cell_type": "code",
   "execution_count": null,
   "id": "6f928bb3-e866-4071-9a39-8e2b6e0ae599",
   "metadata": {
    "scrolled": true
   },
   "outputs": [],
   "source": [
    "df_final=df_Penmanshiel[['Wind speed (m/s)',\n",
    " 'Long Term Wind (m/s)',\n",
    " 'Wind direction (°)',\n",
    " 'Nacelle position (°)',\n",
    " 'Vane position 1+2 (°)',\n",
    " 'Gear oil inlet temperature (°C)',\n",
    " 'Generator bearing rear temperature (°C)',\n",
    " 'Generator bearing front temperature (°C)',\n",
    " 'Gear oil temperature (°C)',\n",
    " 'Rotor bearing temp (°C)',\n",
    " 'Temperature motor axis 1 (°C)',\n",
    " 'Temperature motor axis 2 (°C)',\n",
    " 'Temperature motor axis 3 (°C)',\n",
    " 'Motor current axis 1 (A)',\n",
    " 'Motor current axis 2 (A)',\n",
    " 'Motor current axis 3 (A)',\n",
    " 'Rotor speed (RPM)',\n",
    " 'Generator RPM (RPM)',\n",
    " 'Gearbox speed (RPM)',\n",
    " 'Blade angle (pitch position) A (°)',\n",
    " 'Blade angle (pitch position) B (°)',\n",
    " 'Blade angle (pitch position) C (°)',\n",
    " 'Yaw bearing angle (°)',\n",
    " 'Gear oil inlet pressure (bar)',\n",
    " 'Gear oil pump pressure (bar)',\n",
    " 'Drive train acceleration (mm/ss)',\n",
    " 'Tower Acceleration X (mm/ss)',\n",
    " 'Tower Acceleration y (mm/ss)']].copy()\n",
    "\n",
    "corr=df_final.corr()\n",
    "corr.style.background_gradient(cmap='coolwarm')"
   ]
  },
  {
   "cell_type": "code",
   "execution_count": null,
   "id": "16674f34-3eb8-4841-922c-1933963dd978",
   "metadata": {},
   "outputs": [],
   "source": [
    "corr[['Gear oil inlet pressure (bar)', 'Gear oil pump pressure (bar)']].mean(axis=0)"
   ]
  },
  {
   "cell_type": "code",
   "execution_count": null,
   "id": "9767667d-4f1e-4f71-adfa-d3c56766600f",
   "metadata": {},
   "outputs": [],
   "source": []
  },
  {
   "cell_type": "code",
   "execution_count": null,
   "id": "4aa51a10-c6d4-45de-8e4f-5edd28295335",
   "metadata": {},
   "outputs": [],
   "source": [
    "df_final[\"Motor temperature (°C)\"] = df_final[['Temperature motor axis 1 (°C)',\n",
    "                                          'Temperature motor axis 2 (°C)',\n",
    "                                          'Temperature motor axis 3 (°C)']].mean(axis=1)\n",
    "\n",
    "df_final[\"Motor current (A)\"] = df_final[['Motor current axis 1 (A)',\n",
    "                                          'Motor current axis 2 (A)',\n",
    "                                          'Motor current axis 3 (A)',]].mean(axis=1)\n",
    "\n",
    "temp = df_final[['Blade angle (pitch position) A (°)','Blade angle (pitch position) B (°)','Blade angle (pitch position) C (°)']].apply(np.radians)\n",
    "# Convert angular values to Cartesian coordinates\n",
    "x = temp.apply(lambda row: np.cos(row), axis=1)\n",
    "y = temp.apply(lambda row: np.sin(row), axis=1)\n",
    "# Average the Cartesian coordinates\n",
    "mean_x = x.mean(axis=1)\n",
    "mean_y = y.mean(axis=1)\n",
    "# Convert the average Cartesian coordinates back to an angle in radians\n",
    "mean_angle_radians = np.arctan2(mean_y, mean_x)\n",
    "df_final['Blade Angle (pitch position) (°)'] = np.degrees(mean_angle_radians)\n",
    "\n",
    "df_final.drop(['Blade angle (pitch position) A (°)','Blade angle (pitch position) B (°)','Blade angle (pitch position) C (°)',\n",
    "                'Motor current axis 1 (A)','Motor current axis 2 (A)','Motor current axis 3 (A)',\n",
    "                'Temperature motor axis 1 (°C)','Temperature motor axis 2 (°C)','Temperature motor axis 3 (°C)',\n",
    "                'Yaw bearing angle (°)','Rotor speed (RPM)','Gearbox speed (RPM)','Gear oil inlet pressure (bar)'],axis=1,inplace=True)"
   ]
  },
  {
   "cell_type": "code",
   "execution_count": null,
   "id": "c382a98f-fb35-467c-a187-72be0f306f15",
   "metadata": {
    "scrolled": true
   },
   "outputs": [],
   "source": [
    "corr=df_final.corr()\n",
    "corr.style.background_gradient(cmap='coolwarm')"
   ]
  },
  {
   "cell_type": "code",
   "execution_count": null,
   "id": "a2ffc658-c506-47b2-b5d1-45733f5cc5de",
   "metadata": {},
   "outputs": [],
   "source": [
    "corr.stack().value_counts().sort_index(ascending=False)"
   ]
  },
  {
   "cell_type": "code",
   "execution_count": null,
   "id": "3559a692-ac67-49ad-a298-038858e01443",
   "metadata": {},
   "outputs": [],
   "source": [
    "for col in ['Nacelle position (°)','Vane position 1+2 (°)','Blade Angle (pitch position) (°)']:\n",
    "    df_final[col.split(\"(°)\")[0]+\" cos\"] = np.cos(np.radians(df_final[col]))\n",
    "    df_final[col.split(\"(°)\")[0]+\" sin\"] = np.sin(np.radians(df_final[col]))"
   ]
  },
  {
   "cell_type": "code",
   "execution_count": null,
   "id": "f4be871b-1df8-4788-b10b-67c66e1defc0",
   "metadata": {},
   "outputs": [],
   "source": [
    "def convert_angles_lengths_to_u_v(angles, lengths, conversion='trigonometric', kind='deg'):\n",
    "    u = -np.sin(angles * np.pi / 180) * lengths\n",
    "    v = -np.cos(angles * np.pi / 180) * lengths\n",
    "    return u, v\n",
    "\n",
    "df_final[\"Wind direction u\"],df_final[\"Wind direction v\"] = convert_angles_lengths_to_u_v(df_final['Wind direction (°)'],df_final['Wind speed (m/s)'])"
   ]
  },
  {
   "cell_type": "code",
   "execution_count": null,
   "id": "71b54a33-293f-4fa8-9753-bed99bb18647",
   "metadata": {},
   "outputs": [],
   "source": [
    "df_final"
   ]
  },
  {
   "cell_type": "code",
   "execution_count": null,
   "id": "9decf8c0-ea7d-47e1-ad2e-0e67235b904b",
   "metadata": {},
   "outputs": [],
   "source": []
  },
  {
   "cell_type": "code",
   "execution_count": null,
   "id": "c5f64a03-a57f-4f66-8a16-46e069746245",
   "metadata": {},
   "outputs": [],
   "source": [
    "[\"Wind speed (m/s)\",\"Long Term Wind (m/s)\",\"Wind direction (°)\",]\n",
    "[\"Nacelle position (°)\",\"Vane position 1+2 (°)\"]\n",
    "[\"Energy Export (kWh)\",\"Energy Import (kWh)\",]"
   ]
  },
  {
   "cell_type": "markdown",
   "id": "bf92fdd0-911a-4247-b23c-7c3171156880",
   "metadata": {},
   "source": [
    "- Highly correlated\n",
    "    - Wind speed and Wind speed Sensor 1/2 \n",
    "    - \"Nacelle position (°)\" and \"Yaw bearing angle (°)\"\n",
    "    - \"Energy Export (kWh)\" and \"Virtual Production (kWh)\"\n",
    "    - \"Energy Export counter (kWh)\", \"Energy Import counter (kWh)\", \"Reactive Energy Import counter (kvarh)\"\n",
    "\n",
    "- Energy Import counter (kWh) --> missing values\n",
    "- "
   ]
  },
  {
   "cell_type": "code",
   "execution_count": null,
   "id": "5e952b0b-ce32-4ac5-bc34-aa000b5908ee",
   "metadata": {
    "scrolled": true
   },
   "outputs": [],
   "source": [
    "corr=pd.DataFrame(df_Penmanshiel.corrwith(df_Penmanshiel[\"Front bearing temperature (°C)\"]))\n",
    "corr.style.background_gradient(cmap='coolwarm')"
   ]
  },
  {
   "cell_type": "code",
   "execution_count": null,
   "id": "0e0e4213-a81b-4478-8f35-10bf71cad9f1",
   "metadata": {
    "scrolled": true
   },
   "outputs": [],
   "source": [
    "corr = df_Penmanshiel.corr()\n",
    "corr.style.background_gradient(cmap='coolwarm')"
   ]
  },
  {
   "cell_type": "code",
   "execution_count": null,
   "id": "3f614efd-8924-49e2-b58c-09654401d4bc",
   "metadata": {},
   "outputs": [],
   "source": []
  },
  {
   "cell_type": "code",
   "execution_count": null,
   "id": "8f209940-3ffe-42b0-a446-edd1a23647a1",
   "metadata": {},
   "outputs": [],
   "source": [
    "df_final"
   ]
  },
  {
   "cell_type": "code",
   "execution_count": null,
   "id": "14b01b3f-2240-479e-8821-91c09ddbc1f6",
   "metadata": {},
   "outputs": [],
   "source": [
    "np.cos(np.deg2rad(df_final['Nacelle position (°)']))"
   ]
  },
  {
   "cell_type": "code",
   "execution_count": null,
   "id": "dbfd6bc6-edd6-4a93-80c3-f3d3235adb46",
   "metadata": {},
   "outputs": [],
   "source": []
  },
  {
   "cell_type": "markdown",
   "id": "67a61caa",
   "metadata": {},
   "source": [
    "Let's inspect the theoretical energy and compare it to the export energy:"
   ]
  },
  {
   "cell_type": "code",
   "execution_count": null,
   "id": "fa967c81",
   "metadata": {},
   "outputs": [],
   "source": [
    "sns.scatterplot(data=df_t1, x='Wind speed (m/s)', y='Energy Export (kWh)')\n",
    "sns.scatterplot(data=df_t1, x='Wind speed (m/s)', y='Energy Theoretical (kWh)', color='g')"
   ]
  },
  {
   "cell_type": "markdown",
   "id": "aa469747",
   "metadata": {},
   "source": [
    "The theoretical energy seems less spread out, but also not a clear 1-1 with wind speed. It remains unclear what this actually quantifies.\n",
    "\n",
    "Now, let's have a look at the time evolution of the power output. We first resample the data to 1 day."
   ]
  },
  {
   "cell_type": "code",
   "execution_count": null,
   "id": "d57bb45a",
   "metadata": {},
   "outputs": [],
   "source": [
    "df_t1.index = pd.to_datetime(df_t1.index)"
   ]
  },
  {
   "cell_type": "code",
   "execution_count": null,
   "id": "29abe35d",
   "metadata": {},
   "outputs": [],
   "source": [
    "fig, ax = plt.subplots(figsize=(15, 5))\n",
    "df_sub = df_t1.resample('1D').median()\n",
    "sns.lineplot(data=df_sub, x=df_sub.index, y='Power (kW)', ax=ax)"
   ]
  },
  {
   "cell_type": "markdown",
   "id": "f271d20b",
   "metadata": {},
   "source": [
    "Below we show a heatmap of the missing data."
   ]
  },
  {
   "cell_type": "code",
   "execution_count": null,
   "id": "eac5a88a",
   "metadata": {
    "scrolled": true
   },
   "outputs": [],
   "source": [
    "fig, ax = plt.subplots(figsize=(15, 15))\n",
    "sns.heatmap(df_t1[sensors].isna(), cmap='Grays', cbar=False, ax=ax)"
   ]
  },
  {
   "cell_type": "code",
   "execution_count": null,
   "id": "fe875883-7cdb-408f-80c6-89198f130430",
   "metadata": {},
   "outputs": [],
   "source": []
  },
  {
   "cell_type": "code",
   "execution_count": null,
   "id": "8191545b-cc18-4c48-85a0-d49176245b0a",
   "metadata": {},
   "outputs": [],
   "source": []
  },
  {
   "cell_type": "markdown",
   "id": "da6d67ab-9fd1-4fcd-b02d-acf06fb7dfa0",
   "metadata": {},
   "source": [
    "- External Wind   --> [\"Wind speed (m/s)\",\"Long Term Wind (m/s)\",\"Wind direction (°)\",]\n",
    "- Wind positioning(internal)   --> [\"Nacelle position (°)\",\"Vane position 1+2 (°)\",\"Blade angle (pitch position) A (°)\",\"Yaw\"]\n",
    "- Drive Train (Generator-Rotor-GearBox- Drive train) --> remove rotor speed, GearBox\n",
    "- Gear\n",
    "- Motor blade --> mean temp axis/ mean current axis (want to highlight misbehavior)\n",
    "- Tower\n",
    "\n",
    "\n",
    "\n",
    "- Metal\n",
    "- Cable windings from calibration point\n",
    "\n",
    "- KPI\n",
    "    - Energy  \n",
    "    - Power\n",
    "    - Production-\n",
    "    - Grid Voltage-Current-frequency\n",
    "    - Capacity factor (what is this feature ?)\n",
    "    - Contractual Avail\n",
    "    - Performance Index"
   ]
  },
  {
   "cell_type": "code",
   "execution_count": null,
   "id": "36e98cc9-d39d-46b6-a13e-dfb82d0eb73f",
   "metadata": {},
   "outputs": [],
   "source": []
  },
  {
   "cell_type": "code",
   "execution_count": null,
   "id": "0e8f8866-5237-47be-b889-06ec14636036",
   "metadata": {},
   "outputs": [],
   "source": []
  },
  {
   "cell_type": "markdown",
   "id": "2d2933b0",
   "metadata": {},
   "source": [
    "## Logs"
   ]
  },
  {
   "cell_type": "markdown",
   "id": "7eef7de5",
   "metadata": {},
   "source": [
    "Now we look at the log files, again for turbine 1."
   ]
  },
  {
   "cell_type": "code",
   "execution_count": null,
   "id": "9e8ba452",
   "metadata": {},
   "outputs": [],
   "source": []
  },
  {
   "cell_type": "code",
   "execution_count": null,
   "id": "d864c44a",
   "metadata": {},
   "outputs": [],
   "source": [
    "df_logs_t1"
   ]
  },
  {
   "cell_type": "code",
   "execution_count": null,
   "id": "a70ba307",
   "metadata": {},
   "outputs": [],
   "source": [
    "df_logs_t1['Status'].value_counts()"
   ]
  },
  {
   "cell_type": "code",
   "execution_count": null,
   "id": "213e68a0-d1de-49eb-8d8c-b4c53e2a5b25",
   "metadata": {},
   "outputs": [],
   "source": [
    "df_logs_t1['Message'].value_counts()"
   ]
  },
  {
   "cell_type": "markdown",
   "id": "a968084a",
   "metadata": {},
   "source": [
    "We see that there are many logs reported, but most of them seem inconsequential. We zoom in on the ones that caused a \"Stop\"."
   ]
  },
  {
   "cell_type": "code",
   "execution_count": null,
   "id": "273241ac",
   "metadata": {},
   "outputs": [],
   "source": [
    "df_logs_t1[df_logs_t1['Status'] == 'Stop']"
   ]
  },
  {
   "cell_type": "markdown",
   "id": "dec82a3b",
   "metadata": {},
   "source": [
    "1227 instances where the turbine had to be shut down. Let's see what their message was and how long they were."
   ]
  },
  {
   "cell_type": "code",
   "execution_count": null,
   "id": "34d5e960",
   "metadata": {},
   "outputs": [],
   "source": [
    "df_logs_t1[df_logs_t1['Status'] == 'Stop']['Message'].value_counts()"
   ]
  },
  {
   "cell_type": "code",
   "execution_count": null,
   "id": "3edfcbc7",
   "metadata": {},
   "outputs": [],
   "source": [
    "df_logs_t1[df_logs_t1['Status'] == 'Stop']['Duration']"
   ]
  },
  {
   "cell_type": "code",
   "execution_count": null,
   "id": "2922e635",
   "metadata": {},
   "outputs": [],
   "source": [
    "def duration_to_hours(x):\n",
    "    x_split = x.split(':')\n",
    "    return int(x_split[0]) + int(x_split[1]) / 60  + int(x_split[2]) / 3600\n",
    "\n",
    "df_stop = df_logs_t1[df_logs_t1['Status'] == 'Stop']\n",
    "df_stop['Duration in hours'] = df_stop['Duration'].apply(lambda x: duration_to_hours(x))\n",
    "\n",
    "fix, (ax1, ax2) = plt.subplots(1, 2, figsize=(15, 5))\n",
    "sns.boxplot(df_stop['Duration in hours'], ax=ax1)\n",
    "sns.boxplot(df_stop[df_stop['Duration in hours'] < 2]['Duration in hours'], ax=ax2)\n"
   ]
  },
  {
   "cell_type": "markdown",
   "id": "35356ff9",
   "metadata": {},
   "source": [
    "We see that most stops were less than an hour, but with a few strong outliers. We look into these."
   ]
  },
  {
   "cell_type": "code",
   "execution_count": null,
   "id": "d1f7127c",
   "metadata": {},
   "outputs": [],
   "source": [
    "df_stop[df_stop['Duration in hours'] > 50]"
   ]
  },
  {
   "cell_type": "markdown",
   "id": "3e3729b1",
   "metadata": {},
   "source": [
    "Some of these correspond to maintenance. Let's look at all logs were maintenance was reported and how long they took."
   ]
  },
  {
   "cell_type": "code",
   "execution_count": null,
   "id": "daf74c76",
   "metadata": {},
   "outputs": [],
   "source": [
    "df_logs_maintenance = df_logs_t1[df_logs_t1['IEC category'].apply(lambda x: 'Maintenance' in str(x))]\n",
    "df_logs_maintenance"
   ]
  },
  {
   "cell_type": "code",
   "execution_count": null,
   "id": "bc4ab89a",
   "metadata": {},
   "outputs": [],
   "source": []
  },
  {
   "cell_type": "code",
   "execution_count": null,
   "id": "c598747a",
   "metadata": {},
   "outputs": [],
   "source": [
    "df_logs_maintenance['Duration in hours'] = df_logs_maintenance['Duration'].apply(lambda x: duration_to_hours(x))"
   ]
  },
  {
   "cell_type": "code",
   "execution_count": null,
   "id": "9d85ec0b",
   "metadata": {},
   "outputs": [],
   "source": [
    "fix, (ax1, ax2) = plt.subplots(1, 2, figsize=(15, 5))\n",
    "sns.boxplot(df_logs_maintenance['Duration in hours'], ax=ax1)\n",
    "sns.boxplot(df_logs_maintenance['Duration in hours'], ax=ax2)\n",
    "ax2.set_ylim(-1, 5)"
   ]
  },
  {
   "cell_type": "markdown",
   "id": "2c71c38d",
   "metadata": {},
   "source": [
    "About half of the maintenance events are less than 1 hour, however some lasted several hours, upto ~5 days (120 hours). If we select the ones lasting more than 5 hours, we have 10 events left over for turbine 1."
   ]
  },
  {
   "cell_type": "code",
   "execution_count": null,
   "id": "423d9a5e",
   "metadata": {},
   "outputs": [],
   "source": [
    "df_logs_maintenance[df_logs_maintenance['Duration in hours'] > 5]"
   ]
  },
  {
   "cell_type": "code",
   "execution_count": null,
   "id": "14cd8651",
   "metadata": {},
   "outputs": [],
   "source": []
  },
  {
   "cell_type": "markdown",
   "id": "463a15ee-acc0-4dfc-bab7-6d0440d0acac",
   "metadata": {},
   "source": [
    "- gear oil pressure vs wind speed and active power\n",
    "    - is gear oil pressure related to curtailment of T09 and T10? "
   ]
  }
 ],
 "metadata": {
  "kernelspec": {
   "display_name": "Python 3 (ipykernel)",
   "language": "python",
   "name": "python3"
  },
  "language_info": {
   "codemirror_mode": {
    "name": "ipython",
    "version": 3
   },
   "file_extension": ".py",
   "mimetype": "text/x-python",
   "name": "python",
   "nbconvert_exporter": "python",
   "pygments_lexer": "ipython3",
   "version": "3.11.0rc1"
  }
 },
 "nbformat": 4,
 "nbformat_minor": 5
}

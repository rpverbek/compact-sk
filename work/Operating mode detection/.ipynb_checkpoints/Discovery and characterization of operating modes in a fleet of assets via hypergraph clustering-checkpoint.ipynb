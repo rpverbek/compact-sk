{
 "cells": [
  {
   "attachments": {},
   "cell_type": "markdown",
   "id": "7dee0bf1-2469-40a0-bc92-a3752a6eafde",
   "metadata": {},
   "source": [
    "# Discovery and characterization of operating modes in a fleet of assets via hypergraph clustering"
   ]
  },
  {
   "cell_type": "code",
   "execution_count": null,
   "id": "7914cfde-af38-4a83-8cb7-093565c3d1da",
   "metadata": {},
   "outputs": [],
   "source": [
    "import seaborn as sns\n",
    "import pandas as pd\n",
    "import numpy as np\n",
    "from sklearn.cluster import KMeans,DBSCAN,AgglomerativeClustering\n",
    "from sklearn import metrics\n",
    "from sklearn.preprocessing import StandardScaler\n",
    "from sklearn.cluster import AgglomerativeClustering\n",
    "from sklearn.preprocessing import MinMaxScaler\n",
    "from scipy.cluster.hierarchy import dendrogram, linkage\n",
    "from sklearn.decomposition import PCA\n",
    "\n",
    "from sklearn.manifold import TSNE\n",
    "import umap\n",
    "\n",
    "import sys\n",
    "import cluster_validation_metrics as cvm\n",
    "\n",
    "import matplotlib.pyplot as plt\n",
    "import plotly.express as px\n",
    "import plotly.graph_objects as go\n",
    "\n",
    "%load_ext autoreload\n",
    "%autoreload 2\n",
    "%matplotlib inline\n",
    "\n",
    "import warnings\n",
    "warnings.filterwarnings('ignore')\n",
    "import glob\n",
    "import seaborn as sns\n",
    "\n",
    "import sweetviz as sv\n",
    "\n",
    "import os\n",
    "import kahypar as kahypar\n",
    "from scipy.sparse import csr_matrix"
   ]
  },
  {
   "attachments": {},
   "cell_type": "markdown",
   "id": "0e6eea29-6c80-4204-8229-cc6cac7f97c9",
   "metadata": {},
   "source": [
    "## Data\n",
    "- On shore windfarm in Scotland\r",
    "- 14 wind turbines with 2MW rated powe\n",
    "- 5 years of SCADA data with 10 minutes sampling rate\n"
   ]
  },
  {
   "cell_type": "code",
   "execution_count": null,
   "id": "118077d5-6171-4ee9-8706-437636b9f316",
   "metadata": {},
   "outputs": [],
   "source": [
    "data_path = os.path.join('../app/data/Penmanshiel/')"
   ]
  },
  {
   "cell_type": "code",
   "execution_count": null,
   "id": "7e0cee1d-bc61-416a-9574-19b5c76d3ff7",
   "metadata": {},
   "outputs": [],
   "source": [
    "def read_data_penmanshiel(turbine_number):\n",
    "    \n",
    "    local_file_scada = os.path.join(data_path, f'scada_T{turbine_number:02d}.csv')\n",
    "    df_scada = pd.read_csv(local_file_scada)\n",
    "    df_scada = df_scada.set_index('Datetime',drop=True)\n",
    "    \n",
    "    local_file_logs = os.path.join(data_path, f'logs_T{turbine_number:02d}.csv')\n",
    "    df_logs = pd.read_csv(local_file_logs)\n",
    "\n",
    "    return df_scada, df_logs"
   ]
  },
  {
   "cell_type": "code",
   "execution_count": null,
   "id": "25bfc979-ac35-49ff-a7dc-ab3f17c3d4fd",
   "metadata": {
    "scrolled": true
   },
   "outputs": [],
   "source": [
    "df_penmanshiel=pd.DataFrame()\n",
    "for t_id in [1,2,4,5,6,7,8,9,10,11,12,13,14,15]:\n",
    "    print(t_id)\n",
    "    df_scada, _ = read_data_penmanshiel(t_id)\n",
    "    df_scada = df_scada[(df_scada.index>=\"2018-01-01 00:00:00\") & (df_scada.index<=\"2022-12-31 23:50:00\")].copy()\n",
    "    df_scada.reset_index(inplace=True)\n",
    "    df_scada[\"Turbine\"] = f'T{t_id:02d}'\n",
    "    df_penmanshiel=pd.concat([df_penmanshiel,df_scada])"
   ]
  },
  {
   "cell_type": "code",
   "execution_count": null,
   "id": "3f0ce7b6-b0c0-45fe-a52b-ec30daf5f8e4",
   "metadata": {},
   "outputs": [],
   "source": [
    "df_penmanshiel['Datetime']=pd.to_datetime(df_penmanshiel['Datetime'])"
   ]
  },
  {
   "cell_type": "code",
   "execution_count": null,
   "id": "7e1c5f68-1a4d-4340-9f07-b81692a6e130",
   "metadata": {},
   "outputs": [],
   "source": [
    "# df_penmanshiel.to_csv(\"penmanshiel_preprocessed.csv\")"
   ]
  },
  {
   "cell_type": "code",
   "execution_count": null,
   "id": "af36d3e4-e892-41fa-9aac-180c60505037",
   "metadata": {},
   "outputs": [],
   "source": [
    "# df_penmanshiel=pd.read_csv(\"penmanshiel_preprocessed.csv\")\n",
    "# df_penmanshiel['Datetime']=pd.to_datetime(df_penmanshiel['Datetime'])"
   ]
  },
  {
   "cell_type": "code",
   "execution_count": null,
   "id": "2dd01428-1ac1-41dd-916a-a45d91406f95",
   "metadata": {},
   "outputs": [],
   "source": [
    "df_penmanshiel_filtered = df_penmanshiel.copy()"
   ]
  },
  {
   "cell_type": "markdown",
   "id": "621bb870-8073-4d46-bcd7-9eae343f5eb7",
   "metadata": {},
   "source": [
    "### Feature Engineering\n",
    "- Motor current = Mean (Motor current axis 1,axis 2,axis 3)\n",
    "- Motor temperature = Mean (Motot temperature axis 1,axis 2,axis 3)\n",
    "- Blade angle = Mean (Blade angle A, B, C)"
   ]
  },
  {
   "cell_type": "code",
   "execution_count": null,
   "id": "0b2b5d83-00e6-4000-a603-dd8e0b4dbc90",
   "metadata": {},
   "outputs": [],
   "source": [
    "df_penmanshiel_filtered[\"Motor temperature (°C)\"] = df_penmanshiel_filtered[['Temperature motor axis 1 (°C)',\n",
    "                                          'Temperature motor axis 2 (°C)',\n",
    "                                          'Temperature motor axis 3 (°C)']].mean(axis=1)\n",
    "\n",
    "df_penmanshiel_filtered[\"Motor current (A)\"] = df_penmanshiel_filtered[['Motor current axis 1 (A)',\n",
    "                                          'Motor current axis 2 (A)',\n",
    "                                          'Motor current axis 3 (A)',]].mean(axis=1)\n",
    "\n",
    "temp = df_penmanshiel_filtered[['Blade angle (pitch position) A (°)','Blade angle (pitch position) B (°)','Blade angle (pitch position) C (°)']].apply(np.radians)\n",
    "# Convert angular values to Cartesian coordinates\n",
    "x = temp.apply(lambda row: np.cos(row), axis=1)\n",
    "y = temp.apply(lambda row: np.sin(row), axis=1)\n",
    "# Average the Cartesian coordinates\n",
    "mean_x = x.mean(axis=1)\n",
    "mean_y = y.mean(axis=1)\n",
    "# Convert the average Cartesian coordinates back to an angle in radians\n",
    "mean_angle_radians = np.arctan2(mean_y, mean_x)\n",
    "df_penmanshiel_filtered['Blade Angle (pitch position) (°)'] = np.degrees(mean_angle_radians)"
   ]
  },
  {
   "cell_type": "code",
   "execution_count": null,
   "id": "dca9a3a8-cd0f-4985-8927-664c70d6996b",
   "metadata": {
    "scrolled": true
   },
   "outputs": [],
   "source": [
    "df_penmanshiel_filtered[['Temperature motor axis 1 (°C)','Temperature motor axis 2 (°C)','Temperature motor axis 3 (°C)',\"Motor temperature (°C)\",\n",
    "                        'Motor current axis 1 (A)','Motor current axis 2 (A)','Motor current axis 3 (A)',\"Motor current (A)\",\n",
    "                        'Blade angle (pitch position) A (°)','Blade angle (pitch position) B (°)','Blade angle (pitch position) C (°)','Blade Angle (pitch position) (°)']].hist(figsize=(12,12))\n",
    "plt.show()"
   ]
  },
  {
   "cell_type": "markdown",
   "id": "8debc6f2-3f90-4b45-b4eb-c5684fb47536",
   "metadata": {},
   "source": [
    "##### Convert Angular features to its sine and cosine components"
   ]
  },
  {
   "cell_type": "code",
   "execution_count": null,
   "id": "f490ec5a-2e59-4013-b741-624529b649b7",
   "metadata": {},
   "outputs": [],
   "source": [
    "for col in ['Nacelle position (°)','Vane position 1+2 (°)','Blade Angle (pitch position) (°)']:\n",
    "    df_penmanshiel_filtered[col.split(\"(°)\")[0]+\"cos\"] = np.cos(np.radians(df_penmanshiel_filtered[col]))\n",
    "    df_penmanshiel_filtered[col.split(\"(°)\")[0]+\"sin\"] = np.sin(np.radians(df_penmanshiel_filtered[col]))"
   ]
  },
  {
   "cell_type": "markdown",
   "id": "4bbddaa8-f13b-4e15-9385-251b33402a93",
   "metadata": {},
   "source": [
    "##### Convert Wind direction and wind speed to u and v components"
   ]
  },
  {
   "cell_type": "code",
   "execution_count": null,
   "id": "1f001d79-46fa-4e76-8f90-bd446668a4ac",
   "metadata": {},
   "outputs": [],
   "source": [
    "def convert_angles_lengths_to_u_v(angles, lengths, conversion='trigonometric', kind='deg'):\n",
    "    u = -np.sin(angles * np.pi / 180) * lengths\n",
    "    v = -np.cos(angles * np.pi / 180) * lengths\n",
    "    return u, v"
   ]
  },
  {
   "cell_type": "code",
   "execution_count": null,
   "id": "38135f5a-5e00-4a68-a379-739af32fedbf",
   "metadata": {},
   "outputs": [],
   "source": [
    "df_penmanshiel_filtered[\"Wind direction u\"],df_penmanshiel_filtered[\"Wind direction v\"] = convert_angles_lengths_to_u_v(df_penmanshiel_filtered['Wind direction (°)'],df_penmanshiel_filtered['Wind speed (m/s)'])"
   ]
  },
  {
   "cell_type": "code",
   "execution_count": null,
   "id": "62550996-cbf6-4d84-9407-fab7817c098f",
   "metadata": {},
   "outputs": [],
   "source": [
    "df_penmanshiel_final=df_penmanshiel_filtered[['Datetime','Turbine',\n",
    "'Long Term Wind (m/s)','Wind direction u','Wind direction v',\n",
    " 'Nacelle position cos', 'Nacelle position sin','Vane position 1+2 cos', 'Vane position 1+2 sin','Blade Angle (pitch position) cos','Blade Angle (pitch position) sin',\n",
    " 'Generator bearing rear temperature (°C)','Generator bearing front temperature (°C)','Generator RPM (RPM)','Rotor bearing temp (°C)','Drive train acceleration (mm/ss)',\n",
    " 'Gear oil temperature (°C)','Gear oil inlet temperature (°C)','Gear oil pump pressure (bar)',\n",
    " 'Motor temperature (°C)','Motor current (A)',\n",
    " 'Tower Acceleration X (mm/ss)','Tower Acceleration y (mm/ss)','Power (kW)']].copy()"
   ]
  },
  {
   "cell_type": "code",
   "execution_count": null,
   "id": "e2f173f6-ab8a-4ca0-9294-163fa5acc445",
   "metadata": {},
   "outputs": [],
   "source": [
    "df_penmanshiel_final.drop([\"Datetime\",\"Turbine\",'Power (kW)'],axis=1).corr().stack().value_counts().sort_index(ascending=False)"
   ]
  },
  {
   "cell_type": "markdown",
   "id": "8b222a0f-ede7-441e-9ea6-c084d050e90b",
   "metadata": {},
   "source": [
    "Correlation between features is between -0.88 to 0.82"
   ]
  },
  {
   "cell_type": "code",
   "execution_count": null,
   "id": "9bc5d6dd-c4fe-4d24-933c-b87ff0778315",
   "metadata": {
    "scrolled": true
   },
   "outputs": [],
   "source": [
    "df_penmanshiel_final.drop(['Turbine','Datetime'],axis=1).hist(figsize=(20,20))\n",
    "plt.show()"
   ]
  },
  {
   "cell_type": "markdown",
   "id": "9903febb-8d9c-42d2-81dd-7a13d70daec8",
   "metadata": {},
   "source": [
    "## Atomic asset behaviour extraction\n",
    "- Divide data into weeks\n",
    "- Calculate median per week per turbine for each feature"
   ]
  },
  {
   "cell_type": "code",
   "execution_count": null,
   "id": "70f6de56-d4ef-4927-965f-45e3187ea477",
   "metadata": {},
   "outputs": [],
   "source": [
    "df_penmanshiel_per_week_median = df_penmanshiel_final.groupby([pd.Grouper(key='Datetime', freq='7D'),'Turbine']).median()"
   ]
  },
  {
   "cell_type": "code",
   "execution_count": null,
   "id": "cb393235-5a3e-45e6-98bd-8ae2c8a57399",
   "metadata": {},
   "outputs": [],
   "source": [
    "df_penmanshiel_per_week_median[\"Datetime\"]=df_penmanshiel_per_week_median.index.get_level_values(0)\n",
    "df_penmanshiel_per_week_median[\"week\"]=df_penmanshiel_per_week_median.index.get_level_values(0)\n",
    "df_penmanshiel_per_week_median[\"week\"]=pd.factorize(df_penmanshiel_per_week_median['week'])[0]\n",
    "df_penmanshiel_per_week_median[\"week\"]=df_penmanshiel_per_week_median[\"week\"]+1\n",
    "\n",
    "df_penmanshiel_per_week_median[\"Turbine\"]=df_penmanshiel_per_week_median.index.get_level_values(1)\n",
    "\n",
    "df_penmanshiel_per_week_median[\"week-turbine\"]=\"W\"+df_penmanshiel_per_week_median[\"week\"].astype(str)+\":\"+df_penmanshiel_per_week_median[\"Turbine\"]"
   ]
  },
  {
   "cell_type": "code",
   "execution_count": null,
   "id": "9df2c004-4fdc-4e08-a2a5-39fa51897081",
   "metadata": {},
   "outputs": [],
   "source": [
    "df_penmanshiel_per_week_median.set_index([\"week-turbine\"],inplace=True)"
   ]
  },
  {
   "cell_type": "code",
   "execution_count": null,
   "id": "095735d9-a8bd-40a8-81eb-0067b9623fa1",
   "metadata": {
    "scrolled": true
   },
   "outputs": [],
   "source": [
    "df_penmanshiel_per_week_median.drop(['week', 'Turbine','Datetime'],axis=1).hist(figsize=(20,20))\n",
    "plt.show()"
   ]
  },
  {
   "cell_type": "code",
   "execution_count": null,
   "id": "d686c13b-dc89-4e63-a208-0b91585eb994",
   "metadata": {},
   "outputs": [],
   "source": [
    "fig=px.line(df_penmanshiel_per_week_median.drop(['Datetime', 'week', 'Turbine','Power (kW)'],axis=1))\n",
    "fig.show()"
   ]
  },
  {
   "cell_type": "markdown",
   "id": "88205943-179a-4039-b07f-709d094f8137",
   "metadata": {},
   "source": [
    "## Discovery of Elementary modes"
   ]
  },
  {
   "cell_type": "markdown",
   "id": "5af7d58a-249b-4a35-bc24-263408d9ed79",
   "metadata": {},
   "source": [
    "### Layering"
   ]
  },
  {
   "cell_type": "code",
   "execution_count": null,
   "id": "fb0ca178-69e1-4808-af3a-b28068513700",
   "metadata": {},
   "outputs": [],
   "source": [
    "df_penmanshiel_per_week_median=df_penmanshiel_per_week_median[df_penmanshiel_per_week_median[\"Datetime\"].astype(str).str.contains(\"2018\")].copy()"
   ]
  },
  {
   "cell_type": "code",
   "execution_count": null,
   "id": "0aa870de-6665-499c-a8b0-03724d3fd50c",
   "metadata": {},
   "outputs": [],
   "source": [
    "# creating layers\n",
    "Layer1 = df_penmanshiel_per_week_median.reset_index()[['week-turbine','Wind direction u','Wind direction v']].dropna().copy()\n",
    "\n",
    "Layer2 = df_penmanshiel_per_week_median.reset_index()[['week-turbine','Nacelle position cos', 'Nacelle position sin','Vane position 1+2 cos', 'Vane position 1+2 sin','Blade Angle (pitch position) cos','Blade Angle (pitch position) sin']].dropna().copy()\n",
    "\n",
    "Layer3 = df_penmanshiel_per_week_median.reset_index()[['week-turbine','Generator bearing rear temperature (°C)','Generator bearing front temperature (°C)','Generator RPM (RPM)','Rotor bearing temp (°C)','Drive train acceleration (mm/ss)']].dropna().copy()\n",
    "\n",
    "Layer4 = df_penmanshiel_per_week_median.reset_index()[['week-turbine','Gear oil temperature (°C)','Gear oil inlet temperature (°C)','Gear oil pump pressure (bar)']].dropna().copy()\n",
    "\n",
    "Layer5 = df_penmanshiel_per_week_median.reset_index()[['week-turbine','Motor temperature (°C)','Motor current (A)']].dropna().copy()\n",
    "\n",
    "Layer6 = df_penmanshiel_per_week_median.reset_index()[['week-turbine','Tower Acceleration X (mm/ss)','Tower Acceleration y (mm/ss)']].dropna().copy()"
   ]
  },
  {
   "cell_type": "code",
   "execution_count": null,
   "id": "1c32eb6a-93cc-4286-b4f6-b79af22fd9ec",
   "metadata": {
    "scrolled": true
   },
   "outputs": [],
   "source": [
    "layer_data=[Layer1,Layer2,Layer3,Layer4,Layer5,Layer6]\n",
    "layer_dict={}\n",
    "\n",
    "for l_id in range(len(layer_data)): # Specify number of layers\n",
    "    layer_dict['Layer '+str(l_id+1)] = {}\n",
    "    layer_dict['Layer '+str(l_id+1)][\"Layer_data\"] = layer_data[l_id]\n",
    "    \n",
    "    scaler = MinMaxScaler()\n",
    "    layer_data_transformed = scaler.fit_transform(layer_data[l_id].drop([\"week-turbine\"],axis=1).to_numpy())\n",
    "    layer_dict['Layer '+str(l_id+1)][\"Data_transformed\"] = layer_data_transformed\n",
    "    layer_dict['Layer '+str(l_id+1)][\"Clustering_result\"] = cvm.find_optimal_number_of_clusters(layer_data_transformed, algorithm=AgglomerativeClustering, display= True, seed= 0, col_wrap=4 ,score_metrics = ['silhouette_score',\n",
    "                             'calinski_harabasz_score',\n",
    "                             'davies_bouldin_score',\n",
    "                             'connectivity_score'], max_number_clusters=15)"
   ]
  },
  {
   "cell_type": "markdown",
   "id": "72e5326d-4826-49fd-9a6c-0d09ed7ebf85",
   "metadata": {},
   "source": [
    "#### Layer1"
   ]
  },
  {
   "cell_type": "code",
   "execution_count": null,
   "id": "00b33c0a-bfda-4224-99ea-26e9ab0a07d6",
   "metadata": {},
   "outputs": [],
   "source": [
    "Layer1.drop(['week-turbine'],axis=1).hist()\n",
    "plt.show()"
   ]
  },
  {
   "cell_type": "code",
   "execution_count": null,
   "id": "5ba2d738-93be-48c4-b833-9ae799cd7752",
   "metadata": {},
   "outputs": [],
   "source": [
    "tsne_layer1 = TSNE(n_components=2).fit_transform(layer_dict[\"Layer 1\"][\"Data_transformed\"])\n",
    "pca_layer1 = PCA(n_components=2).fit_transform(layer_dict[\"Layer 1\"][\"Data_transformed\"])\n",
    "umap_layer1 = umap.UMAP().fit_transform(layer_dict[\"Layer 1\"][\"Data_transformed\"])"
   ]
  },
  {
   "cell_type": "code",
   "execution_count": null,
   "id": "04f2097b-486c-40b9-a236-2dd569ba4eab",
   "metadata": {
    "scrolled": true
   },
   "outputs": [],
   "source": [
    "db = DBSCAN(eps=0.1).fit(layer_dict[\"Layer 1\"][\"Data_transformed\"])\n",
    "fig=px.scatter(Layer1,x=Layer1[Layer1.columns[1]],y=Layer1[Layer1.columns[2]],color=db.labels_.astype(str),hover_data=[\"week-turbine\"],title=\"Original\")\n",
    "fig.show()\n",
    "fig=px.scatter(x=tsne_layer1[:, 0],y=tsne_layer1[:, 1],color=db.labels_.astype(str),title=\"TSNE\")\n",
    "fig.show()\n",
    "fig=px.scatter(x=pca_layer1[:, 0],y=pca_layer1[:, 1],color=db.labels_.astype(str),title=\"PCA (\" +str(np.round(np.sum(PCA(n_components=2).fit(layer_dict[\"Layer 1\"][\"Data_transformed\"]).explained_variance_ratio_),2)) +\")\")\n",
    "fig.show()\n",
    "fig=px.scatter(x=umap_layer1[:, 0],y=umap_layer1[:, 1],color=db.labels_.astype(str),title=\"UMAP\")\n",
    "fig.show()"
   ]
  },
  {
   "cell_type": "code",
   "execution_count": null,
   "id": "54781e05-5505-4f19-ab8e-1e6ecf23cdc4",
   "metadata": {},
   "outputs": [],
   "source": [
    "db = DBSCAN(eps=0.1).fit(layer_dict[\"Layer 1\"][\"Data_transformed\"])\n",
    "Layer1[\"cluster\"]=layer_dict[\"Layer 1\"][\"Layer_data\"][\"cluster\"]=db.labels_"
   ]
  },
  {
   "cell_type": "markdown",
   "id": "b605fff3-6ffc-46f6-a4c7-1fcebba0ae7a",
   "metadata": {},
   "source": [
    "#### Layer2"
   ]
  },
  {
   "cell_type": "code",
   "execution_count": null,
   "id": "9ab2ddb7-20d6-4291-9e41-44e886a0819f",
   "metadata": {
    "scrolled": true
   },
   "outputs": [],
   "source": [
    "Layer2.drop(['week-turbine'],axis=1).hist(figsize=(10,10))\n",
    "plt.show()"
   ]
  },
  {
   "cell_type": "code",
   "execution_count": null,
   "id": "500bee4e-e011-4cb0-9168-8816c9425710",
   "metadata": {},
   "outputs": [],
   "source": [
    "tsne_layer2= TSNE(n_components=2).fit_transform(layer_dict[\"Layer 2\"][\"Data_transformed\"])\n",
    "pca_layer2= PCA(n_components=6).fit_transform(layer_dict[\"Layer 2\"][\"Data_transformed\"])\n",
    "umap_layer2 = umap.UMAP().fit_transform(layer_dict[\"Layer 2\"][\"Data_transformed\"])"
   ]
  },
  {
   "cell_type": "code",
   "execution_count": null,
   "id": "58ad7539-c299-4211-85c7-514c0c34ee8a",
   "metadata": {
    "scrolled": true
   },
   "outputs": [],
   "source": [
    "db = DBSCAN(eps=0.15).fit(layer_dict[\"Layer 2\"][\"Data_transformed\"])\n",
    "fig=px.scatter(Layer2,x=\"Nacelle position cos\", y='Vane position 1+2 cos',color=db.labels_.astype(str),hover_data=\"week-turbine\",title=\"Original\")\n",
    "fig.show()\n",
    "fig=px.scatter(x=tsne_layer2[:, 0],y=tsne_layer2[:, 1],color=db.labels_.astype(str),title=\"TSNE\")\n",
    "fig.show()\n",
    "fig=px.scatter(x=pca_layer2[:, 0],y=pca_layer2[:, 1],color=db.labels_.astype(str),title=\"PCA (\" +str(np.round(np.sum(PCA(n_components=2).fit(layer_dict[\"Layer 2\"][\"Data_transformed\"]).explained_variance_ratio_),2)) +\")\")\n",
    "fig.show()\n",
    "fig=px.scatter(x=umap_layer2[:, 0],y=umap_layer2[:, 1],color=db.labels_.astype(str),title=\"UMAP\")\n",
    "fig.show()"
   ]
  },
  {
   "cell_type": "code",
   "execution_count": null,
   "id": "84a26b87-53a1-4c4b-8964-d9c49c336a7f",
   "metadata": {},
   "outputs": [],
   "source": [
    "db = DBSCAN(eps=0.15).fit(layer_dict[\"Layer 2\"][\"Data_transformed\"])\n",
    "Layer2[\"cluster\"]=layer_dict[\"Layer 2\"][\"Layer_data\"][\"cluster\"]=db.labels_"
   ]
  },
  {
   "cell_type": "markdown",
   "id": "007e70a4-18cb-4f58-8301-20d820556631",
   "metadata": {},
   "source": [
    "#### Layer3"
   ]
  },
  {
   "cell_type": "code",
   "execution_count": null,
   "id": "f99fb673-d658-4e55-b8a8-6a79b511a783",
   "metadata": {
    "scrolled": true
   },
   "outputs": [],
   "source": [
    "Layer3.drop(['week-turbine'],axis=1).hist(figsize=(10,10))\n",
    "plt.show()"
   ]
  },
  {
   "cell_type": "code",
   "execution_count": null,
   "id": "217cbdf4-3698-4dfd-83e7-0dbb281ff3e0",
   "metadata": {},
   "outputs": [],
   "source": [
    "tsne_layer3= TSNE(n_components=2).fit_transform(layer_dict[\"Layer 3\"][\"Data_transformed\"])\n",
    "pca_layer3= PCA(n_components=2).fit_transform(layer_dict[\"Layer 3\"][\"Data_transformed\"])\n",
    "umap_layer3 = umap.UMAP().fit_transform(layer_dict[\"Layer 3\"][\"Data_transformed\"])"
   ]
  },
  {
   "cell_type": "code",
   "execution_count": null,
   "id": "e2068c16-b32f-4889-9a23-e5a35a0cb52e",
   "metadata": {
    "scrolled": true
   },
   "outputs": [],
   "source": [
    "db = DBSCAN(eps=0.1).fit(layer_dict[\"Layer 3\"][\"Data_transformed\"])\n",
    "fig = px.scatter(Layer3,x=\"Generator RPM (RPM)\", y='Generator bearing rear temperature (°C)',color=db.labels_.astype(str),title=\"Original\")\n",
    "fig.show()\n",
    "fig=px.scatter(x=tsne_layer3[:, 0],y=tsne_layer3[:, 1],color=db.labels_.astype(str),title=\"TSNE\")\n",
    "fig.show()\n",
    "fig=px.scatter(x=pca_layer3[:, 0],y=pca_layer3[:, 1],color=db.labels_.astype(str),title=\"PCA (\" +str(np.round(np.sum(PCA(n_components=2).fit(layer_dict[\"Layer 3\"][\"Data_transformed\"]).explained_variance_ratio_),2)) +\")\")\n",
    "fig.show()\n",
    "fig=px.scatter(x=umap_layer3[:, 0],y=umap_layer3[:, 1],color=db.labels_.astype(str),title=\"UMAP\")\n",
    "fig.show()"
   ]
  },
  {
   "cell_type": "code",
   "execution_count": null,
   "id": "2f58e3e4-5a35-4570-8b89-cc609df1b9cb",
   "metadata": {},
   "outputs": [],
   "source": [
    "db = DBSCAN(eps=0.1).fit(layer_dict[\"Layer 3\"][\"Data_transformed\"])\n",
    "Layer3[\"cluster\"]=layer_dict[\"Layer 3\"][\"Layer_data\"][\"cluster\"]=db.labels_"
   ]
  },
  {
   "cell_type": "markdown",
   "id": "cd325aa1-e15c-4c0a-8b11-155170cb0388",
   "metadata": {},
   "source": [
    "#### Layer4"
   ]
  },
  {
   "cell_type": "code",
   "execution_count": null,
   "id": "472f7dc9-e737-4ad3-994c-0aed1874479f",
   "metadata": {},
   "outputs": [],
   "source": [
    "Layer4.drop(['week-turbine'],axis=1).hist()\n",
    "plt.show()"
   ]
  },
  {
   "cell_type": "code",
   "execution_count": null,
   "id": "088014be-d59c-4594-84f5-ef4f26cff582",
   "metadata": {},
   "outputs": [],
   "source": [
    "tsne_layer4= TSNE(n_components=2).fit_transform(layer_dict[\"Layer 4\"][\"Data_transformed\"])\n",
    "pca_layer4= PCA(n_components=2).fit_transform(layer_dict[\"Layer 4\"][\"Data_transformed\"])\n",
    "umap_layer4 = umap.UMAP().fit_transform(layer_dict[\"Layer 4\"][\"Data_transformed\"])"
   ]
  },
  {
   "cell_type": "code",
   "execution_count": null,
   "id": "728c6da5-97da-4c7e-84bf-461aa117c683",
   "metadata": {
    "scrolled": true
   },
   "outputs": [],
   "source": [
    "db = DBSCAN(eps=0.15).fit(layer_dict[\"Layer 4\"][\"Data_transformed\"])\n",
    "fig = px.scatter(Layer4,x=\"Gear oil pump pressure (bar)\", y='Gear oil inlet temperature (°C)',color=db.labels_.astype(str),hover_data=\"week-turbine\",title=\"Original\")\n",
    "fig.show()\n",
    "fig=px.scatter(x=tsne_layer4[:, 0],y=tsne_layer4[:, 1],color=db.labels_.astype(str),title=\"TSNE\")\n",
    "fig.show()\n",
    "fig=px.scatter(x=pca_layer4[:, 0],y=pca_layer4[:, 1],color=db.labels_.astype(str),title=\"PCA (\" +str(np.round(np.sum(PCA(n_components=2).fit(layer_dict[\"Layer 4\"][\"Data_transformed\"]).explained_variance_ratio_),2)) +\")\")\n",
    "fig.show()\n",
    "fig=px.scatter(x=umap_layer4[:, 0],y=umap_layer4[:, 1],color=db.labels_.astype(str),title=\"UMAP\")\n",
    "fig.show()"
   ]
  },
  {
   "cell_type": "code",
   "execution_count": null,
   "id": "79292e73-a0b5-4987-9be7-ed0460f2eefe",
   "metadata": {},
   "outputs": [],
   "source": [
    "db = DBSCAN(eps=0.15).fit(layer_dict[\"Layer 4\"][\"Data_transformed\"])\n",
    "Layer4[\"cluster\"]=layer_dict[\"Layer 4\"][\"Layer_data\"][\"cluster\"]=db.labels_"
   ]
  },
  {
   "cell_type": "markdown",
   "id": "6ef5eabb-63c7-4574-b3c4-74a0f073e414",
   "metadata": {},
   "source": [
    "#### Layer5"
   ]
  },
  {
   "cell_type": "code",
   "execution_count": null,
   "id": "687e7a01-435b-4068-b1b6-29be3f6394b1",
   "metadata": {},
   "outputs": [],
   "source": [
    "Layer5.drop(['week-turbine'],axis=1).hist()\n",
    "plt.show()"
   ]
  },
  {
   "cell_type": "code",
   "execution_count": null,
   "id": "aca5f77d-50b5-4d56-9857-26388198802c",
   "metadata": {},
   "outputs": [],
   "source": [
    "tsne_layer5 = TSNE(n_components=2).fit_transform(layer_dict[\"Layer 5\"][\"Data_transformed\"])\n",
    "pca_layer5 = PCA(n_components=2).fit_transform(layer_dict[\"Layer 5\"][\"Data_transformed\"])\n",
    "umap_layer5 = umap.UMAP().fit_transform(layer_dict[\"Layer 5\"][\"Data_transformed\"])"
   ]
  },
  {
   "cell_type": "code",
   "execution_count": null,
   "id": "21f21e96-8f90-4fcb-b25a-4985a0d8fd3a",
   "metadata": {},
   "outputs": [],
   "source": [
    "# db = DBSCAN(eps=0.025).fit(layer_dict[\"Layer 5\"][\"Data_transformed\"])\n",
    "# fig=px.scatter(Layer5,x=Layer5[\"Motor temperature (°C)\"],y=Layer5[\"Motor current (A)\"],hover_data=\"week-turbine\",color=db.labels_.astype(str)\n",
    "#                ,width=800,height=800)\n",
    "# fig.update_layout(legend=dict(\n",
    "#         title=dict(\n",
    "#             text='Cluster',\n",
    "#             font=dict(size=20)\n",
    "#         )\n",
    "#     ), xaxis=dict(\n",
    "#         titlefont=dict(size=20)\n",
    "#     ),\n",
    "#     yaxis=dict(\n",
    "#         titlefont=dict(size=24) \n",
    "#     ))\n",
    "# fig.update_xaxes(tickfont=dict(size=20))\n",
    "# fig.update_yaxes(tickfont=dict(size=20))\n",
    "# fig.show()"
   ]
  },
  {
   "cell_type": "code",
   "execution_count": null,
   "id": "b8b2d8dd-27b0-4878-87f1-066182b62281",
   "metadata": {
    "scrolled": true
   },
   "outputs": [],
   "source": [
    "db = DBSCAN(eps=0.1).fit(layer_dict[\"Layer 5\"][\"Data_transformed\"])\n",
    "fig=px.scatter(Layer5,x=Layer5[\"Motor temperature (°C)\"],y=Layer5[\"Motor current (A)\"],hover_data=\"week-turbine\",color=db.labels_.astype(str),title=\"Original\")\n",
    "fig.show()\n",
    "fig=px.scatter(x=tsne_layer5[:, 0],y=tsne_layer5[:, 1],color=db.labels_.astype(str),title=\"TSNE\")\n",
    "fig.show()\n",
    "fig=px.scatter(x=pca_layer5[:, 0],y=pca_layer5[:, 1],color=db.labels_.astype(str),title=\"PCA(1.0)\")\n",
    "fig.show()\n",
    "fig=px.scatter(x=umap_layer5[:, 0],y=umap_layer5[:, 1],color=db.labels_.astype(str),title=\"UMAP\")\n",
    "fig.show()"
   ]
  },
  {
   "cell_type": "code",
   "execution_count": null,
   "id": "d272803a-50cb-491b-9053-ae0c5e6f2a81",
   "metadata": {},
   "outputs": [],
   "source": [
    "db = DBSCAN(eps=0.1).fit(layer_dict[\"Layer 5\"][\"Data_transformed\"])\n",
    "Layer5[\"cluster\"]=layer_dict[\"Layer 5\"][\"Layer_data\"][\"cluster\"]=db.labels_"
   ]
  },
  {
   "cell_type": "markdown",
   "id": "24f354ed-8948-48ab-8823-6ddba48cab8e",
   "metadata": {},
   "source": [
    "#### Layer6"
   ]
  },
  {
   "cell_type": "code",
   "execution_count": null,
   "id": "3de46206-2b74-4fa9-b8c4-079911a57c23",
   "metadata": {},
   "outputs": [],
   "source": [
    "Layer6.drop(['week-turbine'],axis=1).hist(figsize=(7,2))\n",
    "plt.show()"
   ]
  },
  {
   "cell_type": "code",
   "execution_count": null,
   "id": "66ef92e7-b816-4e03-a1e6-fae6d55623d0",
   "metadata": {},
   "outputs": [],
   "source": [
    "tsne_layer6 = TSNE(n_components=2).fit_transform(layer_dict[\"Layer 6\"][\"Data_transformed\"])\n",
    "pca_layer6 = PCA(n_components=2).fit_transform(layer_dict[\"Layer 6\"][\"Data_transformed\"])\n",
    "umap_layer6 = umap.UMAP().fit_transform(layer_dict[\"Layer 6\"][\"Data_transformed\"])"
   ]
  },
  {
   "cell_type": "code",
   "execution_count": null,
   "id": "684822e1-88d4-4791-bd07-fd03952d0e67",
   "metadata": {
    "scrolled": true
   },
   "outputs": [],
   "source": [
    "db = DBSCAN(eps=0.05).fit(layer_dict[\"Layer 6\"][\"Data_transformed\"])\n",
    "fig=px.scatter(Layer6,x=Layer6[\"Tower Acceleration X (mm/ss)\"],y=Layer6[\"Tower Acceleration y (mm/ss)\"],hover_data=\"week-turbine\",color=db.labels_.astype(str),title=\"Original\")\n",
    "fig.show()\n",
    "fig=px.scatter(x=tsne_layer6[:, 0],y=tsne_layer6[:, 1],color=db.labels_.astype(str),title=\"TSNE\")\n",
    "fig.show()\n",
    "fig=px.scatter(x=pca_layer6[:, 0],y=pca_layer6[:, 1],color=db.labels_.astype(str),title=\"PCA (1.0)\")\n",
    "fig.show()\n",
    "fig=px.scatter(x=umap_layer6[:, 0],y=umap_layer6[:, 1],color=db.labels_.astype(str),title=\"UMAP\")\n",
    "fig.show()"
   ]
  },
  {
   "cell_type": "code",
   "execution_count": null,
   "id": "f510307c-35b6-478c-a351-254f2245f0a4",
   "metadata": {},
   "outputs": [],
   "source": [
    "db = DBSCAN(eps=0.05).fit(layer_dict[\"Layer 6\"][\"Data_transformed\"])\n",
    "Layer6[\"cluster\"]=layer_dict[\"Layer 6\"][\"Layer_data\"][\"cluster\"]=db.labels_"
   ]
  },
  {
   "cell_type": "markdown",
   "id": "e9576684-d82c-41dc-9c70-5fee68fa3974",
   "metadata": {},
   "source": [
    "#### Drop outliers"
   ]
  },
  {
   "cell_type": "code",
   "execution_count": null,
   "id": "66616cb7-aa1b-4211-ae36-5b5ff80837b4",
   "metadata": {},
   "outputs": [],
   "source": [
    "layer_data=[Layer1,Layer2,Layer3,Layer4,Layer5,Layer6]\n",
    "for l_id, key in enumerate(layer_dict.keys()):\n",
    "    temp=layer_dict[key][\"Layer_data\"]\n",
    "    layer_dict[key][\"Layer_data\"]=temp[temp[\"cluster\"]!=-1]\n",
    "    layer_data[l_id]=temp[temp[\"cluster\"]!=-1]\n",
    "\n",
    "Layer1=Layer1[Layer1[\"cluster\"]!=-1]\n",
    "Layer2=Layer2[Layer2[\"cluster\"]!=-1]\n",
    "Layer3=Layer3[Layer3[\"cluster\"]!=-1]\n",
    "Layer4=Layer4[Layer4[\"cluster\"]!=-1]\n",
    "Layer5=Layer5[Layer5[\"cluster\"]!=-1]\n",
    "Layer6=Layer6[Layer6[\"cluster\"]!=-1]"
   ]
  },
  {
   "cell_type": "code",
   "execution_count": null,
   "id": "d76a462f-caea-4db0-bb26-df0156a32d90",
   "metadata": {},
   "outputs": [],
   "source": [
    "for key in layer_dict.keys():\n",
    "    print(key+\"--->\"+str(len(np.unique(layer_dict[key][\"Layer_data\"][\"cluster\"])))+\" clusters\")"
   ]
  },
  {
   "cell_type": "markdown",
   "id": "d04fdb97-dcf2-46c6-af40-0ba61708729d",
   "metadata": {},
   "source": [
    "### Hypergraph"
   ]
  },
  {
   "cell_type": "code",
   "execution_count": null,
   "id": "88de1013-a203-400c-bffe-1a5de6541c5e",
   "metadata": {
    "scrolled": true
   },
   "outputs": [],
   "source": [
    "# creating a nested list, where each inner list lists the ids in that cluster. \n",
    "lst = [v for v in Layer1.groupby('cluster')['week-turbine'].apply(list).values]\n",
    "lst = lst + [v for v in Layer2.groupby('cluster')['week-turbine'].apply(list).values]\n",
    "lst = lst + [v for v in Layer3.groupby('cluster')['week-turbine'].apply(list).values]\n",
    "lst = lst + [v for v in Layer4.groupby('cluster')['week-turbine'].apply(list).values]\n",
    "lst = lst + [v for v in Layer5.groupby('cluster')['week-turbine'].apply(list).values]\n",
    "lst = lst + [v for v in Layer6.groupby('cluster')['week-turbine'].apply(list).values]\n",
    "\n",
    "print(\"Number of clusters in total\", len(lst))\n",
    "print(\"----------------------------------------------------\")\n",
    "\n",
    "hyperedge_indices = []\n",
    "cnt = 0\n",
    "hyperedge_indices.append(cnt)\n",
    "for each in lst:\n",
    "    cnt = cnt+len(each)\n",
    "    hyperedge_indices.append(cnt)\n",
    "\n",
    "print(\"printing hyper edge indices\", hyperedge_indices)\n",
    "print(\"-----------------------------------------------------\")\n",
    "\n",
    "nodes_hyper = df_penmanshiel_per_week_median.index.tolist()\n",
    "\n",
    "hyperedges_1 = [item for sublist in lst for item in sublist]\n",
    "hyperedges = [nodes_hyper.index(i) for i in hyperedges_1]\n",
    "print(\"Hyper edges: \",hyperedges)\n",
    "print(\"-----------------------------------------------------\")\n",
    "\n",
    "num_nodes = len(nodes_hyper)\n",
    "num_nets = len(hyperedge_indices)-1\n",
    "\n",
    "print(\"Number of Nodes: \",num_nodes)\n",
    "print(\"Number of Nets: \",num_nets)"
   ]
  },
  {
   "cell_type": "code",
   "execution_count": null,
   "id": "377e136c-725b-4fb7-8b3e-577c573fec09",
   "metadata": {},
   "outputs": [],
   "source": [
    "k = 2\n",
    "# edge and node weight are not considered as they are not relavent in our case.\n",
    "# k values doesnot have a significance as we are not partitioning the hypergraph\n",
    "# using the algorithm.\n",
    "hypergraph = kahypar.Hypergraph(num_nodes, num_nets, hyperedge_indices, hyperedges, k)\n",
    "context = kahypar.Context()\n",
    "# path needs to be changed based on the location of file.\n",
    "context.loadINIconfiguration(\"cut_kKaHyPar_sea20.ini\")\n",
    "\n",
    "print(\"number of edges of hyper-graph\", hypergraph.numEdges())\n",
    "print(\"number of nodes of hyper-graph\", hypergraph.numNodes())\n",
    "print(\"number of pins of hyper-graph\", hypergraph.numPins())\n",
    "\n",
    "# for i in hypergraph.nodes():\n",
    "#     print(hypergraph.nodeDegree(i)) # degree of each node."
   ]
  },
  {
   "cell_type": "markdown",
   "id": "abe030b5-7e01-48b4-aed0-ab541532c5a8",
   "metadata": {},
   "source": [
    "#### Partitioning the hypergraph using NNS, initially identifying incident edges of each node."
   ]
  },
  {
   "cell_type": "code",
   "execution_count": null,
   "id": "e268adc7-89a8-4803-af50-f77938c9eb65",
   "metadata": {
    "scrolled": true
   },
   "outputs": [],
   "source": [
    "node_incident_edges = [] # list containg the incident edges of each node in sublist.\n",
    "for each_node in hypergraph.nodes():\n",
    "    ie = []\n",
    "    for incident_edge in hypergraph.incidentEdges(each_node):\n",
    "        ie.append(incident_edge)\n",
    "    node_incident_edges.append(ie)"
   ]
  },
  {
   "cell_type": "markdown",
   "id": "63fc9a73-d96b-4025-b945-af0e1549645c",
   "metadata": {},
   "source": [
    "##### Cluster with single element is not considered as hyperedge"
   ]
  },
  {
   "cell_type": "code",
   "execution_count": null,
   "id": "0d2b566b-f22e-407a-8fa3-0319e08ee6dd",
   "metadata": {},
   "outputs": [],
   "source": [
    "# Clusters list\n",
    "print(\"original number of clusters: \",len(lst))\n",
    "cluster_list = [sublist for sublist in lst if len(sublist) > 1]\n",
    "print(\"Clusters with respect to edges: \",len(cluster_list))"
   ]
  },
  {
   "cell_type": "code",
   "execution_count": null,
   "id": "4c43991a-c961-4cfd-a07d-5b8e7534fd2a",
   "metadata": {},
   "outputs": [],
   "source": [
    "#Obtaining the neighbourhood of each edge.\n",
    "total_edges = hypergraph.numEdges()\n",
    "\n",
    "neighbourhood = [] # neighbourhood of each edge is presented in order.\n",
    "number_neighbours = []\n",
    "for i in range(total_edges):\n",
    "    temp = []\n",
    "    for node, edges in enumerate(node_incident_edges):\n",
    "        if i in edges:\n",
    "            for e in edges:\n",
    "                temp.append(e)\n",
    "    neighbourhood.append(set(temp))\n",
    "    number_neighbours.append(len(set(temp)))\n",
    "# print(\"neighbourhood\", neighbourhood)\n",
    "print(\"number of neighbours\", number_neighbours)"
   ]
  },
  {
   "cell_type": "code",
   "execution_count": null,
   "id": "ac46ffb9-b959-4f28-bb3d-d7de6cfe5947",
   "metadata": {},
   "outputs": [],
   "source": [
    "neighbourhood"
   ]
  },
  {
   "cell_type": "code",
   "execution_count": null,
   "id": "d23610e4-ac43-44b7-bd04-489d8cf183b5",
   "metadata": {},
   "outputs": [],
   "source": [
    "layer_list_temp=[]\n",
    "for ind,key in enumerate([Layer1,Layer2,Layer3,Layer4,Layer5,Layer6]):\n",
    "    for cls in range(key[\"cluster\"].nunique()):\n",
    "        layer_list_temp.append(\"Layer\"+str(ind+1)+\"- cluster\"+str(cls+1))"
   ]
  },
  {
   "cell_type": "code",
   "execution_count": null,
   "id": "cd10eef2-760f-4852-8640-2b5fbc65a2f7",
   "metadata": {},
   "outputs": [],
   "source": [
    "# Initialize a matrix of zeros with 14 indices and 14 sets\n",
    "presence_matrix = np.zeros((len(neighbourhood), len(neighbourhood)))\n",
    "\n",
    "# Update the matrix to indicate presence of each index in each set\n",
    "for i, set_ in enumerate(neighbourhood):\n",
    "    for index in set_:\n",
    "        presence_matrix[index][i] = 1\n",
    "        \n",
    "# Create the figure\n",
    "fig = go.Figure()\n",
    "\n",
    "# Add one bar for each index\n",
    "for i in range(len(neighbourhood)):\n",
    "    fig.add_trace(go.Bar(\n",
    "        x=layer_list_temp,\n",
    "        y=presence_matrix[:, i],\n",
    "        name=layer_list_temp[i]\n",
    "    ))\n",
    "\n",
    "# Update the layout for a stacked bar chart\n",
    "fig.update_layout(\n",
    "    barmode='stack',\n",
    "    title=\"Neighbours\",\n",
    "    yaxis_title='Presence Count',\n",
    "    legend_title='HyperEdge'\n",
    ")\n",
    "\n",
    "fig.show()"
   ]
  },
  {
   "cell_type": "code",
   "execution_count": null,
   "id": "ea0afe1c-7afb-460c-b2b1-9e3a8369385d",
   "metadata": {},
   "outputs": [],
   "source": [
    "from sklearn.metrics import adjusted_mutual_info_score,adjusted_rand_score\n",
    "l_id=[1,2,3,4,5,6]\n",
    "l_name=[\"External Wind\",\"Wind positioning(internal)\",\"Drive train\",\"Gear\",\"Motor\",\"Tower\"]\n",
    "layer_data_new=[Layer1,Layer2,Layer3,Layer4,Layer5,Layer6]\n",
    "df_ami=pd.DataFrame(index=l_name,columns=l_name)\n",
    "for id,name in enumerate(l_name):\n",
    "    for subid,subname in enumerate(l_name):\n",
    "        common_points=np.intersect1d(layer_data_new[id-1][\"week-turbine\"].values,layer_data_new[subid-1][\"week-turbine\"].values)\n",
    "        df_ami.loc[name,subname]=np.round(adjusted_mutual_info_score(layer_data_new[id-1][layer_data_new[id-1][\"week-turbine\"].isin(common_points)][\"cluster\"],layer_data_new[subid-1][layer_data_new[subid-1][\"week-turbine\"].isin(common_points)][\"cluster\"]),2)\n",
    "        \n",
    "fig=px.imshow(df_ami,text_auto=True)\n",
    "fig.show()"
   ]
  },
  {
   "cell_type": "code",
   "execution_count": null,
   "id": "07432325-378a-4d82-85aa-7ea547863f02",
   "metadata": {},
   "outputs": [],
   "source": [
    "# calculating Nearest Neighbourhood Similarity\n",
    "NNS = {}\n",
    "for i in range(total_edges):\n",
    "    for j in range(i, total_edges):\n",
    "        if i != j:\n",
    "            # print(\"checking intersection of \", i, \"and\", j, \"i.e.,\", neighbourhood[i], \"and\", neighbourhood[j])\n",
    "            intersection = neighbourhood[i].intersection(neighbourhood[j])\n",
    "            if (i not in intersection) or (j not in intersection): # or condition is not required. if i is in intersection then automatically j will be in the intersection. \n",
    "                # print(i, j, intersection, neighbourhood[i], neighbourhood[j])\n",
    "                NNS[(i,j)] = 0\n",
    "            else:\n",
    "                union = neighbourhood[i].union(neighbourhood[j])\n",
    "                NNS[(i,j)] = len(intersection)/len(union)\n",
    "            # print(union)\n",
    "\n",
    "print(len(NNS))"
   ]
  },
  {
   "cell_type": "code",
   "execution_count": null,
   "id": "531b3287-38d6-44ee-8126-5a69cc5202ac",
   "metadata": {},
   "outputs": [],
   "source": [
    "cnt=0\n",
    "df_snns=pd.DataFrame(index=np.arange(0,total_edges,1),columns=np.arange(0,total_edges,1))\n",
    "for i in np.arange(0,total_edges,1):\n",
    "    for j in np.arange(0,total_edges,1):\n",
    "        if (i,j) in NNS:\n",
    "            cnt=cnt+1\n",
    "            df_snns.loc[i,j]=NNS[i,j]"
   ]
  },
  {
   "cell_type": "code",
   "execution_count": null,
   "id": "224969c8-83f6-45a3-b3db-bc851558e308",
   "metadata": {},
   "outputs": [],
   "source": [
    "df_snns"
   ]
  },
  {
   "cell_type": "markdown",
   "id": "e7a21530-94b8-40ef-9663-3ab30fd054af",
   "metadata": {},
   "source": [
    "- SImilarity score\n",
    "    - 0 means those edges donot overlap directly\n",
    "    - 1 means those edges overlap completely?"
   ]
  },
  {
   "cell_type": "code",
   "execution_count": null,
   "id": "22d71703-2122-46a9-98a3-59a9d7cba9ab",
   "metadata": {},
   "outputs": [],
   "source": [
    "# converting the similarity matrix into distance matrix.\n",
    "NNS_dist = {k: 1-v for k, v in NNS.items()}"
   ]
  },
  {
   "cell_type": "code",
   "execution_count": null,
   "id": "f113567a-914a-43cc-a547-8f2e7572f279",
   "metadata": {},
   "outputs": [],
   "source": [
    "# obtaining the distance matrix\n",
    "array_dist = []\n",
    "for i in range(total_edges):\n",
    "    temp = []\n",
    "    for j in range(total_edges):\n",
    "        if i != j:\n",
    "            temp.append(NNS_dist[(min(i, j), max(i,j))])\n",
    "        else:\n",
    "            temp.append(0)\n",
    "    array_dist.append(temp)\n",
    "# print(array)   "
   ]
  },
  {
   "cell_type": "code",
   "execution_count": null,
   "id": "2ed22b4c-ef5a-45a5-bef5-c1e6adf57d7b",
   "metadata": {},
   "outputs": [],
   "source": [
    "df_dist=pd.DataFrame(index=np.arange(0,total_edges,1),columns=np.arange(0,total_edges,1))\n",
    "for i in np.arange(0,total_edges,1):\n",
    "    for j in np.arange(0,total_edges,1):\n",
    "        # if (i<=j):\n",
    "        df_dist.loc[i,j]=np.round(array_dist[i][j],2)"
   ]
  },
  {
   "cell_type": "code",
   "execution_count": null,
   "id": "e582c6da-9c08-4eab-99fe-8a098cbc0ea0",
   "metadata": {},
   "outputs": [],
   "source": [
    "temp=df_dist.copy()\n",
    "temp.index=temp.index.astype(str)\n",
    "temp.columns=temp.columns.astype(str)\n",
    "fig=px.imshow(temp,text_auto=True)\n",
    "fig.update_layout(height=700,width=700)\n",
    "fig.show()"
   ]
  },
  {
   "cell_type": "markdown",
   "id": "5fa12bac-7758-43dc-9391-050d5ac14a56",
   "metadata": {},
   "source": [
    "- More similar (more overlapping) means less distant\n",
    "- Distance metric\n",
    "    - distance 1 means no overlap\n",
    "    - distance 0 means full overlap"
   ]
  },
  {
   "cell_type": "code",
   "execution_count": null,
   "id": "a005894a-bcea-41e3-8677-f443ba94f4fd",
   "metadata": {},
   "outputs": [],
   "source": [
    "df_dist.sum(axis=1)"
   ]
  },
  {
   "cell_type": "code",
   "execution_count": null,
   "id": "760db81f-f935-43c7-80b0-dbc4b117ca02",
   "metadata": {},
   "outputs": [],
   "source": [
    "# Similary matrix\n",
    "df_sim=1-df_dist\n",
    "df_sim"
   ]
  },
  {
   "cell_type": "markdown",
   "id": "fce8389c-7e46-4213-8924-88d187a0d6e1",
   "metadata": {},
   "source": [
    "#### KMedoids"
   ]
  },
  {
   "cell_type": "code",
   "execution_count": null,
   "id": "34210ce9-cdba-41ec-988d-a4eb5ffa7666",
   "metadata": {},
   "outputs": [],
   "source": [
    "# Clustering using KMedoids, and calculated distance matrix based on NNS\n",
    "from sklearn_extra.cluster import KMedoids\n",
    "\n",
    "silhouette_score = []\n",
    "labels_kmedoids = []\n",
    "for num_clusters in range(2, total_edges):\n",
    "    kmedoids_ = KMedoids(n_clusters=num_clusters, metric='precomputed', method='pam', init='k-medoids++', random_state=0).fit_predict(np.array(array_dist))\n",
    "    # print(kmedoids_)\n",
    "    hy_sorted_cluster = []\n",
    "    for _ in range(num_clusters):\n",
    "        hy_sorted_cluster.extend(np.where(kmedoids_ == _)[0].tolist())\n",
    "\n",
    "    heat_map = []\n",
    "    for i in hy_sorted_cluster:\n",
    "        temp = []\n",
    "        for j in hy_sorted_cluster:\n",
    "            if i != j:\n",
    "                temp.append(NNS_dist[(min(i, j), max(i,j))])\n",
    "            else:\n",
    "                temp.append(0)\n",
    "        heat_map.append(temp)\n",
    "        \n",
    "\n",
    "    silhouette_score.append(metrics.silhouette_score(array_dist, kmedoids_, metric=\"precomputed\"))\n",
    "    labels_kmedoids.append(kmedoids_)\n",
    "\n",
    "    index_heatmap = kmedoids_.copy()\n",
    "    index_heatmap.sort()\n",
    "    dataframe_heat_map = pd.DataFrame(heat_map, index=index_heatmap, columns=index_heatmap)"
   ]
  },
  {
   "cell_type": "code",
   "execution_count": null,
   "id": "946c5037-4e51-4f58-9a07-4f920837e04c",
   "metadata": {},
   "outputs": [],
   "source": [
    "i_ = 2\n",
    "for each in silhouette_score:\n",
    "    print(i_, each)\n",
    "    i_ = i_+1"
   ]
  },
  {
   "cell_type": "code",
   "execution_count": null,
   "id": "cc4d4562-4e51-4d12-8d90-cf7dbb33163f",
   "metadata": {},
   "outputs": [],
   "source": [
    "plt.plot(range(2,total_edges), silhouette_score)\n",
    "plt.ylabel(\"silhouette score\")\n",
    "plt.xlabel(\"number of clusters\")"
   ]
  },
  {
   "cell_type": "markdown",
   "id": "365c1ace-0a10-4c24-b702-29ff6d9f3a7e",
   "metadata": {},
   "source": [
    "#### KMeans"
   ]
  },
  {
   "cell_type": "code",
   "execution_count": null,
   "id": "4fb56e36-6f84-402d-b3e0-eec61b8e7fc2",
   "metadata": {
    "scrolled": true
   },
   "outputs": [],
   "source": [
    "cvm.find_optimal_number_of_clusters(array_dist, algorithm=KMeans, display= True, seed= 0, col_wrap=4 ,score_metrics = ['silhouette_score',\n",
    "                             'calinski_harabasz_score',\n",
    "                             'davies_bouldin_score',\n",
    "                             'connectivity_score'], max_number_clusters=total_edges-1)"
   ]
  },
  {
   "cell_type": "markdown",
   "id": "57dbb208-325e-45e6-9abf-6a6f11ae9035",
   "metadata": {},
   "source": [
    "#### Agglomerative Clustering"
   ]
  },
  {
   "cell_type": "code",
   "execution_count": null,
   "id": "f8d4f167-b582-44a1-9878-c40b1184bb56",
   "metadata": {},
   "outputs": [],
   "source": [
    "from scipy.cluster.hierarchy import dendrogram, linkage\n",
    "Z = linkage(np.array(array_dist), method='ward')\n",
    "\n",
    "# Plot the dendrogram\n",
    "plt.figure(figsize=(10, 5))\n",
    "dendrogram(Z)\n",
    "plt.xlabel('Sample Index')\n",
    "plt.ylabel('Distance')\n",
    "plt.show()"
   ]
  },
  {
   "cell_type": "code",
   "execution_count": null,
   "id": "b1c71d0d-0ff1-4452-9eec-e242ed518a26",
   "metadata": {
    "scrolled": true
   },
   "outputs": [],
   "source": [
    "cvm.find_optimal_number_of_clusters(array_dist, algorithm=AgglomerativeClustering, display= True, seed= 0, col_wrap=4 ,score_metrics = ['silhouette_score',\n",
    "                             'calinski_harabasz_score',\n",
    "                             'davies_bouldin_score',\n",
    "                             'connectivity_score'], max_number_clusters=total_edges-1)"
   ]
  },
  {
   "cell_type": "markdown",
   "id": "17776d90-3e04-4bac-b20c-7772fc792eec",
   "metadata": {},
   "source": [
    "### KMedoids\n",
    "Based on best silhouette score, KMedoids is chosen"
   ]
  },
  {
   "cell_type": "code",
   "execution_count": null,
   "id": "a4c79573-cae5-4c55-badd-a8e3de7fce7f",
   "metadata": {},
   "outputs": [],
   "source": [
    "kmeans = KMedoids(n_clusters=5, metric='precomputed', method='pam', init='k-medoids++', random_state=0).fit_predict(np.array(array_dist))\n",
    "dict_clusters = {0: [], 1:[], 2:[],3:[],4:[]}\n",
    "for index, each in enumerate(kmeans):\n",
    "    dict_clusters[each].append(index)\n",
    "print(dict_clusters)"
   ]
  },
  {
   "cell_type": "code",
   "execution_count": null,
   "id": "8333dfa9-fdda-4074-a3be-ec0a2da83084",
   "metadata": {},
   "outputs": [],
   "source": [
    "def generate_final_clusters(final_clusters1, hypergraph1, method):\n",
    "    # mapping hyperedges to data objects to obtain the clustering solution of data objects\n",
    "    temp_del = 0\n",
    "    clustering_nodes = {}\n",
    "    for key, val in final_clusters1.items():\n",
    "        if method == 'donot_inc_key_in_cluster':\n",
    "            pins_center = []\n",
    "        elif method == \"inc_key_in_cluster\":\n",
    "            pins_center = list(hypergraph1.pins(key))\n",
    "        \n",
    "        for _ in val:\n",
    "            pins_center.extend(list(hypergraph1.pins(_)))\n",
    "        clustering_nodes[key] = set(pins_center)\n",
    "        temp_del = temp_del + len(set(pins_center))\n",
    "\n",
    "    if Debug == True:\n",
    "        print(\"clustering of data objects\", clustering_nodes) # dict, key = center(hyperedge), values = data objects\n",
    "    \n",
    "    # replacing the index of the data object with its short id\n",
    "    clus_nodes_short_id = {}\n",
    "    for key, val in clustering_nodes.items():\n",
    "        # print(val)\n",
    "        clus_nodes_short_id[key] = {nodes_hyper[x] for x in val} # note that sets are not ordered\n",
    "\n",
    "    if Debug == True:\n",
    "        print(\"clustering solution, key = center (hyperedge), val = set of short_ids\")\n",
    "        print(clus_nodes_short_id)\n",
    "    return clus_nodes_short_id"
   ]
  },
  {
   "cell_type": "code",
   "execution_count": null,
   "id": "6edbb770-06da-469d-bac1-cb78c7ac8d23",
   "metadata": {},
   "outputs": [],
   "source": [
    "Debug = False\n",
    "clus_sol = generate_final_clusters(dict_clusters, hypergraph, 'donot_inc_key_in_cluster')\n",
    "# print(clus_sol) # clus_sol is the final clustering solution based on k-medoids based method. key: cluster number, value: data objects in cluster"
   ]
  },
  {
   "cell_type": "code",
   "execution_count": null,
   "id": "39ddada8-e4cc-44ea-a800-6a393a6a41b9",
   "metadata": {},
   "outputs": [],
   "source": [
    "cluster_objects_list=[list(value) for value in clus_sol.values()]"
   ]
  },
  {
   "cell_type": "code",
   "execution_count": null,
   "id": "81091884-6421-439a-b8fc-9240673cb260",
   "metadata": {},
   "outputs": [],
   "source": [
    "for key in clus_sol.keys():\n",
    "    print(str(key) +\" : \"+str(len(list(clus_sol[key]))))"
   ]
  },
  {
   "cell_type": "code",
   "execution_count": null,
   "id": "0c09f121-416e-4874-b3a8-ebe5f907b40b",
   "metadata": {},
   "outputs": [],
   "source": [
    "fig=go.Figure()\n",
    "for key in clus_sol.keys():\n",
    "    temp=df_penmanshiel_per_week_median.reset_index().copy()\n",
    "    temp=temp[temp[\"week-turbine\"].isin(list(clus_sol[key]))].copy()\n",
    "\n",
    "    fig.add_trace(go.Box(y=temp['Power (kW)'], name='E'+str(key)))\n",
    "\n",
    "fig.update_layout(title=\"Active power\")\n",
    "# fig.update_xaxes(title=\"Cluster\")\n",
    "fig.update_yaxes(title=\"Power (kW)\")\n",
    "fig.show()"
   ]
  },
  {
   "cell_type": "code",
   "execution_count": null,
   "id": "063fbd5d-26c0-4152-a4ae-710ebd75c8ed",
   "metadata": {
    "scrolled": true
   },
   "outputs": [],
   "source": [
    "for col in ['Long Term Wind (m/s)', 'Wind direction u', 'Wind direction v',\n",
    "       'Nacelle position cos', 'Nacelle position sin', 'Vane position 1+2 cos',\n",
    "       'Vane position 1+2 sin', 'Blade Angle (pitch position) cos',\n",
    "       'Blade Angle (pitch position) sin',\n",
    "       'Generator bearing rear temperature (°C)',\n",
    "       'Generator bearing front temperature (°C)', 'Generator RPM (RPM)',\n",
    "       'Rotor bearing temp (°C)', 'Drive train acceleration (mm/ss)',\n",
    "       'Gear oil temperature (°C)', 'Gear oil inlet temperature (°C)',\n",
    "       'Gear oil pump pressure (bar)', 'Motor temperature (°C)',\n",
    "       'Motor current (A)', 'Tower Acceleration X (mm/ss)',\n",
    "       'Tower Acceleration y (mm/ss)']:\n",
    "    fig=go.Figure()\n",
    "    for key in clus_sol.keys():\n",
    "        temp=df_penmanshiel_per_week_median.reset_index().copy()\n",
    "        temp=temp[temp[\"week-turbine\"].isin(list(clus_sol[key]))].copy()\n",
    "        fig.add_trace(go.Box(y=temp[col], name=str(key)))\n",
    "    \n",
    "    fig.update_layout(title=col)\n",
    "    fig.show()"
   ]
  },
  {
   "cell_type": "markdown",
   "id": "fdc4a14e-353d-4f01-8682-96201783b1e3",
   "metadata": {},
   "source": [
    "### Cluster wise analysis"
   ]
  },
  {
   "cell_type": "code",
   "execution_count": null,
   "id": "7f44dd44-f6f1-4f6d-9e61-659bc0d8b062",
   "metadata": {
    "scrolled": true
   },
   "outputs": [],
   "source": [
    "for key in clus_sol.keys():\n",
    "    print(\"Cluster: \",key)\n",
    "    print(str(len(list(clus_sol[key]))) +\" turbine-week pairs\")\n",
    "    temp=df_penmanshiel_per_week_median.loc[list(clus_sol[key])]\n",
    "    print(\"Number of turbines: \",temp[\"Turbine\"].nunique())\n",
    "    print(\"Number of unique weeks: \",temp[\"week\"].nunique())\n",
    "          \n",
    "    fig=px.bar(temp[\"Turbine\"].values,color=temp[\"week\"].astype(str).values)\n",
    "    fig.update_xaxes(title=\"Turbine\")\n",
    "    fig.update_layout(legend_title_text=\"Week\")\n",
    "    fig.show()"
   ]
  },
  {
   "cell_type": "code",
   "execution_count": null,
   "id": "13c3102c-ad0a-4ea7-883b-fc1e7e8df9e6",
   "metadata": {},
   "outputs": [],
   "source": [
    "df_clus_stats=pd.DataFrame(index=clus_sol.keys(),columns=['Wind direction u', 'Wind direction v',\n",
    "       'Nacelle position cos', 'Nacelle position sin', 'Vane position 1+2 cos',\n",
    "       'Vane position 1+2 sin', 'Blade Angle (pitch position) cos',\n",
    "       'Blade Angle (pitch position) sin',\n",
    "       'Generator bearing rear temperature (°C)',\n",
    "       'Generator bearing front temperature (°C)', 'Generator RPM (RPM)',\n",
    "       'Rotor bearing temp (°C)', 'Drive train acceleration (mm/ss)',\n",
    "       'Gear oil temperature (°C)', 'Gear oil inlet temperature (°C)',\n",
    "       'Gear oil pump pressure (bar)', 'Motor temperature (°C)',\n",
    "       'Motor current (A)', 'Tower Acceleration X (mm/ss)',\n",
    "       'Tower Acceleration y (mm/ss)', 'Power (kW)'])\n",
    "for ind,row in df_clus_stats.iterrows():\n",
    "    temp=df_penmanshiel_per_week_median.reset_index().copy()\n",
    "    temp=temp[temp[\"week-turbine\"].isin(list(clus_sol[ind]))].copy()\n",
    "    df_clus_stats.loc[ind]=temp[df_clus_stats.columns].median()\n",
    "\n",
    "df_clus_stats.index=df_clus_stats.index.astype(str)"
   ]
  },
  {
   "cell_type": "code",
   "execution_count": null,
   "id": "1cee4b37-ab66-4f9c-ba55-64681d8c365e",
   "metadata": {},
   "outputs": [],
   "source": [
    "temp=pd.DataFrame(MinMaxScaler().fit_transform(df_clus_stats), columns=df_clus_stats.columns, index=df_clus_stats.index)\n",
    "temp=temp.round(2)\n",
    "temp=temp.astype(str)\n",
    "temp.index=\"E\"+temp.index\n",
    "temp=temp.iloc[1::]\n",
    "fig = px.imshow(temp.drop(\"Power (kW)\",axis=1),text_auto=True,labels=dict(y=\"Elementary mode\"))\n",
    "# fig = px.imshow(df_clus_stats,labels=dict(x=\"Week\", y=\"Cluster\", aspect=\"auto\"))\n",
    "fig.update_layout(height=800,width=1000,coloraxis_showscale=False)\n",
    "fig.show()"
   ]
  },
  {
   "cell_type": "markdown",
   "id": "ec9b8a8d-f4e6-4bc2-bd9d-0b11b43bd312",
   "metadata": {
    "jp-MarkdownHeadingCollapsed": true
   },
   "source": [
    "#### KPI"
   ]
  },
  {
   "cell_type": "code",
   "execution_count": null,
   "id": "13088e61-bb13-4ffc-b3ea-502b5727a876",
   "metadata": {},
   "outputs": [],
   "source": [
    "df_penmanshiel_kpi=df_penmanshiel_filtered[['Datetime','Turbine', 'Wind direction (°)','Wind speed (m/s)','Blade angle (pitch position) (°)',\n",
    "  'Vane position 1+2 (°)', 'Nacelle position (°)',                                        \n",
    " 'Generator bearing rear temperature (°C)','Generator bearing front temperature (°C)','Generator RPM (RPM)','Rotor bearing temp (°C)','Drive train acceleration (mm/ss)',\n",
    " 'Gear oil temperature (°C)','Gear oil inlet temperature (°C)','Gear oil pump pressure (bar)',\n",
    " 'Motor temperature (°C)','Motor current (A)',\n",
    " 'Tower Acceleration X (mm/ss)','Tower Acceleration y (mm/ss)',\n",
    "'Power (kW)','Reactive power (kvar)','Apparent power (kVA)','Potential power default PC (kW)','Potential power reference turbines (kW)', 'Potential power estimated (kW)','Reactive power (kvar)',\n",
    "'Energy Export (kWh)','Energy Import (kWh)','Energy Theoretical (kWh)','Potential Power Energy Budget (kW)',\n",
    "'Grid voltage (V)','Grid current (A)','Grid frequency (Hz)',\n",
    "'Power factor (cosphi)','Capacity factor','Production Factor']].copy()"
   ]
  },
  {
   "cell_type": "code",
   "execution_count": null,
   "id": "5fd9ff8b-857b-4385-9f46-d19feb9fa2bb",
   "metadata": {},
   "outputs": [],
   "source": [
    "df_penmanshiel_kpi_per_week_median = df_penmanshiel_kpi.groupby([pd.Grouper(key='Datetime', freq='7D'),'Turbine']).median()"
   ]
  },
  {
   "cell_type": "code",
   "execution_count": null,
   "id": "85e22acb-bc7e-4614-8635-06c320d04e15",
   "metadata": {},
   "outputs": [],
   "source": [
    "df_penmanshiel_kpi_per_week_median[\"Datetime\"]=df_penmanshiel_kpi_per_week_median.index.get_level_values(0)\n",
    "df_penmanshiel_kpi_per_week_median[\"week\"]=df_penmanshiel_kpi_per_week_median.index.get_level_values(0)\n",
    "df_penmanshiel_kpi_per_week_median[\"week\"]=pd.factorize(df_penmanshiel_kpi_per_week_median['week'])[0]\n",
    "df_penmanshiel_kpi_per_week_median[\"week\"]=df_penmanshiel_kpi_per_week_median[\"week\"]+1\n",
    "\n",
    "df_penmanshiel_kpi_per_week_median[\"Turbine\"]=df_penmanshiel_kpi_per_week_median.index.get_level_values(1)\n",
    "\n",
    "df_penmanshiel_kpi_per_week_median[\"week-turbine\"]=\"W\"+df_penmanshiel_kpi_per_week_median[\"week\"].astype(str)+\":\"+df_penmanshiel_kpi_per_week_median[\"Turbine\"]"
   ]
  },
  {
   "cell_type": "code",
   "execution_count": null,
   "id": "d722e076-4714-4137-9211-7617a10ece08",
   "metadata": {},
   "outputs": [],
   "source": [
    "df_penmanshiel_kpi_per_week_median.set_index([\"week-turbine\"],inplace=True)"
   ]
  },
  {
   "cell_type": "code",
   "execution_count": null,
   "id": "9ce5e017-fb1a-4231-82c2-23268c91ca21",
   "metadata": {},
   "outputs": [],
   "source": [
    "temp=df_penmanshiel_kpi_per_week_median.reset_index().copy()"
   ]
  },
  {
   "cell_type": "code",
   "execution_count": null,
   "id": "cbbd91a8-4269-446f-a3e9-20b5fc90dcd0",
   "metadata": {},
   "outputs": [],
   "source": [
    "df_clus_stats_kpi=pd.DataFrame(index=clus_sol.keys(),columns=['Power (kW)','Apparent power (kVA)','Potential power reference turbines (kW)',\n",
    "                                                              'Energy Export (kWh)','Energy Import (kWh)','Energy Theoretical (kWh)',\n",
    "                                                              'Grid voltage (V)','Grid current (A)','Grid frequency (Hz)',\n",
    "                                                              'Power factor (cosphi)','Capacity factor','Production Factor'])\n",
    "for ind,row in df_clus_stats_kpi.iterrows():\n",
    "    temp=df_penmanshiel_kpi_per_week_median.reset_index().copy()\n",
    "    temp=temp[temp[\"week-turbine\"].isin(list(clus_sol[ind]))].copy()\n",
    "    df_clus_stats_kpi.loc[ind]=temp[df_clus_stats_kpi.columns].median()\n",
    "\n",
    "df_clus_stats_kpi.index=df_clus_stats_kpi.index.astype(str)"
   ]
  },
  {
   "cell_type": "code",
   "execution_count": null,
   "id": "f064e7eb-8390-4ebd-a5a0-ab8c3fea147e",
   "metadata": {},
   "outputs": [],
   "source": [
    "temp=pd.DataFrame(MinMaxScaler().fit_transform(df_clus_stats_kpi), columns=df_clus_stats_kpi.columns, index=df_clus_stats_kpi.index)\n",
    "temp=temp.round(2)\n",
    "temp=temp.astype(str)\n",
    "fig = px.imshow(temp.dropna(),text_auto=True,labels=dict(y=\"Cluster\"))\n",
    "# fig = px.imshow(df_clus_stats,labels=dict(x=\"Week\", y=\"Cluster\", aspect=\"auto\"))\n",
    "fig.update_layout(height=800,width=1000,coloraxis_showscale=False)\n",
    "fig.show()"
   ]
  },
  {
   "cell_type": "markdown",
   "id": "3e08a6e6-f02a-431e-8667-6fd4aed9006c",
   "metadata": {
    "jp-MarkdownHeadingCollapsed": true
   },
   "source": [
    "### Week wise analysis"
   ]
  },
  {
   "cell_type": "code",
   "execution_count": null,
   "id": "2959155b-1199-468a-b7b0-d5c1620b5a71",
   "metadata": {},
   "outputs": [],
   "source": [
    "week_cluster={}\n",
    "for w_id in np.arange(1,54,1):\n",
    "    clst_lst=[]\n",
    "    for key in clus_sol.keys():\n",
    "        lst=[element for element in list(clus_sol[key]) if \"W\"+str(w_id)+\":\" in element]\n",
    "        if (len(lst)!=0):\n",
    "            clst_lst.append(key)\n",
    "    week_cluster[w_id]=clst_lst\n",
    "\n",
    "\n",
    "turbine_cluster={}\n",
    "for turb in df_penmanshiel_per_week_median[\"Turbine\"].unique():\n",
    "    clst_lst=[]\n",
    "    for key in clus_sol.keys():\n",
    "        lst=[element for element in list(clus_sol[key]) if turb in element]\n",
    "        if (len(lst)!=0):\n",
    "            clst_lst.append(key)\n",
    "    turbine_cluster[turb]=clst_lst"
   ]
  },
  {
   "cell_type": "code",
   "execution_count": null,
   "id": "a8b8bc0e-a024-4cca-9c5a-e6daa733a361",
   "metadata": {},
   "outputs": [],
   "source": [
    "df_week_cluster=pd.DataFrame(str(0),index=list(week_cluster.keys()),columns=np.arange(0,len(clus_sol.keys()),1))\n",
    "for ind,row in df_week_cluster.iterrows():\n",
    "    df_week_cluster.loc[ind,week_cluster[ind]]=str(1)\n",
    "df_week_cluster.index=df_week_cluster.index.astype(str)\n",
    "df_week_cluster.columns=df_week_cluster.columns.astype(str)\n",
    "\n",
    "\n",
    "df_turbine_cluster=pd.DataFrame(str(0),index=list(turbine_cluster.keys()),columns=np.arange(0,len(clus_sol.keys()),1))\n",
    "for ind,row in df_turbine_cluster.iterrows():\n",
    "    df_turbine_cluster.loc[ind,turbine_cluster[ind]]=str(1)\n",
    "df_turbine_cluster.index=df_turbine_cluster.index.astype(str)\n",
    "df_turbine_cluster.columns=df_turbine_cluster.columns.astype(str)"
   ]
  },
  {
   "cell_type": "code",
   "execution_count": null,
   "id": "1f106370-15c3-4068-adc8-beb78527a8d5",
   "metadata": {},
   "outputs": [],
   "source": [
    "fig = px.imshow(df_week_cluster.T,labels=dict(x=\"Week\", y=\"Cluster\", color=\"Presence\",aspect=\"auto\"))\n",
    "# fig.update_layout(height=700)\n",
    "fig.show()\n",
    "\n",
    "fig = px.imshow(df_turbine_cluster.T,labels=dict(x=\"Turbine\", y=\"Cluster\", color=\"Presence\",aspect=\"auto\"))\n",
    "# fig.update_layout(height=500)\n",
    "fig.show()"
   ]
  },
  {
   "cell_type": "code",
   "execution_count": null,
   "id": "4fb0095a-0e48-4ecd-840f-1a4deec7c758",
   "metadata": {},
   "outputs": [],
   "source": []
  },
  {
   "cell_type": "markdown",
   "id": "2aace594-f1c9-4fda-801c-2cdce3029528",
   "metadata": {},
   "source": [
    "## Detection and evolution analysis of composite modes"
   ]
  },
  {
   "cell_type": "markdown",
   "id": "5bd1634c-6823-4601-9ebe-0c54f7bc55b2",
   "metadata": {},
   "source": [
    "### Formal Concept Analysis"
   ]
  },
  {
   "cell_type": "code",
   "execution_count": null,
   "id": "dacd2e62-597f-4e9d-a90d-3c99786f1a18",
   "metadata": {},
   "outputs": [],
   "source": [
    "df_fca=pd.DataFrame(index=df_penmanshiel_per_week_median.index.astype(str),columns=clus_sol.keys())\n",
    "for ind,row in df_fca.iterrows():\n",
    "    for clus in row.index:\n",
    "        if (ind in list(clus_sol[clus])):\n",
    "            df_fca.loc[ind,clus]=True\n",
    "        else:\n",
    "            df_fca.loc[ind,clus]=False\n",
    "df_fca.columns=df_fca.columns.astype(str)\n",
    "df_fca.columns=\"E\"+df_fca.columns"
   ]
  },
  {
   "cell_type": "code",
   "execution_count": null,
   "id": "cfa7edc8-312d-4543-982d-8063fe4518c7",
   "metadata": {},
   "outputs": [],
   "source": [
    "len(df_fca)"
   ]
  },
  {
   "cell_type": "code",
   "execution_count": null,
   "id": "24c47e3b-1a87-4441-9bc3-93e6534d2073",
   "metadata": {},
   "outputs": [],
   "source": [
    "df_fca.dropna(inplace=True)"
   ]
  },
  {
   "cell_type": "code",
   "execution_count": null,
   "id": "646ad541-8feb-4988-ac84-0d939e9fed4d",
   "metadata": {},
   "outputs": [],
   "source": [
    "from fcapy.context import FormalContext\n",
    "K = FormalContext.from_pandas(pd.DataFrame(df_fca))\n",
    "\n",
    "from fcapy.lattice import ConceptLattice\n",
    "L = ConceptLattice.from_context(K)\n",
    "\n",
    "from fcapy.visualizer import LineVizNx\n",
    "fig, ax = plt.subplots(figsize=(10, 5))\n",
    "vsl = LineVizNx()\n",
    "vsl.draw_concept_lattice(L, ax=ax, flg_node_indices=True,flg_new_intent_count_prefix=False)\n",
    "ax.set_title('')\n",
    "plt.tight_layout()\n",
    "plt.savefig(\"fca.png\")\n",
    "plt.show()"
   ]
  },
  {
   "cell_type": "code",
   "execution_count": null,
   "id": "f0459bc6-819a-420d-bbb6-11b342e9c105",
   "metadata": {},
   "outputs": [],
   "source": [
    "for concept in L:\n",
    "    print(f'Concept with attributes {concept.intent}: {len(concept.extent)} instances')"
   ]
  },
  {
   "cell_type": "code",
   "execution_count": null,
   "id": "f8c879c7-620c-41e8-b762-e360c779744d",
   "metadata": {},
   "outputs": [],
   "source": [
    "df_week_turbine_plot=pd.DataFrame(index=df_week_cluster.index.astype(int),columns=df_turbine_cluster.index)\n",
    "unique_combination=[]\n",
    "for w_id in np.arange(1,54,1):\n",
    "    for t_id in df_turbine_cluster.index:\n",
    "        week_turb= \"W\"+str(w_id)+\":\"+t_id \n",
    "        comb = [key for key, values in clus_sol.items() if week_turb in values]\n",
    "        df_week_turbine_plot.loc[w_id,t_id]=comb\n",
    "        if comb not in unique_combination:\n",
    "            unique_combination.append(comb)"
   ]
  },
  {
   "cell_type": "code",
   "execution_count": null,
   "id": "b006e31e-93c3-4443-8db6-7fb8deca79f7",
   "metadata": {},
   "outputs": [],
   "source": [
    "unique_dict=dict(zip(np.arange(100,100+len(unique_combination)+1,1), unique_combination))\n",
    "unique_dict={tuple(value): key for key, value in unique_dict.items()}\n",
    "unique_dict"
   ]
  },
  {
   "cell_type": "code",
   "execution_count": null,
   "id": "8ff0a5ec-fc21-4f32-94d3-f7aff433a6dd",
   "metadata": {},
   "outputs": [],
   "source": [
    "df_week_turbine_plot_id=df_week_turbine_plot.copy()\n",
    "for ind,row in df_week_turbine_plot_id.iterrows():\n",
    "    for col in df_week_turbine_plot_id.columns:\n",
    "        df_week_turbine_plot_id.loc[ind,col]=unique_dict[tuple(df_week_turbine_plot_id.loc[ind,col])]"
   ]
  },
  {
   "cell_type": "code",
   "execution_count": null,
   "id": "63a0c239-f487-4cff-98ee-36f49af4a26b",
   "metadata": {},
   "outputs": [],
   "source": [
    "df_week_turbine_plot_id.index=df_week_turbine_plot_id.index.astype(str)\n",
    "df_week_turbine_plot_id=df_week_turbine_plot_id.astype(int).astype(str)\n",
    "fig = px.imshow(df_week_turbine_plot_id.T,labels=dict(x=\"Week\", y=\"Turbine\"))\n",
    "fig.update_layout(height=500)\n",
    "fig.show()\n",
    "unique_dict"
   ]
  },
  {
   "cell_type": "code",
   "execution_count": null,
   "id": "cf4f0342-ece1-4b9d-8cec-7c58e0fc8c77",
   "metadata": {},
   "outputs": [],
   "source": [
    "# df_week_turbine_plot_id.replace(\"100\",3,inplace=True)\n",
    "# df_week_turbine_plot_id.replace(\"101\",1,inplace=True)\n",
    "# df_week_turbine_plot_id.replace(\"102\",6,inplace=True)\n",
    "# df_week_turbine_plot_id.replace(\"103\",5,inplace=True)\n",
    "# df_week_turbine_plot_id.replace(\"104\",4,inplace=True)\n",
    "# df_week_turbine_plot_id.replace(\"105\",8,inplace=True)\n",
    "# df_week_turbine_plot_id.replace(\"106\",7,inplace=True)\n",
    "# df_week_turbine_plot_id.replace(\"107\",2,inplace=True)"
   ]
  },
  {
   "cell_type": "code",
   "execution_count": null,
   "id": "2317d561-fa61-4be3-834a-5a953f084c97",
   "metadata": {},
   "outputs": [],
   "source": [
    "# fig = px.imshow(df_week_turbine_plot_id.T,labels=dict(x=\"Week\", y=\"Turbine\"),text_auto=True)\n",
    "# fig.update_layout(height=500)\n",
    "# fig.show()\n",
    "# unique_dict"
   ]
  },
  {
   "cell_type": "code",
   "execution_count": null,
   "id": "cc190b7b-7cd9-422e-bac6-1a5749f3efca",
   "metadata": {},
   "outputs": [],
   "source": []
  },
  {
   "cell_type": "code",
   "execution_count": null,
   "id": "158c1d08-ad6f-4d04-9133-a032779e71a5",
   "metadata": {},
   "outputs": [],
   "source": [
    "df_fca_temp=df_fca.copy()\n",
    "df_fca_temp['Cluster_Count'] = df_fca_temp.sum(axis=1)\n",
    "\n",
    "# Prepare data for plotting\n",
    "cluster_data = []\n",
    "for cluster in df_fca_temp.columns[:-1]:  # exclude 'Cluster_Count'\n",
    "    cluster_members = df_fca_temp[df_fca[cluster]]\n",
    "    for count in cluster_members['Cluster_Count'].unique():\n",
    "        cluster_data.append({\n",
    "            'Cluster': cluster,\n",
    "            'Datapoints': (cluster_members['Cluster_Count'] == count).sum(),\n",
    "            'Cluster Membership Count': count\n",
    "        })\n",
    "\n",
    "plot_data = pd.DataFrame(cluster_data)\n",
    "plot_data[\"Cluster Membership Count\"]=plot_data[\"Cluster Membership Count\"].astype(str)\n",
    "plot_data[\"Cluster\"]=\"E\"+plot_data[\"Cluster\"]\n",
    "# Create the plot\n",
    "fig = px.bar(plot_data, y='Cluster', x='Datapoints', \n",
    "             color='Cluster Membership Count', orientation='h',\n",
    "             labels={'Datapoints': 'Number of Datapoints', 'Cluster Membership Count': 'Number of elementary mode a datapoint belongs to'},\n",
    "             color_continuous_scale=px.colors.sequential.Viridis,text='Datapoints',text_auto=True)\n",
    "fig.update_layout(xaxis_title='Number of Datapoints', yaxis_title='Elementary mode',legend=dict(x=0.5, y=0.9))\n",
    "fig.update_traces(texttemplate='%{text}',textposition='inside')\n",
    "fig.show()"
   ]
  },
  {
   "cell_type": "code",
   "execution_count": null,
   "id": "682e10f4-d4b9-430d-809f-ff3ffd2991ea",
   "metadata": {},
   "outputs": [],
   "source": [
    "temp=df_penmanshiel_per_week_median\n",
    "temp[\"cluster\"]=None\n",
    "for ind,row in temp.iterrows():\n",
    "    wk=ind.split(\":\")[0].split(\"W\")[1]\n",
    "    tb=ind.split(\":\")[1]\n",
    "    temp.loc[ind,\"cluster\"]=df_week_turbine_plot_id.loc[wk,tb]\n",
    "temp.reset_index(inplace=True)"
   ]
  },
  {
   "cell_type": "markdown",
   "id": "03746116-70ce-41d2-a1a6-27daf96ed04a",
   "metadata": {},
   "source": [
    "##### Adjusted mutual information score"
   ]
  },
  {
   "cell_type": "code",
   "execution_count": null,
   "id": "3525ce59-33a7-46fd-893f-adb94e48a5d1",
   "metadata": {},
   "outputs": [],
   "source": [
    "from sklearn.metrics import adjusted_mutual_info_score,adjusted_rand_score\n",
    "l_id=[1,2,3,4,5,6,7]\n",
    "l_name=[\"External Wind\",\"Wind positioning(internal)\",\"Drive train\",\"Gear\",\"Motor\",\"Tower\",\"Hypercluster\"]\n",
    "layer_data_new=[Layer1,Layer2,Layer3,Layer4,Layer5,Layer6,temp[[\"cluster\",\"week-turbine\"]]]\n",
    "df_ami=pd.DataFrame(index=l_name,columns=l_name)\n",
    "for id,name in enumerate(l_name):\n",
    "    for subid,subname in enumerate(l_name):\n",
    "        common_points=np.intersect1d(layer_data_new[id-1][\"week-turbine\"].values,layer_data_new[subid-1][\"week-turbine\"].values)\n",
    "        df_ami.loc[name,subname]=np.round(adjusted_mutual_info_score(layer_data_new[id-1][layer_data_new[id-1][\"week-turbine\"].isin(common_points)][\"cluster\"],layer_data_new[subid-1][layer_data_new[subid-1][\"week-turbine\"].isin(common_points)][\"cluster\"]),2)\n",
    "        \n",
    "fig=px.imshow(df_ami,text_auto=True)\n",
    "fig.show()"
   ]
  }
 ],
 "metadata": {
  "kernelspec": {
   "display_name": "Python 3 (ipykernel)",
   "language": "python",
   "name": "python3"
  },
  "language_info": {
   "codemirror_mode": {
    "name": "ipython",
    "version": 3
   },
   "file_extension": ".py",
   "mimetype": "text/x-python",
   "name": "python",
   "nbconvert_exporter": "python",
   "pygments_lexer": "ipython3",
   "version": "3.11.0rc1"
  }
 },
 "nbformat": 4,
 "nbformat_minor": 5
}
